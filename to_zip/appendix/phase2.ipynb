{
 "metadata": {
  "language_info": {
   "codemirror_mode": {
    "name": "ipython",
    "version": 3
   },
   "file_extension": ".py",
   "mimetype": "text/x-python",
   "name": "python",
   "nbconvert_exporter": "python",
   "pygments_lexer": "ipython3",
   "version": "3.8.3"
  },
  "orig_nbformat": 2,
  "kernelspec": {
   "name": "python383jvsc74a57bd0f62ec7ccb9190cdf7c696339bf5a0173a2767af81ddd8dbdd8c4c12684be5b27",
   "display_name": "Python 3.8.3 64-bit ('info3350': conda)"
  },
  "metadata": {
   "interpreter": {
    "hash": "f62ec7ccb9190cdf7c696339bf5a0173a2767af81ddd8dbdd8c4c12684be5b27"
   }
  }
 },
 "nbformat": 4,
 "nbformat_minor": 2,
 "cells": [
  {
   "source": [
    "# Phase 2\n",
    "\n",
    "By Asher Lipman, Cianna Chairez, Allie Pultorak, and Carrie Kim  "
   ],
   "cell_type": "markdown",
   "metadata": {}
  },
  {
   "source": [
    "## Research Questions\n",
    "\n",
    "Our research project seeks to investigate the role that villains play in classical-style mystery \"whodunit\" movies throughout the 20th and early 21st centuries. While their existence and importance within this genre are without debate, there hasn't been much analysis regarding the structural role they play in these movies, how they differ from other characters besides \"they get caught in the end\", or how they might share similar characteristics even across movies. Specifically, we desire to explore the three questions below: \n",
    "\n",
    "- How does the time period during which the movie was released have an impact on how villains in archetypally typical mystery movies are portrayed (how they speak and act)? \n",
    "\n",
    "- Do villains have patterns of speech or content they bring up that are noticably different from other characters in their films? (for example: Do patterns of word/phrase usage emerge? Are villains routinely portraying a certain sentiment or showing feelings of guilt?)\n",
    "\n",
    "- As a combination of both of those questions, how do the two aspects discussed here interact with each other? Do the patterns of villain behavior identified in movies change over time?\n",
    "\n",
    "- Do villains more closely resemble villains from other movies or their supporting cast in the same movie. In other words, is there something unique about villains that overcomes the stylistic similarity to other characters in their movies.\n"
   ],
   "cell_type": "markdown",
   "metadata": {}
  },
  {
   "source": [
    "\n",
    "## Data Collection and Cleaning\n",
    "\n",
    "Our raw text files existed scattered across a series of folders delineated by genre (examples included \"Crime\", \"Action\", \"Comedy\", etc.). In order to just work with the movies which met our \"classical mystery\" classification, we grouped all the movies we'd identified into a separate \"Using\" folder. At this point we had our movie scripts and our movie metadata files, which are stored in the drama_movies, crime_movies, and thriller_movies python files. These metadata files are an intermediate stage, but they're desribed in more detail in the dataset creation section. We then took the below steps in order to turn those text files into a workable dataset. "
   ],
   "cell_type": "markdown",
   "metadata": {}
  },
  {
   "source": [
    "First, we load the necessary libaries and metadata dictionaries, as well as create our spacy nlp object for later use"
   ],
   "cell_type": "markdown",
   "metadata": {}
  },
  {
   "cell_type": "code",
   "execution_count": 1,
   "metadata": {},
   "outputs": [],
   "source": [
    "#will install spacy and necessary dataset if you do not have it already on your computer\n",
    "\n",
    "##!conda install -c conda-forge spacy spacy-lookups-data -y\n",
    "##!python -m spacy download en_core_web_lg"
   ]
  },
  {
   "cell_type": "code",
   "execution_count": 1,
   "metadata": {},
   "outputs": [],
   "source": [
    "#import necessary libraries\n",
    "import os\n",
    "import string\n",
    "from sklearn.feature_extraction.text import TfidfVectorizer\n",
    "import pandas as pd\n",
    "import numpy as np\n",
    "import re\n",
    "import spacy\n",
    "\n",
    "#import the three libraries of assembled movie metdata\n",
    "from collections import defaultdict\n",
    "from drama_movies import drama_movies\n",
    "from crime_film_noir import crime_movies\n",
    "from thriller_movies import thriller_movies"
   ]
  },
  {
   "cell_type": "code",
   "execution_count": 2,
   "metadata": {},
   "outputs": [],
   "source": [
    "nlp=spacy.load(\"en_core_web_lg\")"
   ]
  },
  {
   "source": [
    "Then we created a set of convenience functions. This first one checks to see if a new line in a moviescript indicates a new character"
   ],
   "cell_type": "markdown",
   "metadata": {}
  },
  {
   "cell_type": "code",
   "execution_count": 3,
   "metadata": {},
   "outputs": [],
   "source": [
    "#Checks to see if a given line follows the same format as a new character tag\n",
    "def check_if_character(line, punct_set):\n",
    "    if \"(\" in line:\n",
    "        line=line[:line.index(\"(\")].strip()\n",
    "    if \"{\" in line:\n",
    "        line=line[:line.index(\"{\")].strip()\n",
    "    if '[' in line:\n",
    "        line=line[:line.index('[')].strip()\n",
    "    if \"/\" in line:\n",
    "            line=line[:line.index('/')-1].strip()\n",
    "    if line.upper()==line and line.isupper() and line[-1] not in punct_set and line.count(' ')<4:\n",
    "        \n",
    "        return True, line\n",
    "    else:\n",
    "        return False, \"\"\n"
   ]
  },
  {
   "source": [
    "This convenience function checks to see if the character that's currently being mentioned in the script is one of the characters we've previously identified as important, either for their own merit or for being the villain"
   ],
   "cell_type": "markdown",
   "metadata": {}
  },
  {
   "cell_type": "code",
   "execution_count": 4,
   "metadata": {},
   "outputs": [],
   "source": [
    "#Checks to see if this character is either one of the important characters in the story or a villain\n",
    "def check_if_acceptable_character(this_character, acceptable_characters):\n",
    "    if this_character in acceptable_characters:\n",
    "        return True\n",
    "    else:\n",
    "        cleaner=str.maketrans('','',string.punctuation)\n",
    "        this_character=this_character.translate(cleaner)\n",
    "        for character in acceptable_characters:\n",
    "            if character in this_character or this_character in character:\n",
    "                return True\n",
    "    return False\n",
    "\n",
    "        "
   ]
  },
  {
   "source": [
    "This is the beefiest convenience function, the one which actually reads the movie scripts. Instead of using this to directly create a pandas dataframe, we instead decided to make it a standard list in order to make it easier to iterate through each character and remove them. While the exact specifications are described in the method, essentially it creates a list of all the characters from across all movies and includes their name, the movie title, the year the movie's from, their dialogue, and the number of words they had to say in a dedicated dictionary. "
   ],
   "cell_type": "markdown",
   "metadata": {}
  },
  {
   "cell_type": "code",
   "execution_count": 5,
   "metadata": {
    "tags": []
   },
   "outputs": [],
   "source": [
    "\"\"\"takes the movie metadata, reads each script, and returns a list made of dictionaries corresponding to each new character that's been labeled as important. The list and dictionaries follow the format below\n",
    "\n",
    "[{\"character\": \"the name of the character\", \"movie_title\": \"the title of the movie they're in\", \"year\" int(the year the movie came out), \"raw_dialogue\": \"All the words they say in the movie\", \"num_words\": int(the number of words they say in the movie)}]\n",
    "\"\"\"\n",
    "def read_scripts(movie_metadata, unacceptable_starters, punct_remover):\n",
    "\n",
    "    returner=[]\n",
    "\n",
    "    for movie_filename in movie_metadata:\n",
    "        path=os.path.join(\"data\", \"scripts\",\"Using\", movie_filename)\n",
    "        current_movie=movie_metadata[movie_filename]\n",
    "\n",
    "        with open(path, \"r\", encoding=\"utf-8\") as f:\n",
    "            movie_script=f.readlines()\n",
    "            start_of_content=False\n",
    "            this_movie_dicts=[]\n",
    "            current_character_dict={}\n",
    "            movie_title=movie_metadata[movie_filename]['title']\n",
    "            current_character_name=\"\" \n",
    "            year=int(current_movie['year'])\n",
    "            acceptable_characters=current_movie[\"characters\"]+current_movie['villain']      \n",
    "            \n",
    "            for line in movie_script:\n",
    "                line=line.strip()\n",
    "\n",
    "                #checks for the title and the first character, otherwise skips the header stuff\n",
    "                if not start_of_content:\n",
    "                    line=line.strip('\"')\n",
    "\n",
    "                    is_character, new_character_name = check_if_character(line, string.punctuation)\n",
    "\n",
    "                    if is_character and new_character_name not in unacceptable_starters and check_if_acceptable_character(new_character_name, acceptable_characters):\n",
    "                        start_of_content=True\n",
    "                        current_character_name=new_character_name\n",
    "                        current_character_dict={\"character\": current_character_name, \"movie_title\": movie_title, \"year\":year, \"is_villain\": False, \"raw_dialogue\":\"\"}\n",
    "                        if current_character_name in current_movie['villain']:\n",
    "                            current_character_dict['is_villain']=True\n",
    "                        this_movie_dicts.append(current_character_dict)\n",
    "                \n",
    "                #if in the middle of the script and you have a current character, check if this line is a new character otherwise add the dialogue to this character's list\n",
    "                else:\n",
    "                    is_new_character, new_character_name = check_if_character(line, string.punctuation)\n",
    "                    if is_new_character:\n",
    "                        current_character_name=new_character_name\n",
    "                        if current_character_name not in unacceptable_starters and check_if_acceptable_character(current_character_name, acceptable_characters):\n",
    "                            if current_character_name not in [entry['character'] for entry in this_movie_dicts]:\n",
    "                                current_character_dict={\"character\": current_character_name, \"movie_title\": movie_title, \"year\":year, \"is_villain\": False, \"raw_dialogue\":\"\"}\n",
    "                                if current_character_name in current_movie['villain']:\n",
    "                                    current_character_dict['is_villain']=True\n",
    "                                this_movie_dicts.append(current_character_dict)\n",
    "                            else:\n",
    "                                current_character_dict=[entry for entry in this_movie_dicts if entry['character']==current_character_name][0]\n",
    "                            \n",
    "                    else:\n",
    "                        if current_character_name in unacceptable_starters or not check_if_acceptable_character(current_character_name, acceptable_characters):\n",
    "                            pass\n",
    "                        else:\n",
    "                            if len(line)>0 and line[0]!='(' and line not in unacceptable_starters:\n",
    "                                current_character_dict['raw_dialogue']=current_character_dict['raw_dialogue'].strip()+' ' + line.translate(punct_remover).strip()\n",
    "\n",
    "            returner+=this_movie_dicts\n",
    "\n",
    "        \n",
    "    for entry in returner:\n",
    "        entry['num_words']=entry['raw_dialogue'].count(' ')+1\n",
    "    returner=[entry for entry in returner if entry['num_words']>50]    \n",
    "\n",
    "    return returner                            \n",
    "    "
   ]
  },
  {
   "source": [
    "While the above code works for most script formats, occassionally formatting errors in the script itself can result in errors. Additionally often the same character will be referred to by different names in a script. For example, in a single movie dialogue spoken by the character Harry Wilkens might be labelled as Harry, Mr. Wilkens, Harry's Voice, or any other permutations. Additionally, while the original researchers claimed to have removed setting description and camera directions from the scripts, they did not do so entirely. These often appear in the same format in the script as calls for new characters, causing countless errors. These two convenience functions below serve to elimniate these errors. The first deals with the issue of character permutations, allowing us to combine all the dialogue said by two characters and then deleting the extras from the list. The second is more simple, and is used to flat-out remove entries that were not characters but were added in error."
   ],
   "cell_type": "markdown",
   "metadata": {}
  },
  {
   "cell_type": "code",
   "execution_count": 6,
   "metadata": {},
   "outputs": [],
   "source": [
    "#A convenience function that adds all lines from character_name_to_remove to character_name_to_keep and then removes character_name_to_remove from the list. \n",
    "def combine_characters(movie_character_dict, movie_title, character_name_to_keep, character_name_to_remove):\n",
    "    movie_subset=[entry for entry in movie_character_dict if entry['movie_title']==movie_title]\n",
    "    if character_name_to_remove not in [entry['character'] for entry in movie_subset] or character_name_to_keep not in [entry['character'] for entry in movie_subset]:\n",
    "        return\n",
    "    to_remove=[entry for entry in movie_character_dict if entry['character']==character_name_to_remove][0]\n",
    "    keeper=[entry for entry in movie_subset if entry['character']==character_name_to_keep][0]\n",
    "    keeper['raw_dialogue']+=to_remove['raw_dialogue']\n",
    "    keeper['num_words']+=to_remove['num_words']\n",
    "    movie_character_dict.remove(to_remove)"
   ]
  },
  {
   "cell_type": "code",
   "execution_count": 7,
   "metadata": {},
   "outputs": [],
   "source": [
    "#removes the character with this character name from the list\n",
    "def remove_character(movie_character_dicts, character):\n",
    "    to_remove=[entry for entry in movie_character_dicts if entry['character']==character]\n",
    "    if len(to_remove)!=0:\n",
    "        movie_character_dicts.remove(to_remove[0])"
   ]
  },
  {
   "source": [
    "The below function, given a pandas dataframe which includes a character's raw dialogue, will add a column including a list of all the tokens present in each character's dialogue that isn't punctuation, a space, or a commonly used filler or \"stop\" word"
   ],
   "cell_type": "markdown",
   "metadata": {}
  },
  {
   "cell_type": "code",
   "execution_count": 8,
   "metadata": {},
   "outputs": [],
   "source": [
    "#given a dataframe and a spacy nlp object, adds a column to the dataframe with an array of tokens present in each dialogue entry that aren't spaces, punctuation, or common stop words\n",
    "def tokenize(data_frame,nlp):\n",
    "    data_frame['token_list']=[[token for token in nlp(doc) if not (token.is_punct or token.is_space or token.is_stop)] for doc in data_frame['raw_dialogue']]"
   ]
  },
  {
   "source": [
    "The below function makes use of our second dataset, the NRC Word-Emotion Association Lexicon. Again, the specifics and sourcing of this lexicon are addressed more directly in our data collection section. However, in practice what this does is associate a set of given words with a set of ten sentiments: anger, anticipation, disgust, fear, joy negative, positive, sadness, surprise, trust. These associations are binary, if a word is associated with the sentiment it will have a score of 1, otherwise it will be 0. The below function runs through each of the tokens in a character's dialogue and calculates the average sentiment score for all of their words put togeher across the 10 sentiments."
   ],
   "cell_type": "markdown",
   "metadata": {}
  },
  {
   "cell_type": "code",
   "execution_count": 9,
   "metadata": {},
   "outputs": [],
   "source": [
    "#given a list of tokens, calculates a a mean emotional scoring of that list for each of the ten emotions present in the NRC Word-Emotion Association Emolex\n",
    "def add_emotion_scores(token_list, lexicon=None):\n",
    "    string_list=[token.text.lower().strip() for token in token_list]\n",
    "    re=[[],[],[],[],[],[],[],[],[],[]]\n",
    "    if lexicon==None:\n",
    "        lexicon=read_emolex()\n",
    "    for token in string_list:\n",
    "        if token in lexicon:\n",
    "            score_list=list(lexicon[token].values())\n",
    "            for score_index in range(len(score_list)):\n",
    "                re[score_index].append(score_list[score_index])\n",
    "    re=[score if len(score)>0 else [0] for score in re]\n",
    "    to_return = [np.mean(emotion) for emotion in re]\n",
    "    return to_return\n",
    "    \n",
    "\n",
    "    "
   ]
  },
  {
   "source": [
    "The below function simply reads the emolex into a python dictionary, it was actually provided by Professor Wilkens for a previous class (INFO 3350)"
   ],
   "cell_type": "markdown",
   "metadata": {}
  },
  {
   "cell_type": "code",
   "execution_count": 10,
   "metadata": {},
   "outputs": [],
   "source": [
    "# Source: Professor Wilkens, INFO 3350\n",
    "#convenience function to read the emotion lexicon into the variable emolex\n",
    "def read_emolex(filepath=None):\n",
    "    '''\n",
    "    Takes a file path to the emolex lexicon file.\n",
    "    Returns a dictionary of emolex sentiment values.\n",
    "    '''\n",
    "    if filepath==None: # Try to find the emolex file\n",
    "        filepath = os.path.join('data','emolex.txt')\n",
    "        if os.path.isfile(filepath):\n",
    "            pass\n",
    "        elif os.path.isfile('emolex.txt'):\n",
    "            filepath = 'emolex.txt'\n",
    "        else:\n",
    "            raise FileNotFoundError('No EmoLex file found')\n",
    "    emolex = defaultdict(dict) # Like Counter(), defaultdict eases dictionary creation\n",
    "    with open(filepath, 'r') as f:\n",
    "    # emolex file format is: word emotion value\n",
    "        for line in f:\n",
    "            word, emotion, value = line.strip().split()\n",
    "            emolex[word][emotion] = int(value)\n",
    "    return emolex\n",
    "\n",
    "# Get EmoLex data. Make sure you set the right file path above.\n",
    "emolex = read_emolex()\n"
   ]
  },
  {
   "source": [
    "Another important factor we wanted to take into account was that while the words characters use might differ dramatically, the actual content of what they're trying to say might align very well. Word2Vec embeddings are essentially 300dimensional representations of a given word, with words of similar meanings being located near each other in this high dimensional space. Below, we calculate for each word a character says that word's embedding (or where it lies in this 300 dimensional space). We then average out these word embeddings (the mean of each dimension) to create a single 300 dimensional point that represents the character's dialogue as a whole. "
   ],
   "cell_type": "markdown",
   "metadata": {}
  },
  {
   "cell_type": "code",
   "execution_count": 20,
   "metadata": {},
   "outputs": [],
   "source": [
    "#given a list of tokens, calculate the mean embedding for all token in the list\n",
    "def add_embeddings(token_list, vector_length):\n",
    "    token_list=[token for token in token_list if token.has_vector]\n",
    "    doc_matrix=np.zeros([len(token_list), vector_length])\n",
    "    for i in range(len(doc_matrix)):\n",
    "        doc_matrix[i]=token_list[i].vector\n",
    "    return np.average(doc_matrix, axis=0)"
   ]
  },
  {
   "source": [],
   "cell_type": "markdown",
   "metadata": {}
  },
  {
   "source": [
    "Here we start actually assembling our dataset. We start by loading in our three separate metadata dictionaries into a single variable called amalgamated_dicts. we then declare a series of terms we cite as being unacceptable character names (often camera directions or non-character narration) and then store our list of character entities into movie_character_dicts"
   ],
   "cell_type": "markdown",
   "metadata": {}
  },
  {
   "cell_type": "code",
   "execution_count": 11,
   "metadata": {},
   "outputs": [],
   "source": [
    "\n",
    "amalgamated_dicts={}\n",
    "amalgamated_dicts.update(drama_movies)\n",
    "amalgamated_dicts.update(crime_movies)\n",
    "amalgamated_dicts.update(thriller_movies)\n",
    "\n",
    "unacceptable_starters=[\"VOICE (cont'd)\", \"VOICE (CONT'D)\", \"VOICE OVER (CONT'D)\", \"VOICE OVER (cont'd)\", \"DISSOLVE\", \"CUT\", \"CUT TO\", 'FADE', 'FADE OUT', 'FADE IN', 'PAN', 'CONTINUED', \"CONT'D\", '', ' ', \"VOICE\", \"VOICE OVER\", 'CUT TO', 'DISSOLVE TO', 'THE END', 'FADE TO BLACK', \"DISSOLVE TO:\", \"CUT TO:\", \"FADE TO:\"]\n",
    "\n",
    "punct_remover=str.maketrans('','', '\"#$%&()*+-/:;<=>?@[\\\\]^_`{|}~')\n",
    "\n",
    "movie_character_dicts=read_scripts(amalgamated_dicts, unacceptable_starters, punct_remover)"
   ]
  },
  {
   "source": [
    "Below is a long list of miscalaneous fixes as described in the combine_characters and remove_character defintions"
   ],
   "cell_type": "markdown",
   "metadata": {}
  },
  {
   "cell_type": "code",
   "execution_count": 19,
   "metadata": {},
   "outputs": [],
   "source": [
    "#random fixes\n",
    "\n",
    "combine_characters(movie_character_dicts, \"8MM\", \"AMY\", \"AMY'S VOICE\")\n",
    "combine_characters(movie_character_dicts, \"8mm\", \"DINO VELVET\", \"DINO\")\n",
    "combine_characters(movie_character_dicts, \"8mm\", \"DINO VELVET\", \"DINO VELVET VOICE\")\n",
    "combine_characters(movie_character_dicts, \"8mm\", \"WELLES\", \"WELLES VOICE\")\n",
    "combine_characters(movie_character_dicts, \"8mm\", \"WELLES\", \"WELLES' VOICE\")\n",
    "combine_characters(movie_character_dicts, \"MANHATTAN MURDER MYSTERIES\", \"HELEN\", \"HELEN'S VOICE\")\n",
    "combine_characters(movie_character_dicts, 'The Black Dahlia', \"CAPTAIN VASQUEZ\", 'VASQUEZ')\n",
    "combine_characters(movie_character_dicts, 'The Black Dahlia', \"JOHNNY VOGEL\", 'JOHNNY')\n",
    "combine_characters(movie_character_dicts, 'The Black Dahlia', \"JOHNNY VOGEL\", 'VOGEL')\n",
    "combine_characters(movie_character_dicts, \"The Black Dahlia\", \"LEE BLANCHARD\", \"LEE\")\n",
    "combine_characters(movie_character_dicts, \"The Black Dahlia\", \"Liz\", \"Elizabeth\")\n",
    "combine_characters(movie_character_dicts, 'The Black Dahlia', \"ELLIS LOEW\", 'LOEW')\n",
    "combine_characters(movie_character_dicts, 'The Black Dahlia', \"RUSS MILLARD\", 'MILLARD')\n",
    "combine_characters(movie_character_dicts, 'BASIC INSTINCT', \"CAPTAIN TALCOTT\", 'TALCOTT')\n",
    "combine_characters(movie_character_dicts, 'BASIC INSTINCT', \"CAPTAIN TALCOTT\", 'CAPT. TALCOTT')\n",
    "combine_characters(movie_character_dicts, 'Basic', \"DUNBAR\", 'DUN BAR')\n",
    "combine_characters(movie_character_dicts, 'Basic', \"MUELLER\", 'MUE:LLER')\n",
    "combine_characters(movie_character_dicts, 'Basic', \"OSBORNE\", 'OSB0RNE')\n",
    "combine_characters(movie_character_dicts, 'The Girl With ', \"GREGOR\", 'GREGER')\n",
    "combine_characters(movie_character_dicts, 'THE GIRL WITH THE DRAGON TATTOO', \"GREGOR\", 'GREGER')\n",
    "combine_characters(movie_character_dicts, 'THE GIRL WITH THE DRAGON TATTOO', \"BLOMKVIST\", 'BLOMVIST')\n",
    "combine_characters(movie_character_dicts, 'THE GIRL WITH THE DRAGON TATTOO', \"HARRIET\", 'HARRIE')\n",
    "combine_characters(movie_character_dicts, 'THE GIRL WITH THE DRAGON TATTOO', \"WENNERSTROM\", 'WENNERSTROM ON TV')\n",
    "combine_characters(movie_character_dicts, 'THE GIRL WITH THE DRAGON TATTOO', \"VANGER\", 'YOUNGER VANGER')\n",
    "combine_characters(movie_character_dicts, 'Insomnia', 'WALTER', \"WALTER'S VOICE\")\n",
    "combine_characters(movie_character_dicts, \"Blood Simple\", \"MARTY\", \"MARTY'S VOICE\")\n",
    "combine_characters(movie_character_dicts, \"Bonnie and Clyde\", \"BONNIE\", \"BONNIE'S VOICE\")\n",
    "combine_characters(movie_character_dicts, \"Twin Peaks\", \"BOBBY\", \"BOB'S VOICE\")\n",
    "combine_characters(movie_character_dicts, \"Klute\", \"TRASK\", \"TRASK'S VOICE\")\n",
    "combine_characters(movie_character_dicts, \"Klute\", \"CABLE\", \"CABLE'S VOICE\")\n",
    "combine_characters(movie_character_dicts, \"Brick\", \"LAURA\", \"LAURA'S VOICE\")\n",
    "combine_characters(movie_character_dicts, \"Brick\", \"BRENDAN\", \"BRENDAN'S VOICE\")\n",
    "combine_characters(movie_character_dicts, \"Charade\", \"REGGIE\", \"REGGIE'S VOICE\")\n",
    "combine_characters(movie_character_dicts, \"Copycat\", \"DARYLL LEE\", \"DARYLL\")\n",
    "combine_characters(movie_character_dicts, \"Sherlock Holmes\", \"SHERLOCK\", \"HOLMES\")\n",
    "combine_characters(movie_character_dicts, \"Crank\", \"Verona\", \"Erona\")\n",
    "combine_characters(movie_character_dicts, \"Blood Simple\", \"DOC MILES\", \"OC MILES\")\n",
    "combine_characters(movie_character_dicts, \"Devil in a Blue Dress\", \"ALBRIGHT\", \"ALBRIGHT'S VOICE\")\n",
    "combine_characters(movie_character_dicts, \"Blood Simple\", \"DAPHNE\", \"DAPHNE'S VOICE\")\n",
    "combine_characters(movie_character_dicts, \"Anonymous\", \"ELIZABETH\", \"YOUNG ELIZABETH\")\n",
    "combine_characters(movie_character_dicts, \"Anonymous\", \"OXFORD\", \"YOUNG OXFORD\")\n",
    "combine_characters(movie_character_dicts, \"Anonymous\", \"ROBERT CECIL\", \"BOY ROBERT CECILDAPHNE'S VOICE\")\n",
    "combine_characters(movie_character_dicts, 'Arctic Blue', \"JESSICA\", \"ESSICA\")\n",
    "\n",
    "remove_character(movie_character_dicts, \"BONNY & CLYDE\")\n",
    "remove_character(movie_character_dicts,\"I\")\n",
    "remove_character(movie_character_dicts, \"GRAMAM'S FEET\")\n",
    "remove_character(movie_character_dicts, \"HOLMES POV\")\n",
    "remove_character(movie_character_dicts, \"MRS. MULWRAY\")\n",
    "remove_character(movie_character_dicts,\"C\")\n",
    "remove_character(movie_character_dicts,\"S\")\n",
    "remove_character(movie_character_dicts,\"T\")\n",
    "remove_character(movie_character_dicts,\"H\")\n",
    "remove_character(movie_character_dicts,\"A\")\n",
    "remove_character(movie_character_dicts,\"I\")\n",
    "remove_character(movie_character_dicts,\"VE\")\n",
    "remove_character(movie_character_dicts,\"C\")\n",
    "remove_character(movie_character_dicts,\"DARKMAN\")\n",
    "remove_character(movie_character_dicts,\"161 PEYTON 161\")\n",
    "remove_character(movie_character_dicts,\"THE DARKMAN\")\n",
    "remove_character(movie_character_dicts,\"421 DARKMAN 421\")\n"
   ]
  },
  {
   "source": [
    "We finally create a dataframe from our list of dictionaries here, stored in the local_dataframe variable. We then added columns for word tokens, average emotional scores, and dialogue embeddings as described above"
   ],
   "cell_type": "markdown",
   "metadata": {}
  },
  {
   "cell_type": "code",
   "execution_count": 14,
   "metadata": {},
   "outputs": [],
   "source": [
    "local_dataframe=pd.DataFrame.from_dict(movie_character_dicts)"
   ]
  },
  {
   "cell_type": "code",
   "execution_count": 15,
   "metadata": {},
   "outputs": [
    {
     "output_type": "stream",
     "name": "stdout",
     "text": [
      "Wall time: 1min 27s\n"
     ]
    }
   ],
   "source": [
    "%%time\n",
    "tokenize(local_dataframe, nlp)"
   ]
  },
  {
   "cell_type": "code",
   "execution_count": 21,
   "metadata": {},
   "outputs": [
    {
     "output_type": "stream",
     "name": "stdout",
     "text": [
      "Wall time: 53.6 s\n"
     ]
    }
   ],
   "source": [
    "%%time\n",
    "all_emotions = [add_emotion_scores(entry) for entry in local_dataframe['token_list']]\n",
    "local_dataframe['mean_anger'], local_dataframe['mean_anticipation'], local_dataframe['mean_disgust'], local_dataframe['mean_fear'], local_dataframe['mean_joy'], local_dataframe['mean_negative'], local_dataframe['mean_positive'], local_dataframe['mean_sadness'], local_dataframe['mean_surprise'], local_dataframe['mean_trust'] = np.flipud(np.rot90(all_emotions))"
   ]
  },
  {
   "cell_type": "code",
   "execution_count": 22,
   "metadata": {},
   "outputs": [
    {
     "output_type": "stream",
     "name": "stdout",
     "text": [
      "Wall time: 1.67 s\n"
     ]
    }
   ],
   "source": [
    "%%time\n",
    "vector_length=nlp.vocab.vectors_length\n",
    "all_embeddings=[add_embeddings(entry, vector_length) for entry in local_dataframe['token_list']]\n",
    "for i in range(vector_length):\n",
    "    local_dataframe[\"embedding_\"+str(i)]=[row[i] for row in all_embeddings]"
   ]
  },
  {
   "source": [
    "Finally, the local_dataframe dataframe is written to the mystery_movie_data csv file in the same directory, ignoring the index"
   ],
   "cell_type": "markdown",
   "metadata": {}
  },
  {
   "cell_type": "code",
   "execution_count": 23,
   "metadata": {},
   "outputs": [],
   "source": [
    "local_dataframe.to_csv(\"mystery_movie_data.csv\", index=False)"
   ]
  },
  {
   "source": [
    "## Data Description"
   ],
   "cell_type": "markdown",
   "metadata": {}
  },
  {
   "source": [
    "### Why was this dataset created/how was it funded?"
   ],
   "cell_type": "markdown",
   "metadata": {}
  },
  {
   "source": [
    "Our initial data came from a corpus compiled by researchers at UC Santa Cruz center for Natural Language and Dialogue Systems entitled (appropriately enough) Film Corpus 2.0. Here’s the full citation: (Marilyn A. Walker, Grace I. Lin, Jennifer E. Sawyer. \"An Annotated Corpus of Film Dialogue for Learning and Characterizing Character Style.\" In Proceedings of the 8th International Conference on Language Resources and Evaluation (LREC), Istanbul, Turkey, 2012). The corpus was originally designed to serve as a general purpose dataset for researchers interested in natural language problems involving dialogue and conversation. This corpus consisted of 862 film scripts downloaded from the internet movie scripts database (imsdb.com) separated by the genre they were labeled as. Ostensibly, there was minimum cleaning performed on the datasets to isolate dialogue, but this cleaning process wasn’t particularly consistent as some scripts included scene descriptions, camera instructions such as “CUT TO” or “FADE TO”, blocking, or non-spoken character actions. "
   ],
   "cell_type": "markdown",
   "metadata": {}
  },
  {
   "source": [
    "This larger data set was then narrowed down by hand in order to create the ideal genre of movies to analyze. When deciding that we wanted to look at the behavior and speech patterns of villains in comparison to other characters and to themselves over time we decided to comb through the larger data set to find archetypical mystery movies to include in our data set.\n"
   ],
   "cell_type": "markdown",
   "metadata": {}
  },
  {
   "source": [
    "Additionally, another data set we made use of was the NRC Word-Emotion Association Lexicon (Crowdsourcing a Word-Emotion Association Lexicon, Saif Mohammad and Peter Turney, Computational Intelligence, 29 (3), 436-465, 2013.) This dataset associates words with a binary score of 1 or 0 if they are correlated with any of the listed emotions or sentiments (anger, anticipation, fear, disgust, joy, negativity, positivity, sadness, surprise, trust). This dataset was compiled through crowdsourcing, where researchers asked participants on Amazon Mechanical Turk whether they thought a given word should be linked to these emotions."
   ],
   "cell_type": "markdown",
   "metadata": {}
  },
  {
   "source": [
    "### What processes might have influenced what data was observed and recorded and what was not?\n"
   ],
   "cell_type": "markdown",
   "metadata": {}
  },
  {
   "source": [
    "Some things that may have influenced the data could be the process by which we selected the movies and the characters. While neither were chosen arbitrarily, but based on a set of criteria, these decisions still had the potential to affect our larger analysis. For example, we chose movies based on a common set of criteria, thereby attempting to avoid any and all influence on our data in that regard, but it is still possible we added a movie falsely or skipped a movie we should have included. Alternatively, although we included what we viewed to be the most prominent characters, that may not hold true in the eyes of others, and could ultimately hurt our analyses in that regard as well. "
   ],
   "cell_type": "markdown",
   "metadata": {}
  },
  {
   "source": [
    "Additionally, our total list of movies only includes scripts publicly available on the internet movie scripts database. There could be a selection bias here where only scripts that were easily accessible in the public domain or movies that were highly popular had their scripts added to the database. We viewed this as an acceptable risk given that high performing movies were likely to either trendsetters in the mystery movie genre (thus causing other movies to emulate them) or at the very least following the lead of other successful movies. Therefore, we view these scripts as descriptive of the mystery movie genre at large, even if they’re not necessarily a near-exhaustive sample. \n"
   ],
   "cell_type": "markdown",
   "metadata": {}
  },
  {
   "source": [
    "### What preprocessing was done, and how did the data come to be in the form that you are using? What are the observations (rows) and the attributes (columns)?\n"
   ],
   "cell_type": "markdown",
   "metadata": {}
  },
  {
   "source": [
    "Our first intervention with the data involved isolating which movies should actually be considered mystery movies from a form standpoint. For this consideration we isolated three main components of the classic mystery movie that must be true in order for a movie to be included:\n",
    "\n",
    "- Some type of crime has been committed, and the main driver of the plot is trying to figure out who committed it.\n",
    "- The movie ends with the perpetrator or perpetrators of the crime identified, whether captured or not\n",
    "- The perpetrator or perpetrators were known in some other capacity before they were identified as the perpetrator, whether they were simply a suspect, a trusted friend, or an otherwise ordinary side character\n"
   ],
   "cell_type": "markdown",
   "metadata": {}
  },
  {
   "source": [
    "This resulted in 55 movies being selected from the overall dataset of 862 films. Once we'd identified which movies fit our study, we created a metadata dictionary for each film with the following information:\n",
    "\n",
    "- the movie's filename (string)\n",
    "- the movie's title (string)\n",
    "- the year the movie came out (int)\n",
    "- the names of the four or five most important characters in the movie (Array of strings). While the defintion of who the most characters are is by definition arbitary, we measured it as an amalgamation of multiple factors, including the number of mentions they got in plot summaries of the movie and the number of lines they had. \n",
    "- the names of the villains (Array of strings). These were the names of the character or characters in the movie who were deemed most responsible for the crime being investigated. These names could either be members of the previous character list if they were important throughout the movie, or not if they were really only a side character before their reveal."
   ],
   "cell_type": "markdown",
   "metadata": {}
  },
  {
   "source": [
    "Once this metadata dictionary was hand compiled, we created a program to read through each script and separate dialogue based on the character who said them. We did this by isolating which lines are written in the style of a character tag (less than three spaces and all caps) and was not in a list of forbidden entries (these were mostly camera directions such as “CUT TO” “FADE TO” or narrative devices such as “VOICE OVER” or “THE END”). If the character was mentioned in either the character or villains list, we created an entry for that character with the following data points as columns:\n",
    "\n",
    "- character: String, the name of the character\n",
    "- title: String,  title of movie\n",
    "- year: Int, year of movie release\n",
    "- is_villain: Boolean, True if this character is in the villain list for their movie and False otherwise\n",
    "- raw_dialog: String, contains every word the character says stripped of extra spaces\n",
    "- num_words: Int, the total number of words the character says\n",
    "- token_list: Array of spacy token objects: the character’s dialogue split into tokens, with punctuation, numbers, and common uninformative or “stop” words (“is”, ”was”, “the”, etc.) removed\n",
    "- Mean_anger, mean_anticipation, mean_disgust, mean_fear, mean_joy, mean_positive, mean_negative, mean_sadness, mean_surprise, mean_trust: Float, 10 distinct variables representing how loaded a character’s dialogue was with each of the ten emotions on a scale of 0 to 1. This was calculated by adding together the scores for each word’s emotion as stated by our emotion lexicon and then dividing by the total number of words spoken.\n",
    "- Embeddings: Array of floats: a one dimensional array with 300 float values representing the average vector representation of a character’s dialogue in 300 dimensional space. This was calculated by taking the word2vec vector embedding of each word a character says and then finding the total mean for each dimension.  \n",
    "\n",
    "Each row in this instance is a different character in one of the movies\n",
    "\n",
    "\n",
    "\n",
    "\n"
   ],
   "cell_type": "markdown",
   "metadata": {}
  },
  {
   "source": [
    "After the initial data was collected, we removed and corrected errors in the processing of the scripts. There were two main types of errors. The first was that the program would pick up scene descriptions or narration which used a characters name. We removed these from the dataset since they don't actually describe what the character says, merely how they're being shown by the camera. The second type of error was when the same character is referred to in multiple ways. One example was when lines spoken by the character Lee Blanchard in Black Dahlia were attributed to either \"Lee Blanchard\", \"Lee\", or \"Lee's voice\". We corrected these errors by amalgamating all lines into the most informative character name (in this case Lee Blanchard) and then removing the duplicated. All in all 51 such entries were removed combined according to these metrics"
   ],
   "cell_type": "markdown",
   "metadata": {}
  },
  {
   "source": [
    "### If people are involved, were they aware of the data collection and if so, what purpose did they expect the data to be used for?"
   ],
   "cell_type": "markdown",
   "metadata": {}
  },
  {
   "source": [
    "While people were not really involved in the collection of this data as it was mainly a compilation of movies that are already existing publicly online, it did make use of the imsdb dataset, which was originally crowdsourced. However, contributors meant for their contributions to be used for such research purposes, and no personally identifiable information was gathered with this data\n"
   ],
   "cell_type": "markdown",
   "metadata": {}
  },
  {
   "source": [
    "### Where can your raw source data be found, if applicable? Provide a link to the raw data (hosted in a Cornell Google Drive or Cornell Box). "
   ],
   "cell_type": "markdown",
   "metadata": {}
  },
  {
   "source": [
    "- https://imsdb.com/ - This is the original database which held all of the original movie scripts.\n",
    "- https://nlds.soe.ucsc.edu/fc (Walker, Marilyn A., Ricky Grant, Jennifer Sawyer, Grace I. Lin, Noah Wardrip-Fruin, and Michael Buell. \"Perceived or Not Perceived: Film Character Models for Expressive NLG.\" BEST PAPER AWARD. In International Conference on Interactive Digital Storytelling (ICIDS), Vancouver, Canada, 2011) - This is the link to the collection of 862 scripts that were already chosen from the larger website, from which we collected our sampling. \n",
    "- https://saifmohammad.com/WebPages/NRC-Emotion-Lexicon.htm This is where we pulled the emotion lexicon from. \n",
    "- The file system where our emolex and applicable scripts can be found is: https://github.com/AsherML/info-2950/tree/main/data\n"
   ],
   "cell_type": "markdown",
   "metadata": {}
  },
  {
   "source": [
    "## Data Limitations"
   ],
   "cell_type": "markdown",
   "metadata": {}
  },
  {
   "source": [
    "Our data set was a compilation of hand-selected movies that fit the archetypal mystery movie stereotype, with a villain to be found. We ended up with approximately 50 scripts to pull from, which means that the patterns we are seeing in villains only are based off of these 50 movies over time. This could be a representation concern if we were to be using this data to be representative of all films, but given that we are only discussing that one subset of mystery movies, This limiting aspect of our data should also be okay. The results we get could be vaguely generalizing for people who watch this particular sub genre of film, but if they are wary of our sample size then hopefully it should be alright. \n",
    "We are not analyzing the villains speech pattern off of every character in the movie, but off of five main characters who are not villains. This weakness was addressed while creating our data set and hopefully accounted for in final calculations. \n",
    "The data collected also is very variable depending on the film, in some films, the five main characters have a consistent number of lines and amount of interactions, but for others that is not the case. This skew could make it seem as though villains have a similar tone to regular characters in one movie, when in reality, the characters all have similar tones because they all live in the same town and have experienced similar things. \n"
   ],
   "cell_type": "markdown",
   "metadata": {}
  },
  {
   "source": [
    "## Exploratory Data Analysis"
   ],
   "cell_type": "markdown",
   "metadata": {}
  },
  {
   "cell_type": "code",
   "execution_count": 82,
   "metadata": {},
   "outputs": [
    {
     "output_type": "stream",
     "name": "stdout",
     "text": [
      "General Variables of Interest\n"
     ]
    },
    {
     "output_type": "execute_result",
     "data": {
      "text/plain": [
       "              year     num_words  mean_anger  mean_anticipation  mean_disgust  \\\n",
       "count   271.000000    271.000000  271.000000         271.000000    271.000000   \n",
       "mean   1994.476015   1510.011070    0.086218           0.104789      0.061194   \n",
       "std      11.788506   2016.309429    0.051498           0.050793      0.040814   \n",
       "min    1963.000000     55.000000    0.000000           0.000000      0.000000   \n",
       "25%    1988.000000    283.500000    0.054466           0.075496      0.038278   \n",
       "50%    1995.000000    786.000000    0.082840           0.100962      0.055276   \n",
       "75%    2005.000000   1782.000000    0.109482           0.126955      0.078442   \n",
       "max    2011.000000  13446.000000    0.382353           0.400000      0.250000   \n",
       "\n",
       "        mean_fear    mean_joy  mean_negative  mean_positive  mean_sadness  \\\n",
       "count  271.000000  271.000000     271.000000     271.000000    271.000000   \n",
       "mean     0.109580    0.084332       0.179487       0.193444      0.090134   \n",
       "std      0.053149    0.048765       0.060152       0.071515      0.048597   \n",
       "min      0.000000    0.000000       0.000000       0.000000      0.000000   \n",
       "25%      0.082129    0.055556       0.141151       0.151415      0.064173   \n",
       "50%      0.107973    0.079755       0.178571       0.189781      0.084806   \n",
       "75%      0.133333    0.106971       0.210240       0.233700      0.108317   \n",
       "max      0.357143    0.375000       0.434783       0.458333      0.304348   \n",
       "\n",
       "       mean_surprise  mean_trust  \n",
       "count     271.000000  271.000000  \n",
       "mean        0.059812    0.131500  \n",
       "std         0.039606    0.059289  \n",
       "min         0.000000    0.000000  \n",
       "25%         0.037442    0.098397  \n",
       "50%         0.057018    0.128342  \n",
       "75%         0.076923    0.159791  \n",
       "max         0.333333    0.345679  "
      ],
      "text/html": "<div>\n<style scoped>\n    .dataframe tbody tr th:only-of-type {\n        vertical-align: middle;\n    }\n\n    .dataframe tbody tr th {\n        vertical-align: top;\n    }\n\n    .dataframe thead th {\n        text-align: right;\n    }\n</style>\n<table border=\"1\" class=\"dataframe\">\n  <thead>\n    <tr style=\"text-align: right;\">\n      <th></th>\n      <th>year</th>\n      <th>num_words</th>\n      <th>mean_anger</th>\n      <th>mean_anticipation</th>\n      <th>mean_disgust</th>\n      <th>mean_fear</th>\n      <th>mean_joy</th>\n      <th>mean_negative</th>\n      <th>mean_positive</th>\n      <th>mean_sadness</th>\n      <th>mean_surprise</th>\n      <th>mean_trust</th>\n    </tr>\n  </thead>\n  <tbody>\n    <tr>\n      <th>count</th>\n      <td>271.000000</td>\n      <td>271.000000</td>\n      <td>271.000000</td>\n      <td>271.000000</td>\n      <td>271.000000</td>\n      <td>271.000000</td>\n      <td>271.000000</td>\n      <td>271.000000</td>\n      <td>271.000000</td>\n      <td>271.000000</td>\n      <td>271.000000</td>\n      <td>271.000000</td>\n    </tr>\n    <tr>\n      <th>mean</th>\n      <td>1994.476015</td>\n      <td>1510.011070</td>\n      <td>0.086218</td>\n      <td>0.104789</td>\n      <td>0.061194</td>\n      <td>0.109580</td>\n      <td>0.084332</td>\n      <td>0.179487</td>\n      <td>0.193444</td>\n      <td>0.090134</td>\n      <td>0.059812</td>\n      <td>0.131500</td>\n    </tr>\n    <tr>\n      <th>std</th>\n      <td>11.788506</td>\n      <td>2016.309429</td>\n      <td>0.051498</td>\n      <td>0.050793</td>\n      <td>0.040814</td>\n      <td>0.053149</td>\n      <td>0.048765</td>\n      <td>0.060152</td>\n      <td>0.071515</td>\n      <td>0.048597</td>\n      <td>0.039606</td>\n      <td>0.059289</td>\n    </tr>\n    <tr>\n      <th>min</th>\n      <td>1963.000000</td>\n      <td>55.000000</td>\n      <td>0.000000</td>\n      <td>0.000000</td>\n      <td>0.000000</td>\n      <td>0.000000</td>\n      <td>0.000000</td>\n      <td>0.000000</td>\n      <td>0.000000</td>\n      <td>0.000000</td>\n      <td>0.000000</td>\n      <td>0.000000</td>\n    </tr>\n    <tr>\n      <th>25%</th>\n      <td>1988.000000</td>\n      <td>283.500000</td>\n      <td>0.054466</td>\n      <td>0.075496</td>\n      <td>0.038278</td>\n      <td>0.082129</td>\n      <td>0.055556</td>\n      <td>0.141151</td>\n      <td>0.151415</td>\n      <td>0.064173</td>\n      <td>0.037442</td>\n      <td>0.098397</td>\n    </tr>\n    <tr>\n      <th>50%</th>\n      <td>1995.000000</td>\n      <td>786.000000</td>\n      <td>0.082840</td>\n      <td>0.100962</td>\n      <td>0.055276</td>\n      <td>0.107973</td>\n      <td>0.079755</td>\n      <td>0.178571</td>\n      <td>0.189781</td>\n      <td>0.084806</td>\n      <td>0.057018</td>\n      <td>0.128342</td>\n    </tr>\n    <tr>\n      <th>75%</th>\n      <td>2005.000000</td>\n      <td>1782.000000</td>\n      <td>0.109482</td>\n      <td>0.126955</td>\n      <td>0.078442</td>\n      <td>0.133333</td>\n      <td>0.106971</td>\n      <td>0.210240</td>\n      <td>0.233700</td>\n      <td>0.108317</td>\n      <td>0.076923</td>\n      <td>0.159791</td>\n    </tr>\n    <tr>\n      <th>max</th>\n      <td>2011.000000</td>\n      <td>13446.000000</td>\n      <td>0.382353</td>\n      <td>0.400000</td>\n      <td>0.250000</td>\n      <td>0.357143</td>\n      <td>0.375000</td>\n      <td>0.434783</td>\n      <td>0.458333</td>\n      <td>0.304348</td>\n      <td>0.333333</td>\n      <td>0.345679</td>\n    </tr>\n  </tbody>\n</table>\n</div>"
     },
     "metadata": {},
     "execution_count": 82
    }
   ],
   "source": [
    "# Statistics for columns of interest\n",
    "print(\"General Variables of Interest\")\n",
    "local_dataframe.describe()"
   ]
  },
  {
   "source": [
    "Here we can see that we have 271 characters across the movies who fit our criteria. Each character had just over 1500 words to speak over the course of the movie, and the most common emotions for them were trust and anticipation (negativity and positivity are excluded because they are for sentiment analysis instead of emotion analysis). Anticipation was expected, as much of the premise of a mystery movie is its ability to build suspense in the viewer over the course of the movie until the criminal is revealed. However, trustworthiness is surprising, one would expect that in a movie about trying to eliminate suspects there wouldn't be overwhelming feelings of goodwill and trust between characters. "
   ],
   "cell_type": "markdown",
   "metadata": {}
  },
  {
   "source": [],
   "cell_type": "markdown",
   "metadata": {}
  },
  {
   "cell_type": "code",
   "execution_count": 83,
   "metadata": {},
   "outputs": [
    {
     "output_type": "stream",
     "name": "stdout",
     "text": [
      "Correlations between Year, Number of Words Spoken, Villain Status, and Average Negative Words Spoken\n"
     ]
    },
    {
     "output_type": "execute_result",
     "data": {
      "text/plain": [
       "               year  num_words\n",
       "year       1.000000   0.143027\n",
       "num_words  0.143027   1.000000"
      ],
      "text/html": "<div>\n<style scoped>\n    .dataframe tbody tr th:only-of-type {\n        vertical-align: middle;\n    }\n\n    .dataframe tbody tr th {\n        vertical-align: top;\n    }\n\n    .dataframe thead th {\n        text-align: right;\n    }\n</style>\n<table border=\"1\" class=\"dataframe\">\n  <thead>\n    <tr style=\"text-align: right;\">\n      <th></th>\n      <th>year</th>\n      <th>num_words</th>\n    </tr>\n  </thead>\n  <tbody>\n    <tr>\n      <th>year</th>\n      <td>1.000000</td>\n      <td>0.143027</td>\n    </tr>\n    <tr>\n      <th>num_words</th>\n      <td>0.143027</td>\n      <td>1.000000</td>\n    </tr>\n  </tbody>\n</table>\n</div>"
     },
     "metadata": {},
     "execution_count": 83
    }
   ],
   "source": [
    "# Correlations between Year, Number of Words Spoken, Villain Status, and Average Negative Words Spoken\n",
    "print(\"Correlations between Year, Number of Words Spoken, Villain Status, and Average Negative Words Spoken\")\n",
    "local_dataframe[columns_of_interest ].corr()"
   ]
  },
  {
   "source": [
    "We see that there's an extremely minor correlation between being a villain and the number of words one speaks throughout the movie. This also isn't terribly surprising, as writers might be afraid that spending too much time on any one character might alert the viewer that something is off about them. In a genre that's based on not allowing the viewer to know what's going on, this kind of slip could be fatal. "
   ],
   "cell_type": "markdown",
   "metadata": {}
  },
  {
   "cell_type": "code",
   "execution_count": 84,
   "metadata": {},
   "outputs": [
    {
     "output_type": "stream",
     "name": "stdout",
     "text": [
      "Correlation Between Villain Status and Average Emotion/Sentiment Connotation\n"
     ]
    },
    {
     "output_type": "execute_result",
     "data": {
      "text/plain": [
       "                   is_villain  mean_anger  mean_anticipation  mean_disgust  \\\n",
       "is_villain           1.000000    0.036284           0.038495      0.070761   \n",
       "mean_anger           0.036284    1.000000           0.062597      0.572469   \n",
       "mean_anticipation    0.038495    0.062597           1.000000      0.072480   \n",
       "mean_disgust         0.070761    0.572469           0.072480      1.000000   \n",
       "mean_fear            0.063579    0.473803           0.318709      0.266520   \n",
       "mean_joy             0.103189   -0.000016           0.598790      0.108278   \n",
       "mean_positive        0.166971   -0.029073           0.413930      0.066610   \n",
       "mean_negative        0.025686    0.598021           0.107683      0.572467   \n",
       "mean_sadness        -0.023744    0.377943           0.243723      0.361870   \n",
       "mean_surprise       -0.028033    0.159084           0.385744      0.243873   \n",
       "mean_trust           0.148991    0.103026           0.445774      0.097836   \n",
       "\n",
       "                   mean_fear  mean_joy  mean_positive  mean_negative  \\\n",
       "is_villain          0.063579  0.103189       0.166971       0.025686   \n",
       "mean_anger          0.473803 -0.000016      -0.029073       0.598021   \n",
       "mean_anticipation   0.318709  0.598790       0.413930       0.107683   \n",
       "mean_disgust        0.266520  0.108278       0.066610       0.572467   \n",
       "mean_fear           1.000000  0.161308       0.184205       0.596522   \n",
       "mean_joy            0.161308  1.000000       0.630322       0.067758   \n",
       "mean_positive       0.184205  0.630322       1.000000       0.014513   \n",
       "mean_negative       0.596522  0.067758       0.014513       1.000000   \n",
       "mean_sadness        0.539729  0.255998       0.160377       0.650307   \n",
       "mean_surprise       0.144157  0.417795       0.190819       0.313914   \n",
       "mean_trust          0.364425  0.430087       0.653029       0.104093   \n",
       "\n",
       "                   mean_sadness  mean_surprise  mean_trust  \n",
       "is_villain            -0.023744      -0.028033    0.148991  \n",
       "mean_anger             0.377943       0.159084    0.103026  \n",
       "mean_anticipation      0.243723       0.385744    0.445774  \n",
       "mean_disgust           0.361870       0.243873    0.097836  \n",
       "mean_fear              0.539729       0.144157    0.364425  \n",
       "mean_joy               0.255998       0.417795    0.430087  \n",
       "mean_positive          0.160377       0.190819    0.653029  \n",
       "mean_negative          0.650307       0.313914    0.104093  \n",
       "mean_sadness           1.000000       0.238815    0.117778  \n",
       "mean_surprise          0.238815       1.000000    0.172344  \n",
       "mean_trust             0.117778       0.172344    1.000000  "
      ],
      "text/html": "<div>\n<style scoped>\n    .dataframe tbody tr th:only-of-type {\n        vertical-align: middle;\n    }\n\n    .dataframe tbody tr th {\n        vertical-align: top;\n    }\n\n    .dataframe thead th {\n        text-align: right;\n    }\n</style>\n<table border=\"1\" class=\"dataframe\">\n  <thead>\n    <tr style=\"text-align: right;\">\n      <th></th>\n      <th>is_villain</th>\n      <th>mean_anger</th>\n      <th>mean_anticipation</th>\n      <th>mean_disgust</th>\n      <th>mean_fear</th>\n      <th>mean_joy</th>\n      <th>mean_positive</th>\n      <th>mean_negative</th>\n      <th>mean_sadness</th>\n      <th>mean_surprise</th>\n      <th>mean_trust</th>\n    </tr>\n  </thead>\n  <tbody>\n    <tr>\n      <th>is_villain</th>\n      <td>1.000000</td>\n      <td>0.036284</td>\n      <td>0.038495</td>\n      <td>0.070761</td>\n      <td>0.063579</td>\n      <td>0.103189</td>\n      <td>0.166971</td>\n      <td>0.025686</td>\n      <td>-0.023744</td>\n      <td>-0.028033</td>\n      <td>0.148991</td>\n    </tr>\n    <tr>\n      <th>mean_anger</th>\n      <td>0.036284</td>\n      <td>1.000000</td>\n      <td>0.062597</td>\n      <td>0.572469</td>\n      <td>0.473803</td>\n      <td>-0.000016</td>\n      <td>-0.029073</td>\n      <td>0.598021</td>\n      <td>0.377943</td>\n      <td>0.159084</td>\n      <td>0.103026</td>\n    </tr>\n    <tr>\n      <th>mean_anticipation</th>\n      <td>0.038495</td>\n      <td>0.062597</td>\n      <td>1.000000</td>\n      <td>0.072480</td>\n      <td>0.318709</td>\n      <td>0.598790</td>\n      <td>0.413930</td>\n      <td>0.107683</td>\n      <td>0.243723</td>\n      <td>0.385744</td>\n      <td>0.445774</td>\n    </tr>\n    <tr>\n      <th>mean_disgust</th>\n      <td>0.070761</td>\n      <td>0.572469</td>\n      <td>0.072480</td>\n      <td>1.000000</td>\n      <td>0.266520</td>\n      <td>0.108278</td>\n      <td>0.066610</td>\n      <td>0.572467</td>\n      <td>0.361870</td>\n      <td>0.243873</td>\n      <td>0.097836</td>\n    </tr>\n    <tr>\n      <th>mean_fear</th>\n      <td>0.063579</td>\n      <td>0.473803</td>\n      <td>0.318709</td>\n      <td>0.266520</td>\n      <td>1.000000</td>\n      <td>0.161308</td>\n      <td>0.184205</td>\n      <td>0.596522</td>\n      <td>0.539729</td>\n      <td>0.144157</td>\n      <td>0.364425</td>\n    </tr>\n    <tr>\n      <th>mean_joy</th>\n      <td>0.103189</td>\n      <td>-0.000016</td>\n      <td>0.598790</td>\n      <td>0.108278</td>\n      <td>0.161308</td>\n      <td>1.000000</td>\n      <td>0.630322</td>\n      <td>0.067758</td>\n      <td>0.255998</td>\n      <td>0.417795</td>\n      <td>0.430087</td>\n    </tr>\n    <tr>\n      <th>mean_positive</th>\n      <td>0.166971</td>\n      <td>-0.029073</td>\n      <td>0.413930</td>\n      <td>0.066610</td>\n      <td>0.184205</td>\n      <td>0.630322</td>\n      <td>1.000000</td>\n      <td>0.014513</td>\n      <td>0.160377</td>\n      <td>0.190819</td>\n      <td>0.653029</td>\n    </tr>\n    <tr>\n      <th>mean_negative</th>\n      <td>0.025686</td>\n      <td>0.598021</td>\n      <td>0.107683</td>\n      <td>0.572467</td>\n      <td>0.596522</td>\n      <td>0.067758</td>\n      <td>0.014513</td>\n      <td>1.000000</td>\n      <td>0.650307</td>\n      <td>0.313914</td>\n      <td>0.104093</td>\n    </tr>\n    <tr>\n      <th>mean_sadness</th>\n      <td>-0.023744</td>\n      <td>0.377943</td>\n      <td>0.243723</td>\n      <td>0.361870</td>\n      <td>0.539729</td>\n      <td>0.255998</td>\n      <td>0.160377</td>\n      <td>0.650307</td>\n      <td>1.000000</td>\n      <td>0.238815</td>\n      <td>0.117778</td>\n    </tr>\n    <tr>\n      <th>mean_surprise</th>\n      <td>-0.028033</td>\n      <td>0.159084</td>\n      <td>0.385744</td>\n      <td>0.243873</td>\n      <td>0.144157</td>\n      <td>0.417795</td>\n      <td>0.190819</td>\n      <td>0.313914</td>\n      <td>0.238815</td>\n      <td>1.000000</td>\n      <td>0.172344</td>\n    </tr>\n    <tr>\n      <th>mean_trust</th>\n      <td>0.148991</td>\n      <td>0.103026</td>\n      <td>0.445774</td>\n      <td>0.097836</td>\n      <td>0.364425</td>\n      <td>0.430087</td>\n      <td>0.653029</td>\n      <td>0.104093</td>\n      <td>0.117778</td>\n      <td>0.172344</td>\n      <td>1.000000</td>\n    </tr>\n  </tbody>\n</table>\n</div>"
     },
     "metadata": {},
     "execution_count": 84
    }
   ],
   "source": [
    "# Correlation Between Villain Status and Average Emotion Connotation\n",
    "print('Correlation Between Villain Status and Average Emotion/Sentiment Connotation')\n",
    "emotions_and_villain = [\"is_villain\",\"mean_anger\", \"mean_anticipation\", \"mean_disgust\", \"mean_fear\", \"mean_joy\", \"mean_positive\", \"mean_negative\", \"mean_sadness\", \"mean_surprise\", \"mean_trust\"]\n",
    "local_dataframe[emotions_and_villain].corr()"
   ]
  },
  {
   "source": [
    "Surprisingly, villain status does not seem to be correlated with the sentiments a character espouses over the course of the movie. This is surprising, as one often thinks of villains and psychopaths as qualitatively different from other people largely based on their ability to process and express emotion. If a characters \"emotional score\" is completely unrelated to their ability to commit the types of horrendous acts that are so typical of this genre, then that may suggest that either writers aren't doing a very good job portraying these types of characters or that villains and psychopaths may be much better at concealing their inner thoughts than most people realize. This is further confounded by the fact that though the correlations are all small, they're highest for the positivity sentiment and the joy emotion, with their correlations almost doubling the next nearest. One might have expected emotions such as disgust or negativity to be expressed by those defined by their ability to act in ways that are disgusting and negative, but these otherwise happy characteristics suggest a hidden side to their portrayal in media."
   ],
   "cell_type": "markdown",
   "metadata": {}
  },
  {
   "cell_type": "code",
   "execution_count": 58,
   "metadata": {},
   "outputs": [
    {
     "output_type": "stream",
     "name": "stdout",
     "text": [
      "Mean Number of Words Spoken By Villain\n"
     ]
    },
    {
     "output_type": "execute_result",
     "data": {
      "text/plain": [
       "is_villain\n",
       "False    1508.388128\n",
       "True     1516.846154\n",
       "Name: num_words, dtype: float64"
      ]
     },
     "metadata": {},
     "execution_count": 58
    }
   ],
   "source": [
    "\n",
    "# Mean Number of Words Spoken By Villain\n",
    "print('Mean Number of Words Spoken By Villain')\n",
    "grouped = local_dataframe.groupby(['is_villain'])\n",
    "grouped['num_words'].mean()"
   ]
  },
  {
   "source": [
    "As mentioned before, villains and non-villains are almost indisguishable in the number of words they speak over the course of the movie. This may be an attempt by the writer to overwhelm the viewer by bombarding them with as many possibilities for the villain as possible before finally revealing who did it."
   ],
   "cell_type": "markdown",
   "metadata": {}
  },
  {
   "cell_type": "code",
   "execution_count": 97,
   "metadata": {},
   "outputs": [
    {
     "output_type": "stream",
     "name": "stdout",
     "text": [
      "Number of movies released each year in dataframe\n<class 'pandas.core.series.Series'>\n"
     ]
    }
   ],
   "source": [
    "# Number of movies released each year in dataframe\n",
    "print('Number of movies released each year in dataframe')\n",
    "sorted=local_dataframe['year'].value_counts().s\n",
    "printlocal_dataframe['year'].value_counts()))"
   ]
  },
  {
   "source": [
    "We see that our data skews towards the"
   ],
   "cell_type": "markdown",
   "metadata": {}
  },
  {
   "source": [],
   "cell_type": "markdown",
   "metadata": {}
  },
  {
   "cell_type": "code",
   "execution_count": 73,
   "metadata": {},
   "outputs": [
    {
     "output_type": "display_data",
     "data": {
      "text/plain": "<Figure size 432x288 with 1 Axes>",
      "image/svg+xml": "<?xml version=\"1.0\" encoding=\"utf-8\" standalone=\"no\"?>\r\n<!DOCTYPE svg PUBLIC \"-//W3C//DTD SVG 1.1//EN\"\r\n  \"http://www.w3.org/Graphics/SVG/1.1/DTD/svg11.dtd\">\r\n<!-- Created with matplotlib (https://matplotlib.org/) -->\r\n<svg height=\"277.314375pt\" version=\"1.1\" viewBox=\"0 0 403.226562 277.314375\" width=\"403.226562pt\" xmlns=\"http://www.w3.org/2000/svg\" xmlns:xlink=\"http://www.w3.org/1999/xlink\">\r\n <defs>\r\n  <style type=\"text/css\">\r\n*{stroke-linecap:butt;stroke-linejoin:round;}\r\n  </style>\r\n </defs>\r\n <g id=\"figure_1\">\r\n  <g id=\"patch_1\">\r\n   <path d=\"M 0 277.314375 \r\nL 403.226562 277.314375 \r\nL 403.226562 0 \r\nL 0 0 \r\nz\r\n\" style=\"fill:none;\"/>\r\n  </g>\r\n  <g id=\"axes_1\">\r\n   <g id=\"patch_2\">\r\n    <path d=\"M 56.50625 239.758125 \r\nL 391.30625 239.758125 \r\nL 391.30625 22.318125 \r\nL 56.50625 22.318125 \r\nz\r\n\" style=\"fill:#ffffff;\"/>\r\n   </g>\r\n   <g id=\"patch_3\">\r\n    <path clip-path=\"url(#pa3627c7a91)\" d=\"M 71.724432 239.758125 \r\nL 206.997159 239.758125 \r\nL 206.997159 37.112837 \r\nL 71.724432 37.112837 \r\nz\r\n\" style=\"fill:#1f77b4;\"/>\r\n   </g>\r\n   <g id=\"patch_4\">\r\n    <path clip-path=\"url(#pa3627c7a91)\" d=\"M 240.815341 239.758125 \r\nL 376.088068 239.758125 \r\nL 376.088068 32.672411 \r\nL 240.815341 32.672411 \r\nz\r\n\" style=\"fill:#1f77b4;\"/>\r\n   </g>\r\n   <g id=\"matplotlib.axis_1\">\r\n    <g id=\"xtick_1\">\r\n     <g id=\"line2d_1\">\r\n      <defs>\r\n       <path d=\"M 0 0 \r\nL 0 3.5 \r\n\" id=\"m0ff2f82823\" style=\"stroke:#000000;stroke-width:0.8;\"/>\r\n      </defs>\r\n      <g>\r\n       <use style=\"stroke:#000000;stroke-width:0.8;\" x=\"139.360795\" xlink:href=\"#m0ff2f82823\" y=\"239.758125\"/>\r\n      </g>\r\n     </g>\r\n     <g id=\"text_1\">\r\n      <!-- Non-Villain -->\r\n      <defs>\r\n       <path d=\"M 9.8125 72.90625 \r\nL 23.09375 72.90625 \r\nL 55.421875 11.921875 \r\nL 55.421875 72.90625 \r\nL 64.984375 72.90625 \r\nL 64.984375 0 \r\nL 51.703125 0 \r\nL 19.390625 60.984375 \r\nL 19.390625 0 \r\nL 9.8125 0 \r\nz\r\n\" id=\"DejaVuSans-78\"/>\r\n       <path d=\"M 30.609375 48.390625 \r\nQ 23.390625 48.390625 19.1875 42.75 \r\nQ 14.984375 37.109375 14.984375 27.296875 \r\nQ 14.984375 17.484375 19.15625 11.84375 \r\nQ 23.34375 6.203125 30.609375 6.203125 \r\nQ 37.796875 6.203125 41.984375 11.859375 \r\nQ 46.1875 17.53125 46.1875 27.296875 \r\nQ 46.1875 37.015625 41.984375 42.703125 \r\nQ 37.796875 48.390625 30.609375 48.390625 \r\nz\r\nM 30.609375 56 \r\nQ 42.328125 56 49.015625 48.375 \r\nQ 55.71875 40.765625 55.71875 27.296875 \r\nQ 55.71875 13.875 49.015625 6.21875 \r\nQ 42.328125 -1.421875 30.609375 -1.421875 \r\nQ 18.84375 -1.421875 12.171875 6.21875 \r\nQ 5.515625 13.875 5.515625 27.296875 \r\nQ 5.515625 40.765625 12.171875 48.375 \r\nQ 18.84375 56 30.609375 56 \r\nz\r\n\" id=\"DejaVuSans-111\"/>\r\n       <path d=\"M 54.890625 33.015625 \r\nL 54.890625 0 \r\nL 45.90625 0 \r\nL 45.90625 32.71875 \r\nQ 45.90625 40.484375 42.875 44.328125 \r\nQ 39.84375 48.1875 33.796875 48.1875 \r\nQ 26.515625 48.1875 22.3125 43.546875 \r\nQ 18.109375 38.921875 18.109375 30.90625 \r\nL 18.109375 0 \r\nL 9.078125 0 \r\nL 9.078125 54.6875 \r\nL 18.109375 54.6875 \r\nL 18.109375 46.1875 \r\nQ 21.34375 51.125 25.703125 53.5625 \r\nQ 30.078125 56 35.796875 56 \r\nQ 45.21875 56 50.046875 50.171875 \r\nQ 54.890625 44.34375 54.890625 33.015625 \r\nz\r\n\" id=\"DejaVuSans-110\"/>\r\n       <path d=\"M 4.890625 31.390625 \r\nL 31.203125 31.390625 \r\nL 31.203125 23.390625 \r\nL 4.890625 23.390625 \r\nz\r\n\" id=\"DejaVuSans-45\"/>\r\n       <path d=\"M 28.609375 0 \r\nL 0.78125 72.90625 \r\nL 11.078125 72.90625 \r\nL 34.1875 11.53125 \r\nL 57.328125 72.90625 \r\nL 67.578125 72.90625 \r\nL 39.796875 0 \r\nz\r\n\" id=\"DejaVuSans-86\"/>\r\n       <path d=\"M 9.421875 54.6875 \r\nL 18.40625 54.6875 \r\nL 18.40625 0 \r\nL 9.421875 0 \r\nz\r\nM 9.421875 75.984375 \r\nL 18.40625 75.984375 \r\nL 18.40625 64.59375 \r\nL 9.421875 64.59375 \r\nz\r\n\" id=\"DejaVuSans-105\"/>\r\n       <path d=\"M 9.421875 75.984375 \r\nL 18.40625 75.984375 \r\nL 18.40625 0 \r\nL 9.421875 0 \r\nz\r\n\" id=\"DejaVuSans-108\"/>\r\n       <path d=\"M 34.28125 27.484375 \r\nQ 23.390625 27.484375 19.1875 25 \r\nQ 14.984375 22.515625 14.984375 16.5 \r\nQ 14.984375 11.71875 18.140625 8.90625 \r\nQ 21.296875 6.109375 26.703125 6.109375 \r\nQ 34.1875 6.109375 38.703125 11.40625 \r\nQ 43.21875 16.703125 43.21875 25.484375 \r\nL 43.21875 27.484375 \r\nz\r\nM 52.203125 31.203125 \r\nL 52.203125 0 \r\nL 43.21875 0 \r\nL 43.21875 8.296875 \r\nQ 40.140625 3.328125 35.546875 0.953125 \r\nQ 30.953125 -1.421875 24.3125 -1.421875 \r\nQ 15.921875 -1.421875 10.953125 3.296875 \r\nQ 6 8.015625 6 15.921875 \r\nQ 6 25.140625 12.171875 29.828125 \r\nQ 18.359375 34.515625 30.609375 34.515625 \r\nL 43.21875 34.515625 \r\nL 43.21875 35.40625 \r\nQ 43.21875 41.609375 39.140625 45 \r\nQ 35.0625 48.390625 27.6875 48.390625 \r\nQ 23 48.390625 18.546875 47.265625 \r\nQ 14.109375 46.140625 10.015625 43.890625 \r\nL 10.015625 52.203125 \r\nQ 14.9375 54.109375 19.578125 55.046875 \r\nQ 24.21875 56 28.609375 56 \r\nQ 40.484375 56 46.34375 49.84375 \r\nQ 52.203125 43.703125 52.203125 31.203125 \r\nz\r\n\" id=\"DejaVuSans-97\"/>\r\n      </defs>\r\n      <g transform=\"translate(112.785014 254.356562)scale(0.1 -0.1)\">\r\n       <use xlink:href=\"#DejaVuSans-78\"/>\r\n       <use x=\"74.804688\" xlink:href=\"#DejaVuSans-111\"/>\r\n       <use x=\"135.986328\" xlink:href=\"#DejaVuSans-110\"/>\r\n       <use x=\"199.365234\" xlink:href=\"#DejaVuSans-45\"/>\r\n       <use x=\"229.574219\" xlink:href=\"#DejaVuSans-86\"/>\r\n       <use x=\"295.732422\" xlink:href=\"#DejaVuSans-105\"/>\r\n       <use x=\"323.515625\" xlink:href=\"#DejaVuSans-108\"/>\r\n       <use x=\"351.298828\" xlink:href=\"#DejaVuSans-108\"/>\r\n       <use x=\"379.082031\" xlink:href=\"#DejaVuSans-97\"/>\r\n       <use x=\"440.361328\" xlink:href=\"#DejaVuSans-105\"/>\r\n       <use x=\"468.144531\" xlink:href=\"#DejaVuSans-110\"/>\r\n      </g>\r\n     </g>\r\n    </g>\r\n    <g id=\"xtick_2\">\r\n     <g id=\"line2d_2\">\r\n      <g>\r\n       <use style=\"stroke:#000000;stroke-width:0.8;\" x=\"308.451705\" xlink:href=\"#m0ff2f82823\" y=\"239.758125\"/>\r\n      </g>\r\n     </g>\r\n     <g id=\"text_2\">\r\n      <!-- Villain -->\r\n      <g transform=\"translate(293.35483 254.356562)scale(0.1 -0.1)\">\r\n       <use xlink:href=\"#DejaVuSans-86\"/>\r\n       <use x=\"66.158203\" xlink:href=\"#DejaVuSans-105\"/>\r\n       <use x=\"93.941406\" xlink:href=\"#DejaVuSans-108\"/>\r\n       <use x=\"121.724609\" xlink:href=\"#DejaVuSans-108\"/>\r\n       <use x=\"149.507812\" xlink:href=\"#DejaVuSans-97\"/>\r\n       <use x=\"210.787109\" xlink:href=\"#DejaVuSans-105\"/>\r\n       <use x=\"238.570312\" xlink:href=\"#DejaVuSans-110\"/>\r\n      </g>\r\n     </g>\r\n    </g>\r\n    <g id=\"text_3\">\r\n     <!-- Villain Status -->\r\n     <defs>\r\n      <path id=\"DejaVuSans-32\"/>\r\n      <path d=\"M 53.515625 70.515625 \r\nL 53.515625 60.890625 \r\nQ 47.90625 63.578125 42.921875 64.890625 \r\nQ 37.9375 66.21875 33.296875 66.21875 \r\nQ 25.25 66.21875 20.875 63.09375 \r\nQ 16.5 59.96875 16.5 54.203125 \r\nQ 16.5 49.359375 19.40625 46.890625 \r\nQ 22.3125 44.4375 30.421875 42.921875 \r\nL 36.375 41.703125 \r\nQ 47.40625 39.59375 52.65625 34.296875 \r\nQ 57.90625 29 57.90625 20.125 \r\nQ 57.90625 9.515625 50.796875 4.046875 \r\nQ 43.703125 -1.421875 29.984375 -1.421875 \r\nQ 24.8125 -1.421875 18.96875 -0.25 \r\nQ 13.140625 0.921875 6.890625 3.21875 \r\nL 6.890625 13.375 \r\nQ 12.890625 10.015625 18.65625 8.296875 \r\nQ 24.421875 6.59375 29.984375 6.59375 \r\nQ 38.421875 6.59375 43.015625 9.90625 \r\nQ 47.609375 13.234375 47.609375 19.390625 \r\nQ 47.609375 24.75 44.3125 27.78125 \r\nQ 41.015625 30.8125 33.5 32.328125 \r\nL 27.484375 33.5 \r\nQ 16.453125 35.6875 11.515625 40.375 \r\nQ 6.59375 45.0625 6.59375 53.421875 \r\nQ 6.59375 63.09375 13.40625 68.65625 \r\nQ 20.21875 74.21875 32.171875 74.21875 \r\nQ 37.3125 74.21875 42.625 73.28125 \r\nQ 47.953125 72.359375 53.515625 70.515625 \r\nz\r\n\" id=\"DejaVuSans-83\"/>\r\n      <path d=\"M 18.3125 70.21875 \r\nL 18.3125 54.6875 \r\nL 36.8125 54.6875 \r\nL 36.8125 47.703125 \r\nL 18.3125 47.703125 \r\nL 18.3125 18.015625 \r\nQ 18.3125 11.328125 20.140625 9.421875 \r\nQ 21.96875 7.515625 27.59375 7.515625 \r\nL 36.8125 7.515625 \r\nL 36.8125 0 \r\nL 27.59375 0 \r\nQ 17.1875 0 13.234375 3.875 \r\nQ 9.28125 7.765625 9.28125 18.015625 \r\nL 9.28125 47.703125 \r\nL 2.6875 47.703125 \r\nL 2.6875 54.6875 \r\nL 9.28125 54.6875 \r\nL 9.28125 70.21875 \r\nz\r\n\" id=\"DejaVuSans-116\"/>\r\n      <path d=\"M 8.5 21.578125 \r\nL 8.5 54.6875 \r\nL 17.484375 54.6875 \r\nL 17.484375 21.921875 \r\nQ 17.484375 14.15625 20.5 10.265625 \r\nQ 23.53125 6.390625 29.59375 6.390625 \r\nQ 36.859375 6.390625 41.078125 11.03125 \r\nQ 45.3125 15.671875 45.3125 23.6875 \r\nL 45.3125 54.6875 \r\nL 54.296875 54.6875 \r\nL 54.296875 0 \r\nL 45.3125 0 \r\nL 45.3125 8.40625 \r\nQ 42.046875 3.421875 37.71875 1 \r\nQ 33.40625 -1.421875 27.6875 -1.421875 \r\nQ 18.265625 -1.421875 13.375 4.4375 \r\nQ 8.5 10.296875 8.5 21.578125 \r\nz\r\nM 31.109375 56 \r\nz\r\n\" id=\"DejaVuSans-117\"/>\r\n      <path d=\"M 44.28125 53.078125 \r\nL 44.28125 44.578125 \r\nQ 40.484375 46.53125 36.375 47.5 \r\nQ 32.28125 48.484375 27.875 48.484375 \r\nQ 21.1875 48.484375 17.84375 46.4375 \r\nQ 14.5 44.390625 14.5 40.28125 \r\nQ 14.5 37.15625 16.890625 35.375 \r\nQ 19.28125 33.59375 26.515625 31.984375 \r\nL 29.59375 31.296875 \r\nQ 39.15625 29.25 43.1875 25.515625 \r\nQ 47.21875 21.78125 47.21875 15.09375 \r\nQ 47.21875 7.46875 41.1875 3.015625 \r\nQ 35.15625 -1.421875 24.609375 -1.421875 \r\nQ 20.21875 -1.421875 15.453125 -0.5625 \r\nQ 10.6875 0.296875 5.421875 2 \r\nL 5.421875 11.28125 \r\nQ 10.40625 8.6875 15.234375 7.390625 \r\nQ 20.0625 6.109375 24.8125 6.109375 \r\nQ 31.15625 6.109375 34.5625 8.28125 \r\nQ 37.984375 10.453125 37.984375 14.40625 \r\nQ 37.984375 18.0625 35.515625 20.015625 \r\nQ 33.0625 21.96875 24.703125 23.78125 \r\nL 21.578125 24.515625 \r\nQ 13.234375 26.265625 9.515625 29.90625 \r\nQ 5.8125 33.546875 5.8125 39.890625 \r\nQ 5.8125 47.609375 11.28125 51.796875 \r\nQ 16.75 56 26.8125 56 \r\nQ 31.78125 56 36.171875 55.265625 \r\nQ 40.578125 54.546875 44.28125 53.078125 \r\nz\r\n\" id=\"DejaVuSans-115\"/>\r\n     </defs>\r\n     <g transform=\"translate(191.288281 268.034687)scale(0.1 -0.1)\">\r\n      <use xlink:href=\"#DejaVuSans-86\"/>\r\n      <use x=\"66.158203\" xlink:href=\"#DejaVuSans-105\"/>\r\n      <use x=\"93.941406\" xlink:href=\"#DejaVuSans-108\"/>\r\n      <use x=\"121.724609\" xlink:href=\"#DejaVuSans-108\"/>\r\n      <use x=\"149.507812\" xlink:href=\"#DejaVuSans-97\"/>\r\n      <use x=\"210.787109\" xlink:href=\"#DejaVuSans-105\"/>\r\n      <use x=\"238.570312\" xlink:href=\"#DejaVuSans-110\"/>\r\n      <use x=\"301.949219\" xlink:href=\"#DejaVuSans-32\"/>\r\n      <use x=\"333.736328\" xlink:href=\"#DejaVuSans-83\"/>\r\n      <use x=\"397.212891\" xlink:href=\"#DejaVuSans-116\"/>\r\n      <use x=\"436.421875\" xlink:href=\"#DejaVuSans-97\"/>\r\n      <use x=\"497.701172\" xlink:href=\"#DejaVuSans-116\"/>\r\n      <use x=\"536.910156\" xlink:href=\"#DejaVuSans-117\"/>\r\n      <use x=\"600.289062\" xlink:href=\"#DejaVuSans-115\"/>\r\n     </g>\r\n    </g>\r\n   </g>\r\n   <g id=\"matplotlib.axis_2\">\r\n    <g id=\"ytick_1\">\r\n     <g id=\"line2d_3\">\r\n      <defs>\r\n       <path d=\"M 0 0 \r\nL -3.5 0 \r\n\" id=\"m261120f810\" style=\"stroke:#000000;stroke-width:0.8;\"/>\r\n      </defs>\r\n      <g>\r\n       <use style=\"stroke:#000000;stroke-width:0.8;\" x=\"56.50625\" xlink:href=\"#m261120f810\" y=\"239.758125\"/>\r\n      </g>\r\n     </g>\r\n     <g id=\"text_4\">\r\n      <!-- 0.000 -->\r\n      <defs>\r\n       <path d=\"M 31.78125 66.40625 \r\nQ 24.171875 66.40625 20.328125 58.90625 \r\nQ 16.5 51.421875 16.5 36.375 \r\nQ 16.5 21.390625 20.328125 13.890625 \r\nQ 24.171875 6.390625 31.78125 6.390625 \r\nQ 39.453125 6.390625 43.28125 13.890625 \r\nQ 47.125 21.390625 47.125 36.375 \r\nQ 47.125 51.421875 43.28125 58.90625 \r\nQ 39.453125 66.40625 31.78125 66.40625 \r\nz\r\nM 31.78125 74.21875 \r\nQ 44.046875 74.21875 50.515625 64.515625 \r\nQ 56.984375 54.828125 56.984375 36.375 \r\nQ 56.984375 17.96875 50.515625 8.265625 \r\nQ 44.046875 -1.421875 31.78125 -1.421875 \r\nQ 19.53125 -1.421875 13.0625 8.265625 \r\nQ 6.59375 17.96875 6.59375 36.375 \r\nQ 6.59375 54.828125 13.0625 64.515625 \r\nQ 19.53125 74.21875 31.78125 74.21875 \r\nz\r\n\" id=\"DejaVuSans-48\"/>\r\n       <path d=\"M 10.6875 12.40625 \r\nL 21 12.40625 \r\nL 21 0 \r\nL 10.6875 0 \r\nz\r\n\" id=\"DejaVuSans-46\"/>\r\n      </defs>\r\n      <g transform=\"translate(20.878125 243.557344)scale(0.1 -0.1)\">\r\n       <use xlink:href=\"#DejaVuSans-48\"/>\r\n       <use x=\"63.623047\" xlink:href=\"#DejaVuSans-46\"/>\r\n       <use x=\"95.410156\" xlink:href=\"#DejaVuSans-48\"/>\r\n       <use x=\"159.033203\" xlink:href=\"#DejaVuSans-48\"/>\r\n       <use x=\"222.65625\" xlink:href=\"#DejaVuSans-48\"/>\r\n      </g>\r\n     </g>\r\n    </g>\r\n    <g id=\"ytick_2\">\r\n     <g id=\"line2d_4\">\r\n      <g>\r\n       <use style=\"stroke:#000000;stroke-width:0.8;\" x=\"56.50625\" xlink:href=\"#m261120f810\" y=\"211.413882\"/>\r\n      </g>\r\n     </g>\r\n     <g id=\"text_5\">\r\n      <!-- 0.025 -->\r\n      <defs>\r\n       <path d=\"M 19.1875 8.296875 \r\nL 53.609375 8.296875 \r\nL 53.609375 0 \r\nL 7.328125 0 \r\nL 7.328125 8.296875 \r\nQ 12.9375 14.109375 22.625 23.890625 \r\nQ 32.328125 33.6875 34.8125 36.53125 \r\nQ 39.546875 41.84375 41.421875 45.53125 \r\nQ 43.3125 49.21875 43.3125 52.78125 \r\nQ 43.3125 58.59375 39.234375 62.25 \r\nQ 35.15625 65.921875 28.609375 65.921875 \r\nQ 23.96875 65.921875 18.8125 64.3125 \r\nQ 13.671875 62.703125 7.8125 59.421875 \r\nL 7.8125 69.390625 \r\nQ 13.765625 71.78125 18.9375 73 \r\nQ 24.125 74.21875 28.421875 74.21875 \r\nQ 39.75 74.21875 46.484375 68.546875 \r\nQ 53.21875 62.890625 53.21875 53.421875 \r\nQ 53.21875 48.921875 51.53125 44.890625 \r\nQ 49.859375 40.875 45.40625 35.40625 \r\nQ 44.1875 33.984375 37.640625 27.21875 \r\nQ 31.109375 20.453125 19.1875 8.296875 \r\nz\r\n\" id=\"DejaVuSans-50\"/>\r\n       <path d=\"M 10.796875 72.90625 \r\nL 49.515625 72.90625 \r\nL 49.515625 64.59375 \r\nL 19.828125 64.59375 \r\nL 19.828125 46.734375 \r\nQ 21.96875 47.46875 24.109375 47.828125 \r\nQ 26.265625 48.1875 28.421875 48.1875 \r\nQ 40.625 48.1875 47.75 41.5 \r\nQ 54.890625 34.8125 54.890625 23.390625 \r\nQ 54.890625 11.625 47.5625 5.09375 \r\nQ 40.234375 -1.421875 26.90625 -1.421875 \r\nQ 22.3125 -1.421875 17.546875 -0.640625 \r\nQ 12.796875 0.140625 7.71875 1.703125 \r\nL 7.71875 11.625 \r\nQ 12.109375 9.234375 16.796875 8.0625 \r\nQ 21.484375 6.890625 26.703125 6.890625 \r\nQ 35.15625 6.890625 40.078125 11.328125 \r\nQ 45.015625 15.765625 45.015625 23.390625 \r\nQ 45.015625 31 40.078125 35.4375 \r\nQ 35.15625 39.890625 26.703125 39.890625 \r\nQ 22.75 39.890625 18.8125 39.015625 \r\nQ 14.890625 38.140625 10.796875 36.28125 \r\nz\r\n\" id=\"DejaVuSans-53\"/>\r\n      </defs>\r\n      <g transform=\"translate(20.878125 215.213101)scale(0.1 -0.1)\">\r\n       <use xlink:href=\"#DejaVuSans-48\"/>\r\n       <use x=\"63.623047\" xlink:href=\"#DejaVuSans-46\"/>\r\n       <use x=\"95.410156\" xlink:href=\"#DejaVuSans-48\"/>\r\n       <use x=\"159.033203\" xlink:href=\"#DejaVuSans-50\"/>\r\n       <use x=\"222.65625\" xlink:href=\"#DejaVuSans-53\"/>\r\n      </g>\r\n     </g>\r\n    </g>\r\n    <g id=\"ytick_3\">\r\n     <g id=\"line2d_5\">\r\n      <g>\r\n       <use style=\"stroke:#000000;stroke-width:0.8;\" x=\"56.50625\" xlink:href=\"#m261120f810\" y=\"183.06964\"/>\r\n      </g>\r\n     </g>\r\n     <g id=\"text_6\">\r\n      <!-- 0.050 -->\r\n      <g transform=\"translate(20.878125 186.868859)scale(0.1 -0.1)\">\r\n       <use xlink:href=\"#DejaVuSans-48\"/>\r\n       <use x=\"63.623047\" xlink:href=\"#DejaVuSans-46\"/>\r\n       <use x=\"95.410156\" xlink:href=\"#DejaVuSans-48\"/>\r\n       <use x=\"159.033203\" xlink:href=\"#DejaVuSans-53\"/>\r\n       <use x=\"222.65625\" xlink:href=\"#DejaVuSans-48\"/>\r\n      </g>\r\n     </g>\r\n    </g>\r\n    <g id=\"ytick_4\">\r\n     <g id=\"line2d_6\">\r\n      <g>\r\n       <use style=\"stroke:#000000;stroke-width:0.8;\" x=\"56.50625\" xlink:href=\"#m261120f810\" y=\"154.725397\"/>\r\n      </g>\r\n     </g>\r\n     <g id=\"text_7\">\r\n      <!-- 0.075 -->\r\n      <defs>\r\n       <path d=\"M 8.203125 72.90625 \r\nL 55.078125 72.90625 \r\nL 55.078125 68.703125 \r\nL 28.609375 0 \r\nL 18.3125 0 \r\nL 43.21875 64.59375 \r\nL 8.203125 64.59375 \r\nz\r\n\" id=\"DejaVuSans-55\"/>\r\n      </defs>\r\n      <g transform=\"translate(20.878125 158.524616)scale(0.1 -0.1)\">\r\n       <use xlink:href=\"#DejaVuSans-48\"/>\r\n       <use x=\"63.623047\" xlink:href=\"#DejaVuSans-46\"/>\r\n       <use x=\"95.410156\" xlink:href=\"#DejaVuSans-48\"/>\r\n       <use x=\"159.033203\" xlink:href=\"#DejaVuSans-55\"/>\r\n       <use x=\"222.65625\" xlink:href=\"#DejaVuSans-53\"/>\r\n      </g>\r\n     </g>\r\n    </g>\r\n    <g id=\"ytick_5\">\r\n     <g id=\"line2d_7\">\r\n      <g>\r\n       <use style=\"stroke:#000000;stroke-width:0.8;\" x=\"56.50625\" xlink:href=\"#m261120f810\" y=\"126.381155\"/>\r\n      </g>\r\n     </g>\r\n     <g id=\"text_8\">\r\n      <!-- 0.100 -->\r\n      <defs>\r\n       <path d=\"M 12.40625 8.296875 \r\nL 28.515625 8.296875 \r\nL 28.515625 63.921875 \r\nL 10.984375 60.40625 \r\nL 10.984375 69.390625 \r\nL 28.421875 72.90625 \r\nL 38.28125 72.90625 \r\nL 38.28125 8.296875 \r\nL 54.390625 8.296875 \r\nL 54.390625 0 \r\nL 12.40625 0 \r\nz\r\n\" id=\"DejaVuSans-49\"/>\r\n      </defs>\r\n      <g transform=\"translate(20.878125 130.180374)scale(0.1 -0.1)\">\r\n       <use xlink:href=\"#DejaVuSans-48\"/>\r\n       <use x=\"63.623047\" xlink:href=\"#DejaVuSans-46\"/>\r\n       <use x=\"95.410156\" xlink:href=\"#DejaVuSans-49\"/>\r\n       <use x=\"159.033203\" xlink:href=\"#DejaVuSans-48\"/>\r\n       <use x=\"222.65625\" xlink:href=\"#DejaVuSans-48\"/>\r\n      </g>\r\n     </g>\r\n    </g>\r\n    <g id=\"ytick_6\">\r\n     <g id=\"line2d_8\">\r\n      <g>\r\n       <use style=\"stroke:#000000;stroke-width:0.8;\" x=\"56.50625\" xlink:href=\"#m261120f810\" y=\"98.036912\"/>\r\n      </g>\r\n     </g>\r\n     <g id=\"text_9\">\r\n      <!-- 0.125 -->\r\n      <g transform=\"translate(20.878125 101.836131)scale(0.1 -0.1)\">\r\n       <use xlink:href=\"#DejaVuSans-48\"/>\r\n       <use x=\"63.623047\" xlink:href=\"#DejaVuSans-46\"/>\r\n       <use x=\"95.410156\" xlink:href=\"#DejaVuSans-49\"/>\r\n       <use x=\"159.033203\" xlink:href=\"#DejaVuSans-50\"/>\r\n       <use x=\"222.65625\" xlink:href=\"#DejaVuSans-53\"/>\r\n      </g>\r\n     </g>\r\n    </g>\r\n    <g id=\"ytick_7\">\r\n     <g id=\"line2d_9\">\r\n      <g>\r\n       <use style=\"stroke:#000000;stroke-width:0.8;\" x=\"56.50625\" xlink:href=\"#m261120f810\" y=\"69.69267\"/>\r\n      </g>\r\n     </g>\r\n     <g id=\"text_10\">\r\n      <!-- 0.150 -->\r\n      <g transform=\"translate(20.878125 73.491889)scale(0.1 -0.1)\">\r\n       <use xlink:href=\"#DejaVuSans-48\"/>\r\n       <use x=\"63.623047\" xlink:href=\"#DejaVuSans-46\"/>\r\n       <use x=\"95.410156\" xlink:href=\"#DejaVuSans-49\"/>\r\n       <use x=\"159.033203\" xlink:href=\"#DejaVuSans-53\"/>\r\n       <use x=\"222.65625\" xlink:href=\"#DejaVuSans-48\"/>\r\n      </g>\r\n     </g>\r\n    </g>\r\n    <g id=\"ytick_8\">\r\n     <g id=\"line2d_10\">\r\n      <g>\r\n       <use style=\"stroke:#000000;stroke-width:0.8;\" x=\"56.50625\" xlink:href=\"#m261120f810\" y=\"41.348427\"/>\r\n      </g>\r\n     </g>\r\n     <g id=\"text_11\">\r\n      <!-- 0.175 -->\r\n      <g transform=\"translate(20.878125 45.147646)scale(0.1 -0.1)\">\r\n       <use xlink:href=\"#DejaVuSans-48\"/>\r\n       <use x=\"63.623047\" xlink:href=\"#DejaVuSans-46\"/>\r\n       <use x=\"95.410156\" xlink:href=\"#DejaVuSans-49\"/>\r\n       <use x=\"159.033203\" xlink:href=\"#DejaVuSans-55\"/>\r\n       <use x=\"222.65625\" xlink:href=\"#DejaVuSans-53\"/>\r\n      </g>\r\n     </g>\r\n    </g>\r\n    <g id=\"text_12\">\r\n     <!-- Mean negative words spoken -->\r\n     <defs>\r\n      <path d=\"M 9.8125 72.90625 \r\nL 24.515625 72.90625 \r\nL 43.109375 23.296875 \r\nL 61.8125 72.90625 \r\nL 76.515625 72.90625 \r\nL 76.515625 0 \r\nL 66.890625 0 \r\nL 66.890625 64.015625 \r\nL 48.09375 14.015625 \r\nL 38.1875 14.015625 \r\nL 19.390625 64.015625 \r\nL 19.390625 0 \r\nL 9.8125 0 \r\nz\r\n\" id=\"DejaVuSans-77\"/>\r\n      <path d=\"M 56.203125 29.59375 \r\nL 56.203125 25.203125 \r\nL 14.890625 25.203125 \r\nQ 15.484375 15.921875 20.484375 11.0625 \r\nQ 25.484375 6.203125 34.421875 6.203125 \r\nQ 39.59375 6.203125 44.453125 7.46875 \r\nQ 49.3125 8.734375 54.109375 11.28125 \r\nL 54.109375 2.78125 \r\nQ 49.265625 0.734375 44.1875 -0.34375 \r\nQ 39.109375 -1.421875 33.890625 -1.421875 \r\nQ 20.796875 -1.421875 13.15625 6.1875 \r\nQ 5.515625 13.8125 5.515625 26.8125 \r\nQ 5.515625 40.234375 12.765625 48.109375 \r\nQ 20.015625 56 32.328125 56 \r\nQ 43.359375 56 49.78125 48.890625 \r\nQ 56.203125 41.796875 56.203125 29.59375 \r\nz\r\nM 47.21875 32.234375 \r\nQ 47.125 39.59375 43.09375 43.984375 \r\nQ 39.0625 48.390625 32.421875 48.390625 \r\nQ 24.90625 48.390625 20.390625 44.140625 \r\nQ 15.875 39.890625 15.1875 32.171875 \r\nz\r\n\" id=\"DejaVuSans-101\"/>\r\n      <path d=\"M 45.40625 27.984375 \r\nQ 45.40625 37.75 41.375 43.109375 \r\nQ 37.359375 48.484375 30.078125 48.484375 \r\nQ 22.859375 48.484375 18.828125 43.109375 \r\nQ 14.796875 37.75 14.796875 27.984375 \r\nQ 14.796875 18.265625 18.828125 12.890625 \r\nQ 22.859375 7.515625 30.078125 7.515625 \r\nQ 37.359375 7.515625 41.375 12.890625 \r\nQ 45.40625 18.265625 45.40625 27.984375 \r\nz\r\nM 54.390625 6.78125 \r\nQ 54.390625 -7.171875 48.1875 -13.984375 \r\nQ 42 -20.796875 29.203125 -20.796875 \r\nQ 24.46875 -20.796875 20.265625 -20.09375 \r\nQ 16.0625 -19.390625 12.109375 -17.921875 \r\nL 12.109375 -9.1875 \r\nQ 16.0625 -11.328125 19.921875 -12.34375 \r\nQ 23.78125 -13.375 27.78125 -13.375 \r\nQ 36.625 -13.375 41.015625 -8.765625 \r\nQ 45.40625 -4.15625 45.40625 5.171875 \r\nL 45.40625 9.625 \r\nQ 42.625 4.78125 38.28125 2.390625 \r\nQ 33.9375 0 27.875 0 \r\nQ 17.828125 0 11.671875 7.65625 \r\nQ 5.515625 15.328125 5.515625 27.984375 \r\nQ 5.515625 40.671875 11.671875 48.328125 \r\nQ 17.828125 56 27.875 56 \r\nQ 33.9375 56 38.28125 53.609375 \r\nQ 42.625 51.21875 45.40625 46.390625 \r\nL 45.40625 54.6875 \r\nL 54.390625 54.6875 \r\nz\r\n\" id=\"DejaVuSans-103\"/>\r\n      <path d=\"M 2.984375 54.6875 \r\nL 12.5 54.6875 \r\nL 29.59375 8.796875 \r\nL 46.6875 54.6875 \r\nL 56.203125 54.6875 \r\nL 35.6875 0 \r\nL 23.484375 0 \r\nz\r\n\" id=\"DejaVuSans-118\"/>\r\n      <path d=\"M 4.203125 54.6875 \r\nL 13.1875 54.6875 \r\nL 24.421875 12.015625 \r\nL 35.59375 54.6875 \r\nL 46.1875 54.6875 \r\nL 57.421875 12.015625 \r\nL 68.609375 54.6875 \r\nL 77.59375 54.6875 \r\nL 63.28125 0 \r\nL 52.6875 0 \r\nL 40.921875 44.828125 \r\nL 29.109375 0 \r\nL 18.5 0 \r\nz\r\n\" id=\"DejaVuSans-119\"/>\r\n      <path d=\"M 41.109375 46.296875 \r\nQ 39.59375 47.171875 37.8125 47.578125 \r\nQ 36.03125 48 33.890625 48 \r\nQ 26.265625 48 22.1875 43.046875 \r\nQ 18.109375 38.09375 18.109375 28.8125 \r\nL 18.109375 0 \r\nL 9.078125 0 \r\nL 9.078125 54.6875 \r\nL 18.109375 54.6875 \r\nL 18.109375 46.1875 \r\nQ 20.953125 51.171875 25.484375 53.578125 \r\nQ 30.03125 56 36.53125 56 \r\nQ 37.453125 56 38.578125 55.875 \r\nQ 39.703125 55.765625 41.0625 55.515625 \r\nz\r\n\" id=\"DejaVuSans-114\"/>\r\n      <path d=\"M 45.40625 46.390625 \r\nL 45.40625 75.984375 \r\nL 54.390625 75.984375 \r\nL 54.390625 0 \r\nL 45.40625 0 \r\nL 45.40625 8.203125 \r\nQ 42.578125 3.328125 38.25 0.953125 \r\nQ 33.9375 -1.421875 27.875 -1.421875 \r\nQ 17.96875 -1.421875 11.734375 6.484375 \r\nQ 5.515625 14.40625 5.515625 27.296875 \r\nQ 5.515625 40.1875 11.734375 48.09375 \r\nQ 17.96875 56 27.875 56 \r\nQ 33.9375 56 38.25 53.625 \r\nQ 42.578125 51.265625 45.40625 46.390625 \r\nz\r\nM 14.796875 27.296875 \r\nQ 14.796875 17.390625 18.875 11.75 \r\nQ 22.953125 6.109375 30.078125 6.109375 \r\nQ 37.203125 6.109375 41.296875 11.75 \r\nQ 45.40625 17.390625 45.40625 27.296875 \r\nQ 45.40625 37.203125 41.296875 42.84375 \r\nQ 37.203125 48.484375 30.078125 48.484375 \r\nQ 22.953125 48.484375 18.875 42.84375 \r\nQ 14.796875 37.203125 14.796875 27.296875 \r\nz\r\n\" id=\"DejaVuSans-100\"/>\r\n      <path d=\"M 18.109375 8.203125 \r\nL 18.109375 -20.796875 \r\nL 9.078125 -20.796875 \r\nL 9.078125 54.6875 \r\nL 18.109375 54.6875 \r\nL 18.109375 46.390625 \r\nQ 20.953125 51.265625 25.265625 53.625 \r\nQ 29.59375 56 35.59375 56 \r\nQ 45.5625 56 51.78125 48.09375 \r\nQ 58.015625 40.1875 58.015625 27.296875 \r\nQ 58.015625 14.40625 51.78125 6.484375 \r\nQ 45.5625 -1.421875 35.59375 -1.421875 \r\nQ 29.59375 -1.421875 25.265625 0.953125 \r\nQ 20.953125 3.328125 18.109375 8.203125 \r\nz\r\nM 48.6875 27.296875 \r\nQ 48.6875 37.203125 44.609375 42.84375 \r\nQ 40.53125 48.484375 33.40625 48.484375 \r\nQ 26.265625 48.484375 22.1875 42.84375 \r\nQ 18.109375 37.203125 18.109375 27.296875 \r\nQ 18.109375 17.390625 22.1875 11.75 \r\nQ 26.265625 6.109375 33.40625 6.109375 \r\nQ 40.53125 6.109375 44.609375 11.75 \r\nQ 48.6875 17.390625 48.6875 27.296875 \r\nz\r\n\" id=\"DejaVuSans-112\"/>\r\n      <path d=\"M 9.078125 75.984375 \r\nL 18.109375 75.984375 \r\nL 18.109375 31.109375 \r\nL 44.921875 54.6875 \r\nL 56.390625 54.6875 \r\nL 27.390625 29.109375 \r\nL 57.625 0 \r\nL 45.90625 0 \r\nL 18.109375 26.703125 \r\nL 18.109375 0 \r\nL 9.078125 0 \r\nz\r\n\" id=\"DejaVuSans-107\"/>\r\n     </defs>\r\n     <g transform=\"translate(14.798438 203.990469)rotate(-90)scale(0.1 -0.1)\">\r\n      <use xlink:href=\"#DejaVuSans-77\"/>\r\n      <use x=\"86.279297\" xlink:href=\"#DejaVuSans-101\"/>\r\n      <use x=\"147.802734\" xlink:href=\"#DejaVuSans-97\"/>\r\n      <use x=\"209.082031\" xlink:href=\"#DejaVuSans-110\"/>\r\n      <use x=\"272.460938\" xlink:href=\"#DejaVuSans-32\"/>\r\n      <use x=\"304.248047\" xlink:href=\"#DejaVuSans-110\"/>\r\n      <use x=\"367.626953\" xlink:href=\"#DejaVuSans-101\"/>\r\n      <use x=\"429.150391\" xlink:href=\"#DejaVuSans-103\"/>\r\n      <use x=\"492.626953\" xlink:href=\"#DejaVuSans-97\"/>\r\n      <use x=\"553.90625\" xlink:href=\"#DejaVuSans-116\"/>\r\n      <use x=\"593.115234\" xlink:href=\"#DejaVuSans-105\"/>\r\n      <use x=\"620.898438\" xlink:href=\"#DejaVuSans-118\"/>\r\n      <use x=\"680.078125\" xlink:href=\"#DejaVuSans-101\"/>\r\n      <use x=\"741.601562\" xlink:href=\"#DejaVuSans-32\"/>\r\n      <use x=\"773.388672\" xlink:href=\"#DejaVuSans-119\"/>\r\n      <use x=\"855.175781\" xlink:href=\"#DejaVuSans-111\"/>\r\n      <use x=\"916.357422\" xlink:href=\"#DejaVuSans-114\"/>\r\n      <use x=\"955.720703\" xlink:href=\"#DejaVuSans-100\"/>\r\n      <use x=\"1019.197266\" xlink:href=\"#DejaVuSans-115\"/>\r\n      <use x=\"1071.296875\" xlink:href=\"#DejaVuSans-32\"/>\r\n      <use x=\"1103.083984\" xlink:href=\"#DejaVuSans-115\"/>\r\n      <use x=\"1155.183594\" xlink:href=\"#DejaVuSans-112\"/>\r\n      <use x=\"1218.660156\" xlink:href=\"#DejaVuSans-111\"/>\r\n      <use x=\"1279.841797\" xlink:href=\"#DejaVuSans-107\"/>\r\n      <use x=\"1334.126953\" xlink:href=\"#DejaVuSans-101\"/>\r\n      <use x=\"1395.650391\" xlink:href=\"#DejaVuSans-110\"/>\r\n     </g>\r\n    </g>\r\n   </g>\r\n   <g id=\"patch_5\">\r\n    <path d=\"M 56.50625 239.758125 \r\nL 56.50625 22.318125 \r\n\" style=\"fill:none;stroke:#000000;stroke-linecap:square;stroke-linejoin:miter;stroke-width:0.8;\"/>\r\n   </g>\r\n   <g id=\"patch_6\">\r\n    <path d=\"M 391.30625 239.758125 \r\nL 391.30625 22.318125 \r\n\" style=\"fill:none;stroke:#000000;stroke-linecap:square;stroke-linejoin:miter;stroke-width:0.8;\"/>\r\n   </g>\r\n   <g id=\"patch_7\">\r\n    <path d=\"M 56.50625 239.758125 \r\nL 391.30625 239.758125 \r\n\" style=\"fill:none;stroke:#000000;stroke-linecap:square;stroke-linejoin:miter;stroke-width:0.8;\"/>\r\n   </g>\r\n   <g id=\"patch_8\">\r\n    <path d=\"M 56.50625 22.318125 \r\nL 391.30625 22.318125 \r\n\" style=\"fill:none;stroke:#000000;stroke-linecap:square;stroke-linejoin:miter;stroke-width:0.8;\"/>\r\n   </g>\r\n   <g id=\"text_13\">\r\n    <!-- Mean Negative Words Spoken by Villains and Non-Villains -->\r\n    <defs>\r\n     <path d=\"M 3.328125 72.90625 \r\nL 13.28125 72.90625 \r\nL 28.609375 11.28125 \r\nL 43.890625 72.90625 \r\nL 54.984375 72.90625 \r\nL 70.3125 11.28125 \r\nL 85.59375 72.90625 \r\nL 95.609375 72.90625 \r\nL 77.296875 0 \r\nL 64.890625 0 \r\nL 49.515625 63.28125 \r\nL 33.984375 0 \r\nL 21.578125 0 \r\nz\r\n\" id=\"DejaVuSans-87\"/>\r\n     <path d=\"M 48.6875 27.296875 \r\nQ 48.6875 37.203125 44.609375 42.84375 \r\nQ 40.53125 48.484375 33.40625 48.484375 \r\nQ 26.265625 48.484375 22.1875 42.84375 \r\nQ 18.109375 37.203125 18.109375 27.296875 \r\nQ 18.109375 17.390625 22.1875 11.75 \r\nQ 26.265625 6.109375 33.40625 6.109375 \r\nQ 40.53125 6.109375 44.609375 11.75 \r\nQ 48.6875 17.390625 48.6875 27.296875 \r\nz\r\nM 18.109375 46.390625 \r\nQ 20.953125 51.265625 25.265625 53.625 \r\nQ 29.59375 56 35.59375 56 \r\nQ 45.5625 56 51.78125 48.09375 \r\nQ 58.015625 40.1875 58.015625 27.296875 \r\nQ 58.015625 14.40625 51.78125 6.484375 \r\nQ 45.5625 -1.421875 35.59375 -1.421875 \r\nQ 29.59375 -1.421875 25.265625 0.953125 \r\nQ 20.953125 3.328125 18.109375 8.203125 \r\nL 18.109375 0 \r\nL 9.078125 0 \r\nL 9.078125 75.984375 \r\nL 18.109375 75.984375 \r\nz\r\n\" id=\"DejaVuSans-98\"/>\r\n     <path d=\"M 32.171875 -5.078125 \r\nQ 28.375 -14.84375 24.75 -17.8125 \r\nQ 21.140625 -20.796875 15.09375 -20.796875 \r\nL 7.90625 -20.796875 \r\nL 7.90625 -13.28125 \r\nL 13.1875 -13.28125 \r\nQ 16.890625 -13.28125 18.9375 -11.515625 \r\nQ 21 -9.765625 23.484375 -3.21875 \r\nL 25.09375 0.875 \r\nL 2.984375 54.6875 \r\nL 12.5 54.6875 \r\nL 29.59375 11.921875 \r\nL 46.6875 54.6875 \r\nL 56.203125 54.6875 \r\nz\r\n\" id=\"DejaVuSans-121\"/>\r\n    </defs>\r\n    <g transform=\"translate(51.785938 16.318125)scale(0.12 -0.12)\">\r\n     <use xlink:href=\"#DejaVuSans-77\"/>\r\n     <use x=\"86.279297\" xlink:href=\"#DejaVuSans-101\"/>\r\n     <use x=\"147.802734\" xlink:href=\"#DejaVuSans-97\"/>\r\n     <use x=\"209.082031\" xlink:href=\"#DejaVuSans-110\"/>\r\n     <use x=\"272.460938\" xlink:href=\"#DejaVuSans-32\"/>\r\n     <use x=\"304.248047\" xlink:href=\"#DejaVuSans-78\"/>\r\n     <use x=\"379.052734\" xlink:href=\"#DejaVuSans-101\"/>\r\n     <use x=\"440.576172\" xlink:href=\"#DejaVuSans-103\"/>\r\n     <use x=\"504.052734\" xlink:href=\"#DejaVuSans-97\"/>\r\n     <use x=\"565.332031\" xlink:href=\"#DejaVuSans-116\"/>\r\n     <use x=\"604.541016\" xlink:href=\"#DejaVuSans-105\"/>\r\n     <use x=\"632.324219\" xlink:href=\"#DejaVuSans-118\"/>\r\n     <use x=\"691.503906\" xlink:href=\"#DejaVuSans-101\"/>\r\n     <use x=\"753.027344\" xlink:href=\"#DejaVuSans-32\"/>\r\n     <use x=\"784.814453\" xlink:href=\"#DejaVuSans-87\"/>\r\n     <use x=\"877.816406\" xlink:href=\"#DejaVuSans-111\"/>\r\n     <use x=\"938.998047\" xlink:href=\"#DejaVuSans-114\"/>\r\n     <use x=\"978.361328\" xlink:href=\"#DejaVuSans-100\"/>\r\n     <use x=\"1041.837891\" xlink:href=\"#DejaVuSans-115\"/>\r\n     <use x=\"1093.9375\" xlink:href=\"#DejaVuSans-32\"/>\r\n     <use x=\"1125.724609\" xlink:href=\"#DejaVuSans-83\"/>\r\n     <use x=\"1189.201172\" xlink:href=\"#DejaVuSans-112\"/>\r\n     <use x=\"1252.677734\" xlink:href=\"#DejaVuSans-111\"/>\r\n     <use x=\"1313.859375\" xlink:href=\"#DejaVuSans-107\"/>\r\n     <use x=\"1368.144531\" xlink:href=\"#DejaVuSans-101\"/>\r\n     <use x=\"1429.667969\" xlink:href=\"#DejaVuSans-110\"/>\r\n     <use x=\"1493.046875\" xlink:href=\"#DejaVuSans-32\"/>\r\n     <use x=\"1524.833984\" xlink:href=\"#DejaVuSans-98\"/>\r\n     <use x=\"1588.310547\" xlink:href=\"#DejaVuSans-121\"/>\r\n     <use x=\"1647.490234\" xlink:href=\"#DejaVuSans-32\"/>\r\n     <use x=\"1679.277344\" xlink:href=\"#DejaVuSans-86\"/>\r\n     <use x=\"1745.435547\" xlink:href=\"#DejaVuSans-105\"/>\r\n     <use x=\"1773.21875\" xlink:href=\"#DejaVuSans-108\"/>\r\n     <use x=\"1801.001953\" xlink:href=\"#DejaVuSans-108\"/>\r\n     <use x=\"1828.785156\" xlink:href=\"#DejaVuSans-97\"/>\r\n     <use x=\"1890.064453\" xlink:href=\"#DejaVuSans-105\"/>\r\n     <use x=\"1917.847656\" xlink:href=\"#DejaVuSans-110\"/>\r\n     <use x=\"1981.226562\" xlink:href=\"#DejaVuSans-115\"/>\r\n     <use x=\"2033.326172\" xlink:href=\"#DejaVuSans-32\"/>\r\n     <use x=\"2065.113281\" xlink:href=\"#DejaVuSans-97\"/>\r\n     <use x=\"2126.392578\" xlink:href=\"#DejaVuSans-110\"/>\r\n     <use x=\"2189.771484\" xlink:href=\"#DejaVuSans-100\"/>\r\n     <use x=\"2253.248047\" xlink:href=\"#DejaVuSans-32\"/>\r\n     <use x=\"2285.035156\" xlink:href=\"#DejaVuSans-78\"/>\r\n     <use x=\"2359.839844\" xlink:href=\"#DejaVuSans-111\"/>\r\n     <use x=\"2421.021484\" xlink:href=\"#DejaVuSans-110\"/>\r\n     <use x=\"2484.400391\" xlink:href=\"#DejaVuSans-45\"/>\r\n     <use x=\"2514.609375\" xlink:href=\"#DejaVuSans-86\"/>\r\n     <use x=\"2580.767578\" xlink:href=\"#DejaVuSans-105\"/>\r\n     <use x=\"2608.550781\" xlink:href=\"#DejaVuSans-108\"/>\r\n     <use x=\"2636.333984\" xlink:href=\"#DejaVuSans-108\"/>\r\n     <use x=\"2664.117188\" xlink:href=\"#DejaVuSans-97\"/>\r\n     <use x=\"2725.396484\" xlink:href=\"#DejaVuSans-105\"/>\r\n     <use x=\"2753.179688\" xlink:href=\"#DejaVuSans-110\"/>\r\n     <use x=\"2816.558594\" xlink:href=\"#DejaVuSans-115\"/>\r\n    </g>\r\n   </g>\r\n  </g>\r\n </g>\r\n <defs>\r\n  <clipPath id=\"pa3627c7a91\">\r\n   <rect height=\"217.44\" width=\"334.8\" x=\"56.50625\" y=\"22.318125\"/>\r\n  </clipPath>\r\n </defs>\r\n</svg>\r\n",
      "image/png": "[encoded data removed]"
     },
     "metadata": {
      "needs_background": "light"
     }
    }
   ],
   "source": [
    "# Number of movies released each year in dataframe\n",
    "print(\"Number of movies released each year in dataframe:\")\n",
    "local_dataframe['year'].value_counts()"
   ]
  },
  {
   "cell_type": "code",
   "execution_count": 51,
   "metadata": {},
   "outputs": [
    {
     "output_type": "display_data",
     "data": {
      "text/plain": "<Figure size 432x288 with 1 Axes>",
      "image/svg+xml": "<?xml version=\"1.0\" encoding=\"utf-8\" standalone=\"no\"?>\r\n<!DOCTYPE svg PUBLIC \"-//W3C//DTD SVG 1.1//EN\"\r\n  \"http://www.w3.org/Graphics/SVG/1.1/DTD/svg11.dtd\">\r\n<!-- Created with matplotlib (https://matplotlib.org/) -->\r\n<svg height=\"277.314375pt\" version=\"1.1\" viewBox=\"0 0 411.635 277.314375\" width=\"411.635pt\" xmlns=\"http://www.w3.org/2000/svg\" xmlns:xlink=\"http://www.w3.org/1999/xlink\">\r\n <defs>\r\n  <style type=\"text/css\">\r\n*{stroke-linecap:butt;stroke-linejoin:round;}\r\n  </style>\r\n </defs>\r\n <g id=\"figure_1\">\r\n  <g id=\"patch_1\">\r\n   <path d=\"M 0 277.314375 \r\nL 411.635 277.314375 \r\nL 411.635 0 \r\nL 0 0 \r\nz\r\n\" style=\"fill:none;\"/>\r\n  </g>\r\n  <g id=\"axes_1\">\r\n   <g id=\"patch_2\">\r\n    <path d=\"M 53.328125 239.758125 \r\nL 388.128125 239.758125 \r\nL 388.128125 22.318125 \r\nL 53.328125 22.318125 \r\nz\r\n\" style=\"fill:#ffffff;\"/>\r\n   </g>\r\n   <g id=\"patch_3\">\r\n    <path clip-path=\"url(#p3ef6f2a200)\" d=\"M 268.129019 239.758125 \r\nL 273.118587 239.758125 \r\nL 273.118587 230.353687 \r\nL 268.129019 230.353687 \r\nz\r\n\" style=\"fill:#1f77b4;\"/>\r\n   </g>\r\n   <g id=\"patch_4\">\r\n    <path clip-path=\"url(#p3ef6f2a200)\" d=\"M 336.735577 239.758125 \r\nL 341.725144 239.758125 \r\nL 341.725144 217.234497 \r\nL 336.735577 217.234497 \r\nz\r\n\" style=\"fill:#1f77b4;\"/>\r\n   </g>\r\n   <g id=\"patch_5\">\r\n    <path clip-path=\"url(#p3ef6f2a200)\" d=\"M 336.735577 239.758125 \r\nL 341.725144 239.758125 \r\nL 341.725144 230.941465 \r\nL 336.735577 230.941465 \r\nz\r\n\" style=\"fill:#1f77b4;\"/>\r\n   </g>\r\n   <g id=\"patch_6\">\r\n    <path clip-path=\"url(#p3ef6f2a200)\" d=\"M 199.522462 239.758125 \r\nL 204.51203 239.758125 \r\nL 204.51203 226.286268 \r\nL 199.522462 226.286268 \r\nz\r\n\" style=\"fill:#1f77b4;\"/>\r\n   </g>\r\n   <g id=\"patch_7\">\r\n    <path clip-path=\"url(#p3ef6f2a200)\" d=\"M 93.494146 239.758125 \r\nL 98.483714 239.758125 \r\nL 98.483714 185.282921 \r\nL 93.494146 185.282921 \r\nz\r\n\" style=\"fill:#1f77b4;\"/>\r\n   </g>\r\n   <g id=\"patch_8\">\r\n    <path clip-path=\"url(#p3ef6f2a200)\" d=\"M 93.494146 239.758125 \r\nL 98.483714 239.758125 \r\nL 98.483714 159.679339 \r\nL 93.494146 159.679339 \r\nz\r\n\" style=\"fill:#1f77b4;\"/>\r\n   </g>\r\n   <g id=\"patch_9\">\r\n    <path clip-path=\"url(#p3ef6f2a200)\" d=\"M 349.209496 239.758125 \r\nL 354.199064 239.758125 \r\nL 354.199064 221.490005 \r\nL 349.209496 221.490005 \r\nz\r\n\" style=\"fill:#1f77b4;\"/>\r\n   </g>\r\n   <g id=\"patch_10\">\r\n    <path clip-path=\"url(#p3ef6f2a200)\" d=\"M 286.839898 239.758125 \r\nL 291.829466 239.758125 \r\nL 291.829466 226.474357 \r\nL 286.839898 226.474357 \r\nz\r\n\" style=\"fill:#1f77b4;\"/>\r\n   </g>\r\n   <g id=\"patch_11\">\r\n    <path clip-path=\"url(#p3ef6f2a200)\" d=\"M 311.787738 239.758125 \r\nL 316.777305 239.758125 \r\nL 316.777305 213.402189 \r\nL 311.787738 213.402189 \r\nz\r\n\" style=\"fill:#1f77b4;\"/>\r\n   </g>\r\n   <g id=\"patch_12\">\r\n    <path clip-path=\"url(#p3ef6f2a200)\" d=\"M 280.602939 239.758125 \r\nL 285.592507 239.758125 \r\nL 285.592507 198.261044 \r\nL 280.602939 198.261044 \r\nz\r\n\" style=\"fill:#1f77b4;\"/>\r\n   </g>\r\n   <g id=\"patch_13\">\r\n    <path clip-path=\"url(#p3ef6f2a200)\" d=\"M 268.129019 239.758125 \r\nL 273.118587 239.758125 \r\nL 273.118587 222.524493 \r\nL 268.129019 222.524493 \r\nz\r\n\" style=\"fill:#1f77b4;\"/>\r\n   </g>\r\n   <g id=\"patch_14\">\r\n    <path clip-path=\"url(#p3ef6f2a200)\" d=\"M 218.233341 239.758125 \r\nL 223.222909 239.758125 \r\nL 223.222909 234.515151 \r\nL 218.233341 234.515151 \r\nz\r\n\" style=\"fill:#1f77b4;\"/>\r\n   </g>\r\n   <g id=\"patch_15\">\r\n    <path clip-path=\"url(#p3ef6f2a200)\" d=\"M 249.41814 239.758125 \r\nL 254.407708 239.758125 \r\nL 254.407708 193.135626 \r\nL 249.41814 193.135626 \r\nz\r\n\" style=\"fill:#1f77b4;\"/>\r\n   </g>\r\n   <g id=\"patch_16\">\r\n    <path clip-path=\"url(#p3ef6f2a200)\" d=\"M 318.024697 239.758125 \r\nL 323.014265 239.758125 \r\nL 323.014265 228.120134 \r\nL 318.024697 228.120134 \r\nz\r\n\" style=\"fill:#1f77b4;\"/>\r\n   </g>\r\n   <g id=\"patch_17\">\r\n    <path clip-path=\"url(#p3ef6f2a200)\" d=\"M 336.735577 239.758125 \r\nL 341.725144 239.758125 \r\nL 341.725144 85.666416 \r\nL 336.735577 85.666416 \r\nz\r\n\" style=\"fill:#1f77b4;\"/>\r\n   </g>\r\n   <g id=\"patch_18\">\r\n    <path clip-path=\"url(#p3ef6f2a200)\" d=\"M 336.735577 239.758125 \r\nL 341.725144 239.758125 \r\nL 341.725144 197.767311 \r\nL 336.735577 197.767311 \r\nz\r\n\" style=\"fill:#1f77b4;\"/>\r\n   </g>\r\n   <g id=\"patch_19\">\r\n    <path clip-path=\"url(#p3ef6f2a200)\" d=\"M 280.602939 239.758125 \r\nL 285.592507 239.758125 \r\nL 285.592507 213.754855 \r\nL 280.602939 213.754855 \r\nz\r\n\" style=\"fill:#1f77b4;\"/>\r\n   </g>\r\n   <g id=\"patch_20\">\r\n    <path clip-path=\"url(#p3ef6f2a200)\" d=\"M 199.522462 239.758125 \r\nL 204.51203 239.758125 \r\nL 204.51203 223.794092 \r\nL 199.522462 223.794092 \r\nz\r\n\" style=\"fill:#1f77b4;\"/>\r\n   </g>\r\n   <g id=\"patch_21\">\r\n    <path clip-path=\"url(#p3ef6f2a200)\" d=\"M 118.441985 239.758125 \r\nL 123.431553 239.758125 \r\nL 123.431553 218.480585 \r\nL 118.441985 218.480585 \r\nz\r\n\" style=\"fill:#1f77b4;\"/>\r\n   </g>\r\n   <g id=\"patch_22\">\r\n    <path clip-path=\"url(#p3ef6f2a200)\" d=\"M 342.972536 239.758125 \r\nL 347.962104 239.758125 \r\nL 347.962104 32.672411 \r\nL 342.972536 32.672411 \r\nz\r\n\" style=\"fill:#1f77b4;\"/>\r\n   </g>\r\n   <g id=\"patch_23\">\r\n    <path clip-path=\"url(#p3ef6f2a200)\" d=\"M 243.18118 239.758125 \r\nL 248.170748 239.758125 \r\nL 248.170748 224.17027 \r\nL 243.18118 224.17027 \r\nz\r\n\" style=\"fill:#1f77b4;\"/>\r\n   </g>\r\n   <g id=\"patch_24\">\r\n    <path clip-path=\"url(#p3ef6f2a200)\" d=\"M 211.996381 239.758125 \r\nL 216.985949 239.758125 \r\nL 216.985949 222.66556 \r\nL 211.996381 222.66556 \r\nz\r\n\" style=\"fill:#1f77b4;\"/>\r\n   </g>\r\n   <g id=\"patch_25\">\r\n    <path clip-path=\"url(#p3ef6f2a200)\" d=\"M 211.996381 239.758125 \r\nL 216.985949 239.758125 \r\nL 216.985949 236.701683 \r\nL 211.996381 236.701683 \r\nz\r\n\" style=\"fill:#1f77b4;\"/>\r\n   </g>\r\n   <g id=\"patch_26\">\r\n    <path clip-path=\"url(#p3ef6f2a200)\" d=\"M 330.498617 239.758125 \r\nL 335.488185 239.758125 \r\nL 335.488185 219.138896 \r\nL 330.498617 219.138896 \r\nz\r\n\" style=\"fill:#1f77b4;\"/>\r\n   </g>\r\n   <g id=\"patch_27\">\r\n    <path clip-path=\"url(#p3ef6f2a200)\" d=\"M 330.498617 239.758125 \r\nL 335.488185 239.758125 \r\nL 335.488185 227.649912 \r\nL 330.498617 227.649912 \r\nz\r\n\" style=\"fill:#1f77b4;\"/>\r\n   </g>\r\n   <g id=\"patch_28\">\r\n    <path clip-path=\"url(#p3ef6f2a200)\" d=\"M 68.546307 239.758125 \r\nL 73.535875 239.758125 \r\nL 73.535875 210.345747 \r\nL 68.546307 210.345747 \r\nz\r\n\" style=\"fill:#1f77b4;\"/>\r\n   </g>\r\n   <g id=\"patch_29\">\r\n    <path clip-path=\"url(#p3ef6f2a200)\" d=\"M 268.129019 239.758125 \r\nL 273.118587 239.758125 \r\nL 273.118587 227.814489 \r\nL 268.129019 227.814489 \r\nz\r\n\" style=\"fill:#1f77b4;\"/>\r\n   </g>\r\n   <g id=\"patch_30\">\r\n    <path clip-path=\"url(#p3ef6f2a200)\" d=\"M 268.129019 239.758125 \r\nL 273.118587 239.758125 \r\nL 273.118587 230.330176 \r\nL 268.129019 230.330176 \r\nz\r\n\" style=\"fill:#1f77b4;\"/>\r\n   </g>\r\n   <g id=\"patch_31\">\r\n    <path clip-path=\"url(#p3ef6f2a200)\" d=\"M 174.574623 239.758125 \r\nL 179.564191 239.758125 \r\nL 179.564191 235.079417 \r\nL 174.574623 235.079417 \r\nz\r\n\" style=\"fill:#1f77b4;\"/>\r\n   </g>\r\n   <g id=\"patch_32\">\r\n    <path clip-path=\"url(#p3ef6f2a200)\" d=\"M 249.41814 239.758125 \r\nL 254.407708 239.758125 \r\nL 254.407708 227.414801 \r\nL 249.41814 227.414801 \r\nz\r\n\" style=\"fill:#1f77b4;\"/>\r\n   </g>\r\n   <g id=\"patch_33\">\r\n    <path clip-path=\"url(#p3ef6f2a200)\" d=\"M 255.6551 239.758125 \r\nL 260.644667 239.758125 \r\nL 260.644667 212.978989 \r\nL 255.6551 212.978989 \r\nz\r\n\" style=\"fill:#1f77b4;\"/>\r\n   </g>\r\n   <g id=\"patch_34\">\r\n    <path clip-path=\"url(#p3ef6f2a200)\" d=\"M 349.209496 239.758125 \r\nL 354.199064 239.758125 \r\nL 354.199064 146.254505 \r\nL 349.209496 146.254505 \r\nz\r\n\" style=\"fill:#1f77b4;\"/>\r\n   </g>\r\n   <g id=\"patch_35\">\r\n    <path clip-path=\"url(#p3ef6f2a200)\" d=\"M 305.550778 239.758125 \r\nL 310.540346 239.758125 \r\nL 310.540346 205.502461 \r\nL 305.550778 205.502461 \r\nz\r\n\" style=\"fill:#1f77b4;\"/>\r\n   </g>\r\n   <g id=\"patch_36\">\r\n    <path clip-path=\"url(#p3ef6f2a200)\" d=\"M 305.550778 239.758125 \r\nL 310.540346 239.758125 \r\nL 310.540346 224.946136 \r\nL 305.550778 224.946136 \r\nz\r\n\" style=\"fill:#1f77b4;\"/>\r\n   </g>\r\n   <g id=\"patch_37\">\r\n    <path clip-path=\"url(#p3ef6f2a200)\" d=\"M 224.470301 239.758125 \r\nL 229.459869 239.758125 \r\nL 229.459869 227.132668 \r\nL 224.470301 227.132668 \r\nz\r\n\" style=\"fill:#1f77b4;\"/>\r\n   </g>\r\n   <g id=\"patch_38\">\r\n    <path clip-path=\"url(#p3ef6f2a200)\" d=\"M 249.41814 239.758125 \r\nL 254.407708 239.758125 \r\nL 254.407708 193.840959 \r\nL 249.41814 193.840959 \r\nz\r\n\" style=\"fill:#1f77b4;\"/>\r\n   </g>\r\n   <g id=\"patch_39\">\r\n    <path clip-path=\"url(#p3ef6f2a200)\" d=\"M 355.446456 239.758125 \r\nL 360.436024 239.758125 \r\nL 360.436024 237.030838 \r\nL 355.446456 237.030838 \r\nz\r\n\" style=\"fill:#1f77b4;\"/>\r\n   </g>\r\n   <g id=\"patch_40\">\r\n    <path clip-path=\"url(#p3ef6f2a200)\" d=\"M 330.498617 239.758125 \r\nL 335.488185 239.758125 \r\nL 335.488185 85.666416 \r\nL 330.498617 85.666416 \r\nz\r\n\" style=\"fill:#1f77b4;\"/>\r\n   </g>\r\n   <g id=\"patch_41\">\r\n    <path clip-path=\"url(#p3ef6f2a200)\" d=\"M 330.498617 239.758125 \r\nL 335.488185 239.758125 \r\nL 335.488185 224.452403 \r\nL 330.498617 224.452403 \r\nz\r\n\" style=\"fill:#1f77b4;\"/>\r\n   </g>\r\n   <g id=\"patch_42\">\r\n    <path clip-path=\"url(#p3ef6f2a200)\" d=\"M 137.152864 239.758125 \r\nL 142.142432 239.758125 \r\nL 142.142432 219.350496 \r\nL 137.152864 219.350496 \r\nz\r\n\" style=\"fill:#1f77b4;\"/>\r\n   </g>\r\n   <g id=\"patch_43\">\r\n    <path clip-path=\"url(#p3ef6f2a200)\" d=\"M 336.735577 239.758125 \r\nL 341.725144 239.758125 \r\nL 341.725144 211.638857 \r\nL 336.735577 211.638857 \r\nz\r\n\" style=\"fill:#1f77b4;\"/>\r\n   </g>\r\n   <g id=\"patch_44\">\r\n    <path clip-path=\"url(#p3ef6f2a200)\" d=\"M 236.94422 239.758125 \r\nL 241.933788 239.758125 \r\nL 241.933788 237.07786 \r\nL 236.94422 237.07786 \r\nz\r\n\" style=\"fill:#1f77b4;\"/>\r\n   </g>\r\n   <g id=\"patch_45\">\r\n    <path clip-path=\"url(#p3ef6f2a200)\" d=\"M 268.129019 239.758125 \r\nL 273.118587 239.758125 \r\nL 273.118587 179.640258 \r\nL 268.129019 179.640258 \r\nz\r\n\" style=\"fill:#1f77b4;\"/>\r\n   </g>\r\n   <g id=\"patch_46\">\r\n    <path clip-path=\"url(#p3ef6f2a200)\" d=\"M 342.972536 239.758125 \r\nL 347.962104 239.758125 \r\nL 347.962104 202.328464 \r\nL 342.972536 202.328464 \r\nz\r\n\" style=\"fill:#1f77b4;\"/>\r\n   </g>\r\n   <g id=\"patch_47\">\r\n    <path clip-path=\"url(#p3ef6f2a200)\" d=\"M 118.441985 239.758125 \r\nL 123.431553 239.758125 \r\nL 123.431553 224.852092 \r\nL 118.441985 224.852092 \r\nz\r\n\" style=\"fill:#1f77b4;\"/>\r\n   </g>\r\n   <g id=\"patch_48\">\r\n    <path clip-path=\"url(#p3ef6f2a200)\" d=\"M 118.441985 239.758125 \r\nL 123.431553 239.758125 \r\nL 123.431553 234.985373 \r\nL 118.441985 234.985373 \r\nz\r\n\" style=\"fill:#1f77b4;\"/>\r\n   </g>\r\n   <g id=\"patch_49\">\r\n    <path clip-path=\"url(#p3ef6f2a200)\" d=\"M 367.920375 239.758125 \r\nL 372.909943 239.758125 \r\nL 372.909943 148.464548 \r\nL 367.920375 148.464548 \r\nz\r\n\" style=\"fill:#1f77b4;\"/>\r\n   </g>\r\n   <g id=\"patch_50\">\r\n    <path clip-path=\"url(#p3ef6f2a200)\" d=\"M 187.048542 239.758125 \r\nL 192.03811 239.758125 \r\nL 192.03811 227.838 \r\nL 187.048542 227.838 \r\nz\r\n\" style=\"fill:#1f77b4;\"/>\r\n   </g>\r\n   <g id=\"patch_51\">\r\n    <path clip-path=\"url(#p3ef6f2a200)\" d=\"M 367.920375 239.758125 \r\nL 372.909943 239.758125 \r\nL 372.909943 211.897479 \r\nL 367.920375 211.897479 \r\nz\r\n\" style=\"fill:#1f77b4;\"/>\r\n   </g>\r\n   <g id=\"patch_52\">\r\n    <path clip-path=\"url(#p3ef6f2a200)\" d=\"M 280.602939 239.758125 \r\nL 285.592507 239.758125 \r\nL 285.592507 203.645085 \r\nL 280.602939 203.645085 \r\nz\r\n\" style=\"fill:#1f77b4;\"/>\r\n   </g>\r\n   <g id=\"patch_53\">\r\n    <path clip-path=\"url(#p3ef6f2a200)\" d=\"M 293.076858 239.758125 \r\nL 298.066426 239.758125 \r\nL 298.066426 144.796817 \r\nL 293.076858 144.796817 \r\nz\r\n\" style=\"fill:#1f77b4;\"/>\r\n   </g>\r\n   <g id=\"patch_54\">\r\n    <path clip-path=\"url(#p3ef6f2a200)\" d=\"M 255.6551 239.758125 \r\nL 260.644667 239.758125 \r\nL 260.644667 187.492963 \r\nL 255.6551 187.492963 \r\nz\r\n\" style=\"fill:#1f77b4;\"/>\r\n   </g>\r\n   <g id=\"matplotlib.axis_1\">\r\n    <g id=\"xtick_1\">\r\n     <g id=\"line2d_1\">\r\n      <defs>\r\n       <path d=\"M 0 0 \r\nL 0 3.5 \r\n\" id=\"m847b38905c\" style=\"stroke:#000000;stroke-width:0.8;\"/>\r\n      </defs>\r\n      <g>\r\n       <use style=\"stroke:#000000;stroke-width:0.8;\" x=\"114.699809\" xlink:href=\"#m847b38905c\" y=\"239.758125\"/>\r\n      </g>\r\n     </g>\r\n     <g id=\"text_1\">\r\n      <!-- 1970 -->\r\n      <defs>\r\n       <path d=\"M 12.40625 8.296875 \r\nL 28.515625 8.296875 \r\nL 28.515625 63.921875 \r\nL 10.984375 60.40625 \r\nL 10.984375 69.390625 \r\nL 28.421875 72.90625 \r\nL 38.28125 72.90625 \r\nL 38.28125 8.296875 \r\nL 54.390625 8.296875 \r\nL 54.390625 0 \r\nL 12.40625 0 \r\nz\r\n\" id=\"DejaVuSans-49\"/>\r\n       <path d=\"M 10.984375 1.515625 \r\nL 10.984375 10.5 \r\nQ 14.703125 8.734375 18.5 7.8125 \r\nQ 22.3125 6.890625 25.984375 6.890625 \r\nQ 35.75 6.890625 40.890625 13.453125 \r\nQ 46.046875 20.015625 46.78125 33.40625 \r\nQ 43.953125 29.203125 39.59375 26.953125 \r\nQ 35.25 24.703125 29.984375 24.703125 \r\nQ 19.046875 24.703125 12.671875 31.3125 \r\nQ 6.296875 37.9375 6.296875 49.421875 \r\nQ 6.296875 60.640625 12.9375 67.421875 \r\nQ 19.578125 74.21875 30.609375 74.21875 \r\nQ 43.265625 74.21875 49.921875 64.515625 \r\nQ 56.59375 54.828125 56.59375 36.375 \r\nQ 56.59375 19.140625 48.40625 8.859375 \r\nQ 40.234375 -1.421875 26.421875 -1.421875 \r\nQ 22.703125 -1.421875 18.890625 -0.6875 \r\nQ 15.09375 0.046875 10.984375 1.515625 \r\nz\r\nM 30.609375 32.421875 \r\nQ 37.25 32.421875 41.125 36.953125 \r\nQ 45.015625 41.5 45.015625 49.421875 \r\nQ 45.015625 57.28125 41.125 61.84375 \r\nQ 37.25 66.40625 30.609375 66.40625 \r\nQ 23.96875 66.40625 20.09375 61.84375 \r\nQ 16.21875 57.28125 16.21875 49.421875 \r\nQ 16.21875 41.5 20.09375 36.953125 \r\nQ 23.96875 32.421875 30.609375 32.421875 \r\nz\r\n\" id=\"DejaVuSans-57\"/>\r\n       <path d=\"M 8.203125 72.90625 \r\nL 55.078125 72.90625 \r\nL 55.078125 68.703125 \r\nL 28.609375 0 \r\nL 18.3125 0 \r\nL 43.21875 64.59375 \r\nL 8.203125 64.59375 \r\nz\r\n\" id=\"DejaVuSans-55\"/>\r\n       <path d=\"M 31.78125 66.40625 \r\nQ 24.171875 66.40625 20.328125 58.90625 \r\nQ 16.5 51.421875 16.5 36.375 \r\nQ 16.5 21.390625 20.328125 13.890625 \r\nQ 24.171875 6.390625 31.78125 6.390625 \r\nQ 39.453125 6.390625 43.28125 13.890625 \r\nQ 47.125 21.390625 47.125 36.375 \r\nQ 47.125 51.421875 43.28125 58.90625 \r\nQ 39.453125 66.40625 31.78125 66.40625 \r\nz\r\nM 31.78125 74.21875 \r\nQ 44.046875 74.21875 50.515625 64.515625 \r\nQ 56.984375 54.828125 56.984375 36.375 \r\nQ 56.984375 17.96875 50.515625 8.265625 \r\nQ 44.046875 -1.421875 31.78125 -1.421875 \r\nQ 19.53125 -1.421875 13.0625 8.265625 \r\nQ 6.59375 17.96875 6.59375 36.375 \r\nQ 6.59375 54.828125 13.0625 64.515625 \r\nQ 19.53125 74.21875 31.78125 74.21875 \r\nz\r\n\" id=\"DejaVuSans-48\"/>\r\n      </defs>\r\n      <g transform=\"translate(101.974809 254.356562)scale(0.1 -0.1)\">\r\n       <use xlink:href=\"#DejaVuSans-49\"/>\r\n       <use x=\"63.623047\" xlink:href=\"#DejaVuSans-57\"/>\r\n       <use x=\"127.246094\" xlink:href=\"#DejaVuSans-55\"/>\r\n       <use x=\"190.869141\" xlink:href=\"#DejaVuSans-48\"/>\r\n      </g>\r\n     </g>\r\n    </g>\r\n    <g id=\"xtick_2\">\r\n     <g id=\"line2d_2\">\r\n      <g>\r\n       <use style=\"stroke:#000000;stroke-width:0.8;\" x=\"177.069407\" xlink:href=\"#m847b38905c\" y=\"239.758125\"/>\r\n      </g>\r\n     </g>\r\n     <g id=\"text_2\">\r\n      <!-- 1980 -->\r\n      <defs>\r\n       <path d=\"M 31.78125 34.625 \r\nQ 24.75 34.625 20.71875 30.859375 \r\nQ 16.703125 27.09375 16.703125 20.515625 \r\nQ 16.703125 13.921875 20.71875 10.15625 \r\nQ 24.75 6.390625 31.78125 6.390625 \r\nQ 38.8125 6.390625 42.859375 10.171875 \r\nQ 46.921875 13.96875 46.921875 20.515625 \r\nQ 46.921875 27.09375 42.890625 30.859375 \r\nQ 38.875 34.625 31.78125 34.625 \r\nz\r\nM 21.921875 38.8125 \r\nQ 15.578125 40.375 12.03125 44.71875 \r\nQ 8.5 49.078125 8.5 55.328125 \r\nQ 8.5 64.0625 14.71875 69.140625 \r\nQ 20.953125 74.21875 31.78125 74.21875 \r\nQ 42.671875 74.21875 48.875 69.140625 \r\nQ 55.078125 64.0625 55.078125 55.328125 \r\nQ 55.078125 49.078125 51.53125 44.71875 \r\nQ 48 40.375 41.703125 38.8125 \r\nQ 48.828125 37.15625 52.796875 32.3125 \r\nQ 56.78125 27.484375 56.78125 20.515625 \r\nQ 56.78125 9.90625 50.3125 4.234375 \r\nQ 43.84375 -1.421875 31.78125 -1.421875 \r\nQ 19.734375 -1.421875 13.25 4.234375 \r\nQ 6.78125 9.90625 6.78125 20.515625 \r\nQ 6.78125 27.484375 10.78125 32.3125 \r\nQ 14.796875 37.15625 21.921875 38.8125 \r\nz\r\nM 18.3125 54.390625 \r\nQ 18.3125 48.734375 21.84375 45.5625 \r\nQ 25.390625 42.390625 31.78125 42.390625 \r\nQ 38.140625 42.390625 41.71875 45.5625 \r\nQ 45.3125 48.734375 45.3125 54.390625 \r\nQ 45.3125 60.0625 41.71875 63.234375 \r\nQ 38.140625 66.40625 31.78125 66.40625 \r\nQ 25.390625 66.40625 21.84375 63.234375 \r\nQ 18.3125 60.0625 18.3125 54.390625 \r\nz\r\n\" id=\"DejaVuSans-56\"/>\r\n      </defs>\r\n      <g transform=\"translate(164.344407 254.356562)scale(0.1 -0.1)\">\r\n       <use xlink:href=\"#DejaVuSans-49\"/>\r\n       <use x=\"63.623047\" xlink:href=\"#DejaVuSans-57\"/>\r\n       <use x=\"127.246094\" xlink:href=\"#DejaVuSans-56\"/>\r\n       <use x=\"190.869141\" xlink:href=\"#DejaVuSans-48\"/>\r\n      </g>\r\n     </g>\r\n    </g>\r\n    <g id=\"xtick_3\">\r\n     <g id=\"line2d_3\">\r\n      <g>\r\n       <use style=\"stroke:#000000;stroke-width:0.8;\" x=\"239.439004\" xlink:href=\"#m847b38905c\" y=\"239.758125\"/>\r\n      </g>\r\n     </g>\r\n     <g id=\"text_3\">\r\n      <!-- 1990 -->\r\n      <g transform=\"translate(226.714004 254.356562)scale(0.1 -0.1)\">\r\n       <use xlink:href=\"#DejaVuSans-49\"/>\r\n       <use x=\"63.623047\" xlink:href=\"#DejaVuSans-57\"/>\r\n       <use x=\"127.246094\" xlink:href=\"#DejaVuSans-57\"/>\r\n       <use x=\"190.869141\" xlink:href=\"#DejaVuSans-48\"/>\r\n      </g>\r\n     </g>\r\n    </g>\r\n    <g id=\"xtick_4\">\r\n     <g id=\"line2d_4\">\r\n      <g>\r\n       <use style=\"stroke:#000000;stroke-width:0.8;\" x=\"301.808602\" xlink:href=\"#m847b38905c\" y=\"239.758125\"/>\r\n      </g>\r\n     </g>\r\n     <g id=\"text_4\">\r\n      <!-- 2000 -->\r\n      <defs>\r\n       <path d=\"M 19.1875 8.296875 \r\nL 53.609375 8.296875 \r\nL 53.609375 0 \r\nL 7.328125 0 \r\nL 7.328125 8.296875 \r\nQ 12.9375 14.109375 22.625 23.890625 \r\nQ 32.328125 33.6875 34.8125 36.53125 \r\nQ 39.546875 41.84375 41.421875 45.53125 \r\nQ 43.3125 49.21875 43.3125 52.78125 \r\nQ 43.3125 58.59375 39.234375 62.25 \r\nQ 35.15625 65.921875 28.609375 65.921875 \r\nQ 23.96875 65.921875 18.8125 64.3125 \r\nQ 13.671875 62.703125 7.8125 59.421875 \r\nL 7.8125 69.390625 \r\nQ 13.765625 71.78125 18.9375 73 \r\nQ 24.125 74.21875 28.421875 74.21875 \r\nQ 39.75 74.21875 46.484375 68.546875 \r\nQ 53.21875 62.890625 53.21875 53.421875 \r\nQ 53.21875 48.921875 51.53125 44.890625 \r\nQ 49.859375 40.875 45.40625 35.40625 \r\nQ 44.1875 33.984375 37.640625 27.21875 \r\nQ 31.109375 20.453125 19.1875 8.296875 \r\nz\r\n\" id=\"DejaVuSans-50\"/>\r\n      </defs>\r\n      <g transform=\"translate(289.083602 254.356562)scale(0.1 -0.1)\">\r\n       <use xlink:href=\"#DejaVuSans-50\"/>\r\n       <use x=\"63.623047\" xlink:href=\"#DejaVuSans-48\"/>\r\n       <use x=\"127.246094\" xlink:href=\"#DejaVuSans-48\"/>\r\n       <use x=\"190.869141\" xlink:href=\"#DejaVuSans-48\"/>\r\n      </g>\r\n     </g>\r\n    </g>\r\n    <g id=\"xtick_5\">\r\n     <g id=\"line2d_5\">\r\n      <g>\r\n       <use style=\"stroke:#000000;stroke-width:0.8;\" x=\"364.1782\" xlink:href=\"#m847b38905c\" y=\"239.758125\"/>\r\n      </g>\r\n     </g>\r\n     <g id=\"text_5\">\r\n      <!-- 2010 -->\r\n      <g transform=\"translate(351.4532 254.356562)scale(0.1 -0.1)\">\r\n       <use xlink:href=\"#DejaVuSans-50\"/>\r\n       <use x=\"63.623047\" xlink:href=\"#DejaVuSans-48\"/>\r\n       <use x=\"127.246094\" xlink:href=\"#DejaVuSans-49\"/>\r\n       <use x=\"190.869141\" xlink:href=\"#DejaVuSans-48\"/>\r\n      </g>\r\n     </g>\r\n    </g>\r\n    <g id=\"text_6\">\r\n     <!-- Year -->\r\n     <defs>\r\n      <path d=\"M -0.203125 72.90625 \r\nL 10.40625 72.90625 \r\nL 30.609375 42.921875 \r\nL 50.6875 72.90625 \r\nL 61.28125 72.90625 \r\nL 35.5 34.71875 \r\nL 35.5 0 \r\nL 25.59375 0 \r\nL 25.59375 34.71875 \r\nz\r\n\" id=\"DejaVuSans-89\"/>\r\n      <path d=\"M 56.203125 29.59375 \r\nL 56.203125 25.203125 \r\nL 14.890625 25.203125 \r\nQ 15.484375 15.921875 20.484375 11.0625 \r\nQ 25.484375 6.203125 34.421875 6.203125 \r\nQ 39.59375 6.203125 44.453125 7.46875 \r\nQ 49.3125 8.734375 54.109375 11.28125 \r\nL 54.109375 2.78125 \r\nQ 49.265625 0.734375 44.1875 -0.34375 \r\nQ 39.109375 -1.421875 33.890625 -1.421875 \r\nQ 20.796875 -1.421875 13.15625 6.1875 \r\nQ 5.515625 13.8125 5.515625 26.8125 \r\nQ 5.515625 40.234375 12.765625 48.109375 \r\nQ 20.015625 56 32.328125 56 \r\nQ 43.359375 56 49.78125 48.890625 \r\nQ 56.203125 41.796875 56.203125 29.59375 \r\nz\r\nM 47.21875 32.234375 \r\nQ 47.125 39.59375 43.09375 43.984375 \r\nQ 39.0625 48.390625 32.421875 48.390625 \r\nQ 24.90625 48.390625 20.390625 44.140625 \r\nQ 15.875 39.890625 15.1875 32.171875 \r\nz\r\n\" id=\"DejaVuSans-101\"/>\r\n      <path d=\"M 34.28125 27.484375 \r\nQ 23.390625 27.484375 19.1875 25 \r\nQ 14.984375 22.515625 14.984375 16.5 \r\nQ 14.984375 11.71875 18.140625 8.90625 \r\nQ 21.296875 6.109375 26.703125 6.109375 \r\nQ 34.1875 6.109375 38.703125 11.40625 \r\nQ 43.21875 16.703125 43.21875 25.484375 \r\nL 43.21875 27.484375 \r\nz\r\nM 52.203125 31.203125 \r\nL 52.203125 0 \r\nL 43.21875 0 \r\nL 43.21875 8.296875 \r\nQ 40.140625 3.328125 35.546875 0.953125 \r\nQ 30.953125 -1.421875 24.3125 -1.421875 \r\nQ 15.921875 -1.421875 10.953125 3.296875 \r\nQ 6 8.015625 6 15.921875 \r\nQ 6 25.140625 12.171875 29.828125 \r\nQ 18.359375 34.515625 30.609375 34.515625 \r\nL 43.21875 34.515625 \r\nL 43.21875 35.40625 \r\nQ 43.21875 41.609375 39.140625 45 \r\nQ 35.0625 48.390625 27.6875 48.390625 \r\nQ 23 48.390625 18.546875 47.265625 \r\nQ 14.109375 46.140625 10.015625 43.890625 \r\nL 10.015625 52.203125 \r\nQ 14.9375 54.109375 19.578125 55.046875 \r\nQ 24.21875 56 28.609375 56 \r\nQ 40.484375 56 46.34375 49.84375 \r\nQ 52.203125 43.703125 52.203125 31.203125 \r\nz\r\n\" id=\"DejaVuSans-97\"/>\r\n      <path d=\"M 41.109375 46.296875 \r\nQ 39.59375 47.171875 37.8125 47.578125 \r\nQ 36.03125 48 33.890625 48 \r\nQ 26.265625 48 22.1875 43.046875 \r\nQ 18.109375 38.09375 18.109375 28.8125 \r\nL 18.109375 0 \r\nL 9.078125 0 \r\nL 9.078125 54.6875 \r\nL 18.109375 54.6875 \r\nL 18.109375 46.1875 \r\nQ 20.953125 51.171875 25.484375 53.578125 \r\nQ 30.03125 56 36.53125 56 \r\nQ 37.453125 56 38.578125 55.875 \r\nQ 39.703125 55.765625 41.0625 55.515625 \r\nz\r\n\" id=\"DejaVuSans-114\"/>\r\n     </defs>\r\n     <g transform=\"translate(210.140625 268.034687)scale(0.1 -0.1)\">\r\n      <use xlink:href=\"#DejaVuSans-89\"/>\r\n      <use x=\"47.833984\" xlink:href=\"#DejaVuSans-101\"/>\r\n      <use x=\"109.357422\" xlink:href=\"#DejaVuSans-97\"/>\r\n      <use x=\"170.636719\" xlink:href=\"#DejaVuSans-114\"/>\r\n     </g>\r\n    </g>\r\n   </g>\r\n   <g id=\"matplotlib.axis_2\">\r\n    <g id=\"ytick_1\">\r\n     <g id=\"line2d_6\">\r\n      <defs>\r\n       <path d=\"M 0 0 \r\nL -3.5 0 \r\n\" id=\"m197d16c4ab\" style=\"stroke:#000000;stroke-width:0.8;\"/>\r\n      </defs>\r\n      <g>\r\n       <use style=\"stroke:#000000;stroke-width:0.8;\" x=\"53.328125\" xlink:href=\"#m197d16c4ab\" y=\"239.758125\"/>\r\n      </g>\r\n     </g>\r\n     <g id=\"text_7\">\r\n      <!-- 0 -->\r\n      <g transform=\"translate(39.965625 243.557344)scale(0.1 -0.1)\">\r\n       <use xlink:href=\"#DejaVuSans-48\"/>\r\n      </g>\r\n     </g>\r\n    </g>\r\n    <g id=\"ytick_2\">\r\n     <g id=\"line2d_7\">\r\n      <g>\r\n       <use style=\"stroke:#000000;stroke-width:0.8;\" x=\"53.328125\" xlink:href=\"#m197d16c4ab\" y=\"192.735937\"/>\r\n      </g>\r\n     </g>\r\n     <g id=\"text_8\">\r\n      <!-- 2000 -->\r\n      <g transform=\"translate(20.878125 196.535156)scale(0.1 -0.1)\">\r\n       <use xlink:href=\"#DejaVuSans-50\"/>\r\n       <use x=\"63.623047\" xlink:href=\"#DejaVuSans-48\"/>\r\n       <use x=\"127.246094\" xlink:href=\"#DejaVuSans-48\"/>\r\n       <use x=\"190.869141\" xlink:href=\"#DejaVuSans-48\"/>\r\n      </g>\r\n     </g>\r\n    </g>\r\n    <g id=\"ytick_3\">\r\n     <g id=\"line2d_8\">\r\n      <g>\r\n       <use style=\"stroke:#000000;stroke-width:0.8;\" x=\"53.328125\" xlink:href=\"#m197d16c4ab\" y=\"145.71375\"/>\r\n      </g>\r\n     </g>\r\n     <g id=\"text_9\">\r\n      <!-- 4000 -->\r\n      <defs>\r\n       <path d=\"M 37.796875 64.3125 \r\nL 12.890625 25.390625 \r\nL 37.796875 25.390625 \r\nz\r\nM 35.203125 72.90625 \r\nL 47.609375 72.90625 \r\nL 47.609375 25.390625 \r\nL 58.015625 25.390625 \r\nL 58.015625 17.1875 \r\nL 47.609375 17.1875 \r\nL 47.609375 0 \r\nL 37.796875 0 \r\nL 37.796875 17.1875 \r\nL 4.890625 17.1875 \r\nL 4.890625 26.703125 \r\nz\r\n\" id=\"DejaVuSans-52\"/>\r\n      </defs>\r\n      <g transform=\"translate(20.878125 149.512969)scale(0.1 -0.1)\">\r\n       <use xlink:href=\"#DejaVuSans-52\"/>\r\n       <use x=\"63.623047\" xlink:href=\"#DejaVuSans-48\"/>\r\n       <use x=\"127.246094\" xlink:href=\"#DejaVuSans-48\"/>\r\n       <use x=\"190.869141\" xlink:href=\"#DejaVuSans-48\"/>\r\n      </g>\r\n     </g>\r\n    </g>\r\n    <g id=\"ytick_4\">\r\n     <g id=\"line2d_9\">\r\n      <g>\r\n       <use style=\"stroke:#000000;stroke-width:0.8;\" x=\"53.328125\" xlink:href=\"#m197d16c4ab\" y=\"98.691562\"/>\r\n      </g>\r\n     </g>\r\n     <g id=\"text_10\">\r\n      <!-- 6000 -->\r\n      <defs>\r\n       <path d=\"M 33.015625 40.375 \r\nQ 26.375 40.375 22.484375 35.828125 \r\nQ 18.609375 31.296875 18.609375 23.390625 \r\nQ 18.609375 15.53125 22.484375 10.953125 \r\nQ 26.375 6.390625 33.015625 6.390625 \r\nQ 39.65625 6.390625 43.53125 10.953125 \r\nQ 47.40625 15.53125 47.40625 23.390625 \r\nQ 47.40625 31.296875 43.53125 35.828125 \r\nQ 39.65625 40.375 33.015625 40.375 \r\nz\r\nM 52.59375 71.296875 \r\nL 52.59375 62.3125 \r\nQ 48.875 64.0625 45.09375 64.984375 \r\nQ 41.3125 65.921875 37.59375 65.921875 \r\nQ 27.828125 65.921875 22.671875 59.328125 \r\nQ 17.53125 52.734375 16.796875 39.40625 \r\nQ 19.671875 43.65625 24.015625 45.921875 \r\nQ 28.375 48.1875 33.59375 48.1875 \r\nQ 44.578125 48.1875 50.953125 41.515625 \r\nQ 57.328125 34.859375 57.328125 23.390625 \r\nQ 57.328125 12.15625 50.6875 5.359375 \r\nQ 44.046875 -1.421875 33.015625 -1.421875 \r\nQ 20.359375 -1.421875 13.671875 8.265625 \r\nQ 6.984375 17.96875 6.984375 36.375 \r\nQ 6.984375 53.65625 15.1875 63.9375 \r\nQ 23.390625 74.21875 37.203125 74.21875 \r\nQ 40.921875 74.21875 44.703125 73.484375 \r\nQ 48.484375 72.75 52.59375 71.296875 \r\nz\r\n\" id=\"DejaVuSans-54\"/>\r\n      </defs>\r\n      <g transform=\"translate(20.878125 102.490781)scale(0.1 -0.1)\">\r\n       <use xlink:href=\"#DejaVuSans-54\"/>\r\n       <use x=\"63.623047\" xlink:href=\"#DejaVuSans-48\"/>\r\n       <use x=\"127.246094\" xlink:href=\"#DejaVuSans-48\"/>\r\n       <use x=\"190.869141\" xlink:href=\"#DejaVuSans-48\"/>\r\n      </g>\r\n     </g>\r\n    </g>\r\n    <g id=\"ytick_5\">\r\n     <g id=\"line2d_10\">\r\n      <g>\r\n       <use style=\"stroke:#000000;stroke-width:0.8;\" x=\"53.328125\" xlink:href=\"#m197d16c4ab\" y=\"51.669375\"/>\r\n      </g>\r\n     </g>\r\n     <g id=\"text_11\">\r\n      <!-- 8000 -->\r\n      <g transform=\"translate(20.878125 55.468593)scale(0.1 -0.1)\">\r\n       <use xlink:href=\"#DejaVuSans-56\"/>\r\n       <use x=\"63.623047\" xlink:href=\"#DejaVuSans-48\"/>\r\n       <use x=\"127.246094\" xlink:href=\"#DejaVuSans-48\"/>\r\n       <use x=\"190.869141\" xlink:href=\"#DejaVuSans-48\"/>\r\n      </g>\r\n     </g>\r\n    </g>\r\n    <g id=\"text_12\">\r\n     <!-- Number of Words Spoken -->\r\n     <defs>\r\n      <path d=\"M 9.8125 72.90625 \r\nL 23.09375 72.90625 \r\nL 55.421875 11.921875 \r\nL 55.421875 72.90625 \r\nL 64.984375 72.90625 \r\nL 64.984375 0 \r\nL 51.703125 0 \r\nL 19.390625 60.984375 \r\nL 19.390625 0 \r\nL 9.8125 0 \r\nz\r\n\" id=\"DejaVuSans-78\"/>\r\n      <path d=\"M 8.5 21.578125 \r\nL 8.5 54.6875 \r\nL 17.484375 54.6875 \r\nL 17.484375 21.921875 \r\nQ 17.484375 14.15625 20.5 10.265625 \r\nQ 23.53125 6.390625 29.59375 6.390625 \r\nQ 36.859375 6.390625 41.078125 11.03125 \r\nQ 45.3125 15.671875 45.3125 23.6875 \r\nL 45.3125 54.6875 \r\nL 54.296875 54.6875 \r\nL 54.296875 0 \r\nL 45.3125 0 \r\nL 45.3125 8.40625 \r\nQ 42.046875 3.421875 37.71875 1 \r\nQ 33.40625 -1.421875 27.6875 -1.421875 \r\nQ 18.265625 -1.421875 13.375 4.4375 \r\nQ 8.5 10.296875 8.5 21.578125 \r\nz\r\nM 31.109375 56 \r\nz\r\n\" id=\"DejaVuSans-117\"/>\r\n      <path d=\"M 52 44.1875 \r\nQ 55.375 50.25 60.0625 53.125 \r\nQ 64.75 56 71.09375 56 \r\nQ 79.640625 56 84.28125 50.015625 \r\nQ 88.921875 44.046875 88.921875 33.015625 \r\nL 88.921875 0 \r\nL 79.890625 0 \r\nL 79.890625 32.71875 \r\nQ 79.890625 40.578125 77.09375 44.375 \r\nQ 74.3125 48.1875 68.609375 48.1875 \r\nQ 61.625 48.1875 57.5625 43.546875 \r\nQ 53.515625 38.921875 53.515625 30.90625 \r\nL 53.515625 0 \r\nL 44.484375 0 \r\nL 44.484375 32.71875 \r\nQ 44.484375 40.625 41.703125 44.40625 \r\nQ 38.921875 48.1875 33.109375 48.1875 \r\nQ 26.21875 48.1875 22.15625 43.53125 \r\nQ 18.109375 38.875 18.109375 30.90625 \r\nL 18.109375 0 \r\nL 9.078125 0 \r\nL 9.078125 54.6875 \r\nL 18.109375 54.6875 \r\nL 18.109375 46.1875 \r\nQ 21.1875 51.21875 25.484375 53.609375 \r\nQ 29.78125 56 35.6875 56 \r\nQ 41.65625 56 45.828125 52.96875 \r\nQ 50 49.953125 52 44.1875 \r\nz\r\n\" id=\"DejaVuSans-109\"/>\r\n      <path d=\"M 48.6875 27.296875 \r\nQ 48.6875 37.203125 44.609375 42.84375 \r\nQ 40.53125 48.484375 33.40625 48.484375 \r\nQ 26.265625 48.484375 22.1875 42.84375 \r\nQ 18.109375 37.203125 18.109375 27.296875 \r\nQ 18.109375 17.390625 22.1875 11.75 \r\nQ 26.265625 6.109375 33.40625 6.109375 \r\nQ 40.53125 6.109375 44.609375 11.75 \r\nQ 48.6875 17.390625 48.6875 27.296875 \r\nz\r\nM 18.109375 46.390625 \r\nQ 20.953125 51.265625 25.265625 53.625 \r\nQ 29.59375 56 35.59375 56 \r\nQ 45.5625 56 51.78125 48.09375 \r\nQ 58.015625 40.1875 58.015625 27.296875 \r\nQ 58.015625 14.40625 51.78125 6.484375 \r\nQ 45.5625 -1.421875 35.59375 -1.421875 \r\nQ 29.59375 -1.421875 25.265625 0.953125 \r\nQ 20.953125 3.328125 18.109375 8.203125 \r\nL 18.109375 0 \r\nL 9.078125 0 \r\nL 9.078125 75.984375 \r\nL 18.109375 75.984375 \r\nz\r\n\" id=\"DejaVuSans-98\"/>\r\n      <path id=\"DejaVuSans-32\"/>\r\n      <path d=\"M 30.609375 48.390625 \r\nQ 23.390625 48.390625 19.1875 42.75 \r\nQ 14.984375 37.109375 14.984375 27.296875 \r\nQ 14.984375 17.484375 19.15625 11.84375 \r\nQ 23.34375 6.203125 30.609375 6.203125 \r\nQ 37.796875 6.203125 41.984375 11.859375 \r\nQ 46.1875 17.53125 46.1875 27.296875 \r\nQ 46.1875 37.015625 41.984375 42.703125 \r\nQ 37.796875 48.390625 30.609375 48.390625 \r\nz\r\nM 30.609375 56 \r\nQ 42.328125 56 49.015625 48.375 \r\nQ 55.71875 40.765625 55.71875 27.296875 \r\nQ 55.71875 13.875 49.015625 6.21875 \r\nQ 42.328125 -1.421875 30.609375 -1.421875 \r\nQ 18.84375 -1.421875 12.171875 6.21875 \r\nQ 5.515625 13.875 5.515625 27.296875 \r\nQ 5.515625 40.765625 12.171875 48.375 \r\nQ 18.84375 56 30.609375 56 \r\nz\r\n\" id=\"DejaVuSans-111\"/>\r\n      <path d=\"M 37.109375 75.984375 \r\nL 37.109375 68.5 \r\nL 28.515625 68.5 \r\nQ 23.6875 68.5 21.796875 66.546875 \r\nQ 19.921875 64.59375 19.921875 59.515625 \r\nL 19.921875 54.6875 \r\nL 34.71875 54.6875 \r\nL 34.71875 47.703125 \r\nL 19.921875 47.703125 \r\nL 19.921875 0 \r\nL 10.890625 0 \r\nL 10.890625 47.703125 \r\nL 2.296875 47.703125 \r\nL 2.296875 54.6875 \r\nL 10.890625 54.6875 \r\nL 10.890625 58.5 \r\nQ 10.890625 67.625 15.140625 71.796875 \r\nQ 19.390625 75.984375 28.609375 75.984375 \r\nz\r\n\" id=\"DejaVuSans-102\"/>\r\n      <path d=\"M 3.328125 72.90625 \r\nL 13.28125 72.90625 \r\nL 28.609375 11.28125 \r\nL 43.890625 72.90625 \r\nL 54.984375 72.90625 \r\nL 70.3125 11.28125 \r\nL 85.59375 72.90625 \r\nL 95.609375 72.90625 \r\nL 77.296875 0 \r\nL 64.890625 0 \r\nL 49.515625 63.28125 \r\nL 33.984375 0 \r\nL 21.578125 0 \r\nz\r\n\" id=\"DejaVuSans-87\"/>\r\n      <path d=\"M 45.40625 46.390625 \r\nL 45.40625 75.984375 \r\nL 54.390625 75.984375 \r\nL 54.390625 0 \r\nL 45.40625 0 \r\nL 45.40625 8.203125 \r\nQ 42.578125 3.328125 38.25 0.953125 \r\nQ 33.9375 -1.421875 27.875 -1.421875 \r\nQ 17.96875 -1.421875 11.734375 6.484375 \r\nQ 5.515625 14.40625 5.515625 27.296875 \r\nQ 5.515625 40.1875 11.734375 48.09375 \r\nQ 17.96875 56 27.875 56 \r\nQ 33.9375 56 38.25 53.625 \r\nQ 42.578125 51.265625 45.40625 46.390625 \r\nz\r\nM 14.796875 27.296875 \r\nQ 14.796875 17.390625 18.875 11.75 \r\nQ 22.953125 6.109375 30.078125 6.109375 \r\nQ 37.203125 6.109375 41.296875 11.75 \r\nQ 45.40625 17.390625 45.40625 27.296875 \r\nQ 45.40625 37.203125 41.296875 42.84375 \r\nQ 37.203125 48.484375 30.078125 48.484375 \r\nQ 22.953125 48.484375 18.875 42.84375 \r\nQ 14.796875 37.203125 14.796875 27.296875 \r\nz\r\n\" id=\"DejaVuSans-100\"/>\r\n      <path d=\"M 44.28125 53.078125 \r\nL 44.28125 44.578125 \r\nQ 40.484375 46.53125 36.375 47.5 \r\nQ 32.28125 48.484375 27.875 48.484375 \r\nQ 21.1875 48.484375 17.84375 46.4375 \r\nQ 14.5 44.390625 14.5 40.28125 \r\nQ 14.5 37.15625 16.890625 35.375 \r\nQ 19.28125 33.59375 26.515625 31.984375 \r\nL 29.59375 31.296875 \r\nQ 39.15625 29.25 43.1875 25.515625 \r\nQ 47.21875 21.78125 47.21875 15.09375 \r\nQ 47.21875 7.46875 41.1875 3.015625 \r\nQ 35.15625 -1.421875 24.609375 -1.421875 \r\nQ 20.21875 -1.421875 15.453125 -0.5625 \r\nQ 10.6875 0.296875 5.421875 2 \r\nL 5.421875 11.28125 \r\nQ 10.40625 8.6875 15.234375 7.390625 \r\nQ 20.0625 6.109375 24.8125 6.109375 \r\nQ 31.15625 6.109375 34.5625 8.28125 \r\nQ 37.984375 10.453125 37.984375 14.40625 \r\nQ 37.984375 18.0625 35.515625 20.015625 \r\nQ 33.0625 21.96875 24.703125 23.78125 \r\nL 21.578125 24.515625 \r\nQ 13.234375 26.265625 9.515625 29.90625 \r\nQ 5.8125 33.546875 5.8125 39.890625 \r\nQ 5.8125 47.609375 11.28125 51.796875 \r\nQ 16.75 56 26.8125 56 \r\nQ 31.78125 56 36.171875 55.265625 \r\nQ 40.578125 54.546875 44.28125 53.078125 \r\nz\r\n\" id=\"DejaVuSans-115\"/>\r\n      <path d=\"M 53.515625 70.515625 \r\nL 53.515625 60.890625 \r\nQ 47.90625 63.578125 42.921875 64.890625 \r\nQ 37.9375 66.21875 33.296875 66.21875 \r\nQ 25.25 66.21875 20.875 63.09375 \r\nQ 16.5 59.96875 16.5 54.203125 \r\nQ 16.5 49.359375 19.40625 46.890625 \r\nQ 22.3125 44.4375 30.421875 42.921875 \r\nL 36.375 41.703125 \r\nQ 47.40625 39.59375 52.65625 34.296875 \r\nQ 57.90625 29 57.90625 20.125 \r\nQ 57.90625 9.515625 50.796875 4.046875 \r\nQ 43.703125 -1.421875 29.984375 -1.421875 \r\nQ 24.8125 -1.421875 18.96875 -0.25 \r\nQ 13.140625 0.921875 6.890625 3.21875 \r\nL 6.890625 13.375 \r\nQ 12.890625 10.015625 18.65625 8.296875 \r\nQ 24.421875 6.59375 29.984375 6.59375 \r\nQ 38.421875 6.59375 43.015625 9.90625 \r\nQ 47.609375 13.234375 47.609375 19.390625 \r\nQ 47.609375 24.75 44.3125 27.78125 \r\nQ 41.015625 30.8125 33.5 32.328125 \r\nL 27.484375 33.5 \r\nQ 16.453125 35.6875 11.515625 40.375 \r\nQ 6.59375 45.0625 6.59375 53.421875 \r\nQ 6.59375 63.09375 13.40625 68.65625 \r\nQ 20.21875 74.21875 32.171875 74.21875 \r\nQ 37.3125 74.21875 42.625 73.28125 \r\nQ 47.953125 72.359375 53.515625 70.515625 \r\nz\r\n\" id=\"DejaVuSans-83\"/>\r\n      <path d=\"M 18.109375 8.203125 \r\nL 18.109375 -20.796875 \r\nL 9.078125 -20.796875 \r\nL 9.078125 54.6875 \r\nL 18.109375 54.6875 \r\nL 18.109375 46.390625 \r\nQ 20.953125 51.265625 25.265625 53.625 \r\nQ 29.59375 56 35.59375 56 \r\nQ 45.5625 56 51.78125 48.09375 \r\nQ 58.015625 40.1875 58.015625 27.296875 \r\nQ 58.015625 14.40625 51.78125 6.484375 \r\nQ 45.5625 -1.421875 35.59375 -1.421875 \r\nQ 29.59375 -1.421875 25.265625 0.953125 \r\nQ 20.953125 3.328125 18.109375 8.203125 \r\nz\r\nM 48.6875 27.296875 \r\nQ 48.6875 37.203125 44.609375 42.84375 \r\nQ 40.53125 48.484375 33.40625 48.484375 \r\nQ 26.265625 48.484375 22.1875 42.84375 \r\nQ 18.109375 37.203125 18.109375 27.296875 \r\nQ 18.109375 17.390625 22.1875 11.75 \r\nQ 26.265625 6.109375 33.40625 6.109375 \r\nQ 40.53125 6.109375 44.609375 11.75 \r\nQ 48.6875 17.390625 48.6875 27.296875 \r\nz\r\n\" id=\"DejaVuSans-112\"/>\r\n      <path d=\"M 9.078125 75.984375 \r\nL 18.109375 75.984375 \r\nL 18.109375 31.109375 \r\nL 44.921875 54.6875 \r\nL 56.390625 54.6875 \r\nL 27.390625 29.109375 \r\nL 57.625 0 \r\nL 45.90625 0 \r\nL 18.109375 26.703125 \r\nL 18.109375 0 \r\nL 9.078125 0 \r\nz\r\n\" id=\"DejaVuSans-107\"/>\r\n      <path d=\"M 54.890625 33.015625 \r\nL 54.890625 0 \r\nL 45.90625 0 \r\nL 45.90625 32.71875 \r\nQ 45.90625 40.484375 42.875 44.328125 \r\nQ 39.84375 48.1875 33.796875 48.1875 \r\nQ 26.515625 48.1875 22.3125 43.546875 \r\nQ 18.109375 38.921875 18.109375 30.90625 \r\nL 18.109375 0 \r\nL 9.078125 0 \r\nL 9.078125 54.6875 \r\nL 18.109375 54.6875 \r\nL 18.109375 46.1875 \r\nQ 21.34375 51.125 25.703125 53.5625 \r\nQ 30.078125 56 35.796875 56 \r\nQ 45.21875 56 50.046875 50.171875 \r\nQ 54.890625 44.34375 54.890625 33.015625 \r\nz\r\n\" id=\"DejaVuSans-110\"/>\r\n     </defs>\r\n     <g transform=\"translate(14.798438 194.534219)rotate(-90)scale(0.1 -0.1)\">\r\n      <use xlink:href=\"#DejaVuSans-78\"/>\r\n      <use x=\"74.804688\" xlink:href=\"#DejaVuSans-117\"/>\r\n      <use x=\"138.183594\" xlink:href=\"#DejaVuSans-109\"/>\r\n      <use x=\"235.595703\" xlink:href=\"#DejaVuSans-98\"/>\r\n      <use x=\"299.072266\" xlink:href=\"#DejaVuSans-101\"/>\r\n      <use x=\"360.595703\" xlink:href=\"#DejaVuSans-114\"/>\r\n      <use x=\"401.708984\" xlink:href=\"#DejaVuSans-32\"/>\r\n      <use x=\"433.496094\" xlink:href=\"#DejaVuSans-111\"/>\r\n      <use x=\"494.677734\" xlink:href=\"#DejaVuSans-102\"/>\r\n      <use x=\"529.882812\" xlink:href=\"#DejaVuSans-32\"/>\r\n      <use x=\"561.669922\" xlink:href=\"#DejaVuSans-87\"/>\r\n      <use x=\"654.671875\" xlink:href=\"#DejaVuSans-111\"/>\r\n      <use x=\"715.853516\" xlink:href=\"#DejaVuSans-114\"/>\r\n      <use x=\"755.216797\" xlink:href=\"#DejaVuSans-100\"/>\r\n      <use x=\"818.693359\" xlink:href=\"#DejaVuSans-115\"/>\r\n      <use x=\"870.792969\" xlink:href=\"#DejaVuSans-32\"/>\r\n      <use x=\"902.580078\" xlink:href=\"#DejaVuSans-83\"/>\r\n      <use x=\"966.056641\" xlink:href=\"#DejaVuSans-112\"/>\r\n      <use x=\"1029.533203\" xlink:href=\"#DejaVuSans-111\"/>\r\n      <use x=\"1090.714844\" xlink:href=\"#DejaVuSans-107\"/>\r\n      <use x=\"1145\" xlink:href=\"#DejaVuSans-101\"/>\r\n      <use x=\"1206.523438\" xlink:href=\"#DejaVuSans-110\"/>\r\n     </g>\r\n    </g>\r\n   </g>\r\n   <g id=\"patch_55\">\r\n    <path d=\"M 53.328125 239.758125 \r\nL 53.328125 22.318125 \r\n\" style=\"fill:none;stroke:#000000;stroke-linecap:square;stroke-linejoin:miter;stroke-width:0.8;\"/>\r\n   </g>\r\n   <g id=\"patch_56\">\r\n    <path d=\"M 388.128125 239.758125 \r\nL 388.128125 22.318125 \r\n\" style=\"fill:none;stroke:#000000;stroke-linecap:square;stroke-linejoin:miter;stroke-width:0.8;\"/>\r\n   </g>\r\n   <g id=\"patch_57\">\r\n    <path d=\"M 53.328125 239.758125 \r\nL 388.128125 239.758125 \r\n\" style=\"fill:none;stroke:#000000;stroke-linecap:square;stroke-linejoin:miter;stroke-width:0.8;\"/>\r\n   </g>\r\n   <g id=\"patch_58\">\r\n    <path d=\"M 53.328125 22.318125 \r\nL 388.128125 22.318125 \r\n\" style=\"fill:none;stroke:#000000;stroke-linecap:square;stroke-linejoin:miter;stroke-width:0.8;\"/>\r\n   </g>\r\n   <g id=\"text_13\">\r\n    <!-- Number of Words Spoken by Villain by Release Date of Movie -->\r\n    <defs>\r\n     <path d=\"M 32.171875 -5.078125 \r\nQ 28.375 -14.84375 24.75 -17.8125 \r\nQ 21.140625 -20.796875 15.09375 -20.796875 \r\nL 7.90625 -20.796875 \r\nL 7.90625 -13.28125 \r\nL 13.1875 -13.28125 \r\nQ 16.890625 -13.28125 18.9375 -11.515625 \r\nQ 21 -9.765625 23.484375 -3.21875 \r\nL 25.09375 0.875 \r\nL 2.984375 54.6875 \r\nL 12.5 54.6875 \r\nL 29.59375 11.921875 \r\nL 46.6875 54.6875 \r\nL 56.203125 54.6875 \r\nz\r\n\" id=\"DejaVuSans-121\"/>\r\n     <path d=\"M 28.609375 0 \r\nL 0.78125 72.90625 \r\nL 11.078125 72.90625 \r\nL 34.1875 11.53125 \r\nL 57.328125 72.90625 \r\nL 67.578125 72.90625 \r\nL 39.796875 0 \r\nz\r\n\" id=\"DejaVuSans-86\"/>\r\n     <path d=\"M 9.421875 54.6875 \r\nL 18.40625 54.6875 \r\nL 18.40625 0 \r\nL 9.421875 0 \r\nz\r\nM 9.421875 75.984375 \r\nL 18.40625 75.984375 \r\nL 18.40625 64.59375 \r\nL 9.421875 64.59375 \r\nz\r\n\" id=\"DejaVuSans-105\"/>\r\n     <path d=\"M 9.421875 75.984375 \r\nL 18.40625 75.984375 \r\nL 18.40625 0 \r\nL 9.421875 0 \r\nz\r\n\" id=\"DejaVuSans-108\"/>\r\n     <path d=\"M 44.390625 34.1875 \r\nQ 47.5625 33.109375 50.5625 29.59375 \r\nQ 53.5625 26.078125 56.59375 19.921875 \r\nL 66.609375 0 \r\nL 56 0 \r\nL 46.6875 18.703125 \r\nQ 43.0625 26.03125 39.671875 28.421875 \r\nQ 36.28125 30.8125 30.421875 30.8125 \r\nL 19.671875 30.8125 \r\nL 19.671875 0 \r\nL 9.8125 0 \r\nL 9.8125 72.90625 \r\nL 32.078125 72.90625 \r\nQ 44.578125 72.90625 50.734375 67.671875 \r\nQ 56.890625 62.453125 56.890625 51.90625 \r\nQ 56.890625 45.015625 53.6875 40.46875 \r\nQ 50.484375 35.9375 44.390625 34.1875 \r\nz\r\nM 19.671875 64.796875 \r\nL 19.671875 38.921875 \r\nL 32.078125 38.921875 \r\nQ 39.203125 38.921875 42.84375 42.21875 \r\nQ 46.484375 45.515625 46.484375 51.90625 \r\nQ 46.484375 58.296875 42.84375 61.546875 \r\nQ 39.203125 64.796875 32.078125 64.796875 \r\nz\r\n\" id=\"DejaVuSans-82\"/>\r\n     <path d=\"M 19.671875 64.796875 \r\nL 19.671875 8.109375 \r\nL 31.59375 8.109375 \r\nQ 46.6875 8.109375 53.6875 14.9375 \r\nQ 60.6875 21.78125 60.6875 36.53125 \r\nQ 60.6875 51.171875 53.6875 57.984375 \r\nQ 46.6875 64.796875 31.59375 64.796875 \r\nz\r\nM 9.8125 72.90625 \r\nL 30.078125 72.90625 \r\nQ 51.265625 72.90625 61.171875 64.09375 \r\nQ 71.09375 55.28125 71.09375 36.53125 \r\nQ 71.09375 17.671875 61.125 8.828125 \r\nQ 51.171875 0 30.078125 0 \r\nL 9.8125 0 \r\nz\r\n\" id=\"DejaVuSans-68\"/>\r\n     <path d=\"M 18.3125 70.21875 \r\nL 18.3125 54.6875 \r\nL 36.8125 54.6875 \r\nL 36.8125 47.703125 \r\nL 18.3125 47.703125 \r\nL 18.3125 18.015625 \r\nQ 18.3125 11.328125 20.140625 9.421875 \r\nQ 21.96875 7.515625 27.59375 7.515625 \r\nL 36.8125 7.515625 \r\nL 36.8125 0 \r\nL 27.59375 0 \r\nQ 17.1875 0 13.234375 3.875 \r\nQ 9.28125 7.765625 9.28125 18.015625 \r\nL 9.28125 47.703125 \r\nL 2.6875 47.703125 \r\nL 2.6875 54.6875 \r\nL 9.28125 54.6875 \r\nL 9.28125 70.21875 \r\nz\r\n\" id=\"DejaVuSans-116\"/>\r\n     <path d=\"M 9.8125 72.90625 \r\nL 24.515625 72.90625 \r\nL 43.109375 23.296875 \r\nL 61.8125 72.90625 \r\nL 76.515625 72.90625 \r\nL 76.515625 0 \r\nL 66.890625 0 \r\nL 66.890625 64.015625 \r\nL 48.09375 14.015625 \r\nL 38.1875 14.015625 \r\nL 19.390625 64.015625 \r\nL 19.390625 0 \r\nL 9.8125 0 \r\nz\r\n\" id=\"DejaVuSans-77\"/>\r\n     <path d=\"M 2.984375 54.6875 \r\nL 12.5 54.6875 \r\nL 29.59375 8.796875 \r\nL 46.6875 54.6875 \r\nL 56.203125 54.6875 \r\nL 35.6875 0 \r\nL 23.484375 0 \r\nz\r\n\" id=\"DejaVuSans-118\"/>\r\n    </defs>\r\n    <g transform=\"translate(37.02125 16.318125)scale(0.12 -0.12)\">\r\n     <use xlink:href=\"#DejaVuSans-78\"/>\r\n     <use x=\"74.804688\" xlink:href=\"#DejaVuSans-117\"/>\r\n     <use x=\"138.183594\" xlink:href=\"#DejaVuSans-109\"/>\r\n     <use x=\"235.595703\" xlink:href=\"#DejaVuSans-98\"/>\r\n     <use x=\"299.072266\" xlink:href=\"#DejaVuSans-101\"/>\r\n     <use x=\"360.595703\" xlink:href=\"#DejaVuSans-114\"/>\r\n     <use x=\"401.708984\" xlink:href=\"#DejaVuSans-32\"/>\r\n     <use x=\"433.496094\" xlink:href=\"#DejaVuSans-111\"/>\r\n     <use x=\"494.677734\" xlink:href=\"#DejaVuSans-102\"/>\r\n     <use x=\"529.882812\" xlink:href=\"#DejaVuSans-32\"/>\r\n     <use x=\"561.669922\" xlink:href=\"#DejaVuSans-87\"/>\r\n     <use x=\"654.671875\" xlink:href=\"#DejaVuSans-111\"/>\r\n     <use x=\"715.853516\" xlink:href=\"#DejaVuSans-114\"/>\r\n     <use x=\"755.216797\" xlink:href=\"#DejaVuSans-100\"/>\r\n     <use x=\"818.693359\" xlink:href=\"#DejaVuSans-115\"/>\r\n     <use x=\"870.792969\" xlink:href=\"#DejaVuSans-32\"/>\r\n     <use x=\"902.580078\" xlink:href=\"#DejaVuSans-83\"/>\r\n     <use x=\"966.056641\" xlink:href=\"#DejaVuSans-112\"/>\r\n     <use x=\"1029.533203\" xlink:href=\"#DejaVuSans-111\"/>\r\n     <use x=\"1090.714844\" xlink:href=\"#DejaVuSans-107\"/>\r\n     <use x=\"1145\" xlink:href=\"#DejaVuSans-101\"/>\r\n     <use x=\"1206.523438\" xlink:href=\"#DejaVuSans-110\"/>\r\n     <use x=\"1269.902344\" xlink:href=\"#DejaVuSans-32\"/>\r\n     <use x=\"1301.689453\" xlink:href=\"#DejaVuSans-98\"/>\r\n     <use x=\"1365.166016\" xlink:href=\"#DejaVuSans-121\"/>\r\n     <use x=\"1424.345703\" xlink:href=\"#DejaVuSans-32\"/>\r\n     <use x=\"1456.132812\" xlink:href=\"#DejaVuSans-86\"/>\r\n     <use x=\"1522.291016\" xlink:href=\"#DejaVuSans-105\"/>\r\n     <use x=\"1550.074219\" xlink:href=\"#DejaVuSans-108\"/>\r\n     <use x=\"1577.857422\" xlink:href=\"#DejaVuSans-108\"/>\r\n     <use x=\"1605.640625\" xlink:href=\"#DejaVuSans-97\"/>\r\n     <use x=\"1666.919922\" xlink:href=\"#DejaVuSans-105\"/>\r\n     <use x=\"1694.703125\" xlink:href=\"#DejaVuSans-110\"/>\r\n     <use x=\"1758.082031\" xlink:href=\"#DejaVuSans-32\"/>\r\n     <use x=\"1789.869141\" xlink:href=\"#DejaVuSans-98\"/>\r\n     <use x=\"1853.345703\" xlink:href=\"#DejaVuSans-121\"/>\r\n     <use x=\"1912.525391\" xlink:href=\"#DejaVuSans-32\"/>\r\n     <use x=\"1944.3125\" xlink:href=\"#DejaVuSans-82\"/>\r\n     <use x=\"2009.294922\" xlink:href=\"#DejaVuSans-101\"/>\r\n     <use x=\"2070.818359\" xlink:href=\"#DejaVuSans-108\"/>\r\n     <use x=\"2098.601562\" xlink:href=\"#DejaVuSans-101\"/>\r\n     <use x=\"2160.125\" xlink:href=\"#DejaVuSans-97\"/>\r\n     <use x=\"2221.404297\" xlink:href=\"#DejaVuSans-115\"/>\r\n     <use x=\"2273.503906\" xlink:href=\"#DejaVuSans-101\"/>\r\n     <use x=\"2335.027344\" xlink:href=\"#DejaVuSans-32\"/>\r\n     <use x=\"2366.814453\" xlink:href=\"#DejaVuSans-68\"/>\r\n     <use x=\"2443.816406\" xlink:href=\"#DejaVuSans-97\"/>\r\n     <use x=\"2505.095703\" xlink:href=\"#DejaVuSans-116\"/>\r\n     <use x=\"2544.304688\" xlink:href=\"#DejaVuSans-101\"/>\r\n     <use x=\"2605.828125\" xlink:href=\"#DejaVuSans-32\"/>\r\n     <use x=\"2637.615234\" xlink:href=\"#DejaVuSans-111\"/>\r\n     <use x=\"2698.796875\" xlink:href=\"#DejaVuSans-102\"/>\r\n     <use x=\"2734.001953\" xlink:href=\"#DejaVuSans-32\"/>\r\n     <use x=\"2765.789062\" xlink:href=\"#DejaVuSans-77\"/>\r\n     <use x=\"2852.068359\" xlink:href=\"#DejaVuSans-111\"/>\r\n     <use x=\"2913.25\" xlink:href=\"#DejaVuSans-118\"/>\r\n     <use x=\"2972.429688\" xlink:href=\"#DejaVuSans-105\"/>\r\n     <use x=\"3000.212891\" xlink:href=\"#DejaVuSans-101\"/>\r\n    </g>\r\n   </g>\r\n  </g>\r\n </g>\r\n <defs>\r\n  <clipPath id=\"p3ef6f2a200\">\r\n   <rect height=\"217.44\" width=\"334.8\" x=\"53.328125\" y=\"22.318125\"/>\r\n  </clipPath>\r\n </defs>\r\n</svg>\r\n",
      "image/png": "[encoded data removed]"
     },
     "metadata": {
      "needs_background": "light"
     }
    }
   ],
   "source": [
    "# Average year that the movies were released\n",
    "print(\"Average year that the movies were released: {\".format(local_dataframe['year'].mean()))\n"
   ]
  },
  {
   "source": [
    "# Mean negative words by Villain versus Non-Villain\n",
    "labels = ['Non-Villain', 'Villain']\n",
    "negatives_by_type=grouped['mean_negative'].mean()\n",
    "\n",
    "labels = ['Non-Villain', 'Villain']\n",
    "plt.bar(labels, negatives_by_type)\n",
    "plt.title('Mean Negative Words Spoken by Villains and Non-Villains')\n",
    "plt.xlabel('Villain Status')\n",
    "plt.ylabel('Mean negative words spoken')\n",
    "\n",
    "plt.show()\n"
   ],
   "cell_type": "markdown",
   "metadata": {}
  },
  {
   "source": [
    "# Number of Words Spoken by Villain by Release Date of Movie\n",
    "villains = local_dataframe[local_dataframe[\"is_villain\"] == True]\n",
    "by_year=local_dataframe.groupby(['year'])\n",
    "plt.bar(villains['year'], villains['num_words'])\n",
    "plt.xlabel('Year')\n",
    "plt.ylabel('Number of Words Spoken')\n",
    "plt.title('Number of Words Spoken by Villain by Release Date of Movie')\n",
    "plt.show()"
   ],
   "cell_type": "markdown",
   "metadata": {}
  }
 ]
}