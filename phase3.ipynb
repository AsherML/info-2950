{
 "metadata": {
  "language_info": {
   "codemirror_mode": {
    "name": "ipython",
    "version": 3
   },
   "file_extension": ".py",
   "mimetype": "text/x-python",
   "name": "python",
   "nbconvert_exporter": "python",
   "pygments_lexer": "ipython3",
   "version": 3
  },
  "orig_nbformat": 2
 },
 "nbformat": 4,
 "nbformat_minor": 2,
 "cells": [
  {
   "source": [],
   "cell_type": "markdown",
   "metadata": {}
  },
  {
   "source": [
    "# Preregistration\n"
   ],
   "cell_type": "markdown",
   "metadata": {}
  },
  {
   "source": [
    "## Analysis 1: How Villian Sentiment Changes Over Time "
   ],
   "cell_type": "markdown",
   "metadata": {}
  },
  {
   "source": [
    "- Research Question: Does average villain sentiment change over time?\n",
    "\n",
    "- Hypothesis: Average villain sentiment will become increasingly more violent as time progresses.\n",
    "\n",
    "- Analysis Plan: In order to see if our hypothesis is true, we plan on normalizing the data we have already collected by movie length in order to create an even starting point for all scripts we analyze. Then, we will plot average villain sentiment by movie over time and run a linear regression model.\n",
    " \n",
    "- Why This Matters: Portrayal of villains in media makes for an interesting reflection of society over time. I think the most obvious example of this can be seen in video games and certain movies, where the more modern they get, the more violent they seem to become. This has been a point of contention for many viewers and parents who worry that on screen violence may transfer to real life. Similarly, the trend of movie villain sentiment over time will prove equally interesting and critical to reality. Should movie villain sentiment become more negative over time, or will it appear more angry? Will these changes reflect the changes we see in society throughout the decades and various wars? Shifts in culture and what is socially appropriate for media change over time, and we may see a change in villain sentiment occur due to one of those shifts. This could be fascinating as it seems what is shown on tv can be more violent or negative than used to be the case, so even if we do not see a significant change, the lack of change will be intriguing to note. The portrayal of people in the media remains interesting, especially when considering that villain sentiment analysis could be reflective of social changes in real life.  \n"
   ],
   "cell_type": "markdown",
   "metadata": {}
  },
  {
   "source": [
    "## Analysis 2: Intra-archetype Distances vs Inter-archetype Distances and Similarities. "
   ],
   "cell_type": "markdown",
   "metadata": {}
  },
  {
   "source": [
    "1. Research Question: Do villains in the mystery movie genre more closely resemble other villains from across films or other characters in their own films?\n",
    "\n",
    "2. Hypothesis: Villains will have a higher cosine similarity with other characters labeled as villains than they will with other characters \n",
    "\n",
    "3. Analysis Plan: First we will create a matrix representing word features across characters. We’ll do this both by individual token and by word-embedding in case there are meaningful similarities in tone that are obstructed by taking each actual token. For both of these matrices we will standard scale to minimize the effect of movie length and then run cosine similarities between all character dialogues. After this is done we will then divide these values into 4 columns: \n",
    "Token-based similarities between all villain pairings\n",
    "Token-based similarities between villains and other characters in their movies\n",
    "Embedding-based similarities between all villain pairings\n",
    "Embedding-based similarities between villains and other characters in their movies\n",
    "Once we have these 4 columns, we will construct mean similarity scores for each column and construct confidence intervals to see if the results are due to chance or indicative of broader patterns across the genre.\n",
    "\n",
    "4. Why This Matters: We often think of villains and heroes or villains and other characters as fundamentally opposed. Indeed, some of the most famous dynamics in movie history are between protagonists and villains: Sherlock Holmes vs Moriarty, Clarice vs Hannibal Lecter,  McMurphy and Nurse Ratched. However, what’s less certain is whether there’s something that makes these villains so uniquely villainous, or whether the definition is entirely relational to the rest of the plot. In other words, could Moriarty be accurately and fairly labeled as a villain independently of the actions and behaviors of Sherlock Holmes and the rest of the characters, or is it only through their actions that Moriarty is painted in a villainous light? Ultimately, it’s imperative to isolate what it is that makes classic movie villains so iconic both to replicate their success in the future in new characters and to perhaps understand the specific features that cause us to associate “villainous” personality traits with a character.  This last point is useful both from a fictional-analysis standpoint and to potentially isolate issues of bias in character portrayals. \n"
   ],
   "cell_type": "markdown",
   "metadata": {}
  },
  {
   "source": [
    "## Questions for Reviewers"
   ],
   "cell_type": "markdown",
   "metadata": {}
  },
  {
   "source": [
    "1. Are there any potential errors that you can see us encountering when plotting average villain sentiment (regarding the first analysis)?\n",
    "\n",
    "2. Are there any variables that perhaps we are not considering when plotting average villain sentiment against movies over time (regarding the first analysis)?\n",
    "\n",
    "3. Besides the movie length, are there any other variables that we should work to minimize in order to reduce their effect on cosine similarities between character dialogues (regarding the second analysis)? \n",
    "\n",
    "4. Is there anything in our analysis plan that we could improve upon (regarding the second analysis)?\n",
    "\n",
    "5. Are our research questions specific and targeted enough\n"
   ],
   "cell_type": "markdown",
   "metadata": {}
  }
 ]
}