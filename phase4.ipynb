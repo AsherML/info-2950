{
 "metadata": {
  "language_info": {
   "codemirror_mode": {
    "name": "ipython",
    "version": 3
   },
   "file_extension": ".py",
   "mimetype": "text/x-python",
   "name": "python",
   "nbconvert_exporter": "python",
   "pygments_lexer": "ipython3",
   "version": "3.8.3"
  },
  "orig_nbformat": 2,
  "kernelspec": {
   "name": "python383jvsc74a57bd0f62ec7ccb9190cdf7c696339bf5a0173a2767af81ddd8dbdd8c4c12684be5b27",
   "display_name": "Python 3.8.3 64-bit ('info3350': conda)"
  },
  "metadata": {
   "interpreter": {
    "hash": "f62ec7ccb9190cdf7c696339bf5a0173a2767af81ddd8dbdd8c4c12684be5b27"
   }
  }
 },
 "nbformat": 4,
 "nbformat_minor": 2,
 "cells": [
  {
   "cell_type": "code",
   "execution_count": 1,
   "metadata": {},
   "outputs": [],
   "source": [
    "import numpy as np\n",
    "import pandas as pd\n",
    "import os\n",
    "from sklearn.feature_extraction.text import TfidfVectorizer\n",
    "from sklearn.preprocessing import StandardScaler\n",
    "from sklearn.metrics.pairwise import cosine_distances\n",
    "from sklearn.metrics.pairwise import cosine_similarity"
   ]
  },
  {
   "cell_type": "code",
   "execution_count": 218,
   "metadata": {},
   "outputs": [],
   "source": [
    "scripts_df=pd.read_csv(\"mystery_movie_data.csv\")"
   ]
  },
  {
   "source": [
    "## Data Analysis 2: Intra-archetype Distances vs Inter-archetype Distances and Similarities. \n",
    " "
   ],
   "cell_type": "markdown",
   "metadata": {}
  },
  {
   "cell_type": "code",
   "execution_count": 234,
   "metadata": {},
   "outputs": [],
   "source": [
    "vectorizer=TfidfVectorizer(\n",
    "    encoding='utf-8',\n",
    "    min_df=5,\n",
    "    max_df=0.9,\n",
    "    binary=False,\n",
    "    norm='l2',\n",
    "    use_idf=True,\n",
    "    strip_accents='unicode',\n",
    "    lowercase=True\n",
    ")\n",
    "X_scripts=vectorizer.fit_transform(list(scripts_df['raw_dialogue']))\n",
    "# X_standardized=StandardScaler().fit_transform(X_scripts.toarray())"
   ]
  },
  {
   "cell_type": "code",
   "execution_count": 235,
   "metadata": {},
   "outputs": [],
   "source": [
    "#get cosine similarities between each character, both in terms of the words in their scripts and their embeddings (cos and cos_embeddings respectively)\n",
    "cos=cosine_similarity(X_scripts)\n",
    "embeddings=np.rot90([scripts_df['embedding_'+str(i)] for i in range(300)])[::-1]\n",
    "cos_embeddings=cosine_similarity(embeddings)"
   ]
  },
  {
   "cell_type": "code",
   "execution_count": 236,
   "metadata": {},
   "outputs": [],
   "source": [
    "# get the positiions of all villains and other characters in the similaritiy matrix\n",
    "villains_indices=[i for i in range(len(scripts_df)) if scripts_df['is_villain'][i]]\n",
    "other_indices=[i for i in range(len(scripts_df)) if not(scripts_df['is_villain'][i])]\n",
    "\n",
    "# set up empty arrays for each of the three types of relationships (villain-villain, villain-other, and other-other) for both word and embeddings\n",
    "all_villain_villain_similarities=[]\n",
    "all_other_other_similarities=[]\n",
    "all_villain_other_similarities=[]\n",
    "embedding_villain_villain_similarities=[]\n",
    "embedding_other_other_similarities=[]\n",
    "embedding_villain_other_similarities=[]\n",
    "\n",
    "# for each character in the matrix, get their similarities to all other characters and add those similarities to the correct array\n",
    "for i in range(len(scripts_df)):\n",
    "    if i in villains_indices:\n",
    "        for x in range(i+1, len(scripts_df)):\n",
    "            if x in villains_indices:\n",
    "                all_villain_villain_similarities.append(cos[i][x])\n",
    "                embedding_villain_villain_similarities.append(cos_embeddings[i][x])\n",
    "            elif x in other_indices:\n",
    "                all_villain_other_similarities.append(cos[i][x])\n",
    "                embedding_villain_other_similarities.append(cos_embeddings[i][x])\n",
    "    elif i in other_indices:\n",
    "        for x in range(i+1, len(scripts_df)):\n",
    "            if x in other_indices:\n",
    "                all_other_other_similarities.append(cos[i][x])\n",
    "                embedding_other_other_similarities.append(cos_embeddings[i][x])"
   ]
  },
  {
   "cell_type": "code",
   "execution_count": 237,
   "metadata": {},
   "outputs": [],
   "source": [
    "# get the locations in the similaritiy matrix of each movie\n",
    "movie_ranges=[]\n",
    "\n",
    "reverse_titles=scripts_df['movie_title'][::-1]\n",
    "\n",
    "for i in set(scripts_df['movie_title']):\n",
    "    first_instance=list(scripts_df['movie_title']).index(i)\n",
    "    last_instance=len(reverse_titles)-1-list(reverse_titles).index(i)\n",
    "    movie_ranges.append([first_instance, last_instance+1])\n",
    "movie_ranges.sort()"
   ]
  },
  {
   "cell_type": "code",
   "execution_count": 238,
   "metadata": {},
   "outputs": [],
   "source": [
    "# collect the similarity of villains to all characters in their movie (villain_movie_similarities and villain_movie_embedding_similarities) and for all characters in a given movie (movie_similarities and movie_embedding_similarities)\n",
    "\n",
    "movie_similarities=[]\n",
    "movie_embedding_similarities=[]\n",
    "for movie in movie_ranges:\n",
    "    similarities=[]\n",
    "    embedding_similarities=[]\n",
    "    for i in range(movie[0], movie[1]):\n",
    "        for x in range(i, movie[1]):\n",
    "            if x!=i:\n",
    "                similarities.append(cos[i][x])\n",
    "                embedding_similarities.append(cos_embeddings[i][x])\n",
    "    movie_similarities.append(similarities)\n",
    "    movie_embedding_similarities.append(embedding_similarities)\n",
    "\n",
    "villain_movie_simlarities=[]\n",
    "villain_movie_embedding_similarities=[]\n",
    "for movie in movie_ranges:\n",
    "    similarities=[]\n",
    "    embedding_similarities=[]\n",
    "    for i in range(movie[0], movie[1]):\n",
    "        if bool(scripts_df.iloc[i]['is_villain']):\n",
    "            for x in range(movie[0], movie[1]):\n",
    "                if x!=i:\n",
    "                    simlarities.append(cos[x][i])\n",
    "                    embedding_similarities.append(cos_embeddings[x][i])\n",
    "    villain_movie_simlarities.append(simlarities)\n",
    "    villain_movie_embedding_similarities.append(embedding_similarities)"
   ]
  },
  {
   "cell_type": "code",
   "execution_count": 241,
   "metadata": {},
   "outputs": [],
   "source": [
    "# get the means of all similarities of each type, both for regular and embedded\r\n",
    "intra_villain_similarities=np.mean([np.mean(i) for i in villain_movie_simlarities if i!=[]])\r\n",
    "intra_villain_embedding_similarities=np.mean([np.mean(i) for i in villain_movie_embedding_similarities if i!=[]])\r\n",
    "\r\n",
    "intra_movie_similarities=np.mean([np.mean(i) for i in movie_similarities if i!=[]])\r\n",
    "intra_movie_embedding_similarities=np.mean([np.mean(i) for i in movie_embedding_similarities if i!=[]])\r\n",
    "\r\n",
    "inter_other_other=np.mean(all_other_other_similarities)\r\n",
    "inter_other_other_embedding=np.mean(embedding_other_other_similarities)\r\n",
    "\r\n",
    "inter_villain_other=np.mean(all_villain_other_similarities)\r\n",
    "inter_villain_other_embedding=np.mean(embedding_villain_other_similarities)\r\n",
    "\r\n",
    "inter_villain_villain=np.mean(all_villain_villain_similarities)\r\n",
    "inter_villain_villain_embedding=np.mean(embedding_villain_villain_similarities)\r\n",
    "\r\n",
    "inter_all_characters=np.mean(cos)\r\n",
    "inter_all_embeddings=np.mean(cos_embeddings)\r\n"
   ]
  },
  {
   "cell_type": "code",
   "execution_count": 242,
   "metadata": {},
   "outputs": [
    {
     "output_type": "stream",
     "name": "stdout",
     "text": [
      "0.3798961328949448\n0.9392766577047141\n"
     ]
    }
   ],
   "source": [
    "print(intra_villain_similarities)\n",
    "print(intra_villain_embedding_similarities)"
   ]
  },
  {
   "cell_type": "code",
   "execution_count": 243,
   "metadata": {},
   "outputs": [
    {
     "output_type": "stream",
     "name": "stdout",
     "text": [
      "0.36798502282987583\n0.93457183140193\n"
     ]
    }
   ],
   "source": [
    "print(intra_movie_similarities)\n",
    "print(intra_movie_embedding_similarities)"
   ]
  },
  {
   "cell_type": "code",
   "execution_count": 244,
   "metadata": {},
   "outputs": [
    {
     "output_type": "stream",
     "name": "stdout",
     "text": [
      "0.20219254441563736\n0.9009491485945729\n"
     ]
    }
   ],
   "source": [
    "print(inter_other_other)\n",
    "print(inter_other_other_embedding)"
   ]
  },
  {
   "cell_type": "code",
   "execution_count": 245,
   "metadata": {},
   "outputs": [
    {
     "output_type": "stream",
     "name": "stdout",
     "text": [
      "0.22004555423173283\n0.9098749840197337\n"
     ]
    }
   ],
   "source": [
    "print(inter_villain_other)\n",
    "print(inter_villain_other_embedding)"
   ]
  },
  {
   "cell_type": "code",
   "execution_count": 246,
   "metadata": {},
   "outputs": [
    {
     "output_type": "stream",
     "name": "stdout",
     "text": [
      "0.24440899302363367\n0.9117721543369303\n"
     ]
    }
   ],
   "source": [
    "print(inter_villain_villain)\n",
    "print(inter_villain_villain_embedding)"
   ]
  },
  {
   "cell_type": "code",
   "execution_count": null,
   "metadata": {},
   "outputs": [],
   "source": []
  }
 ]
}