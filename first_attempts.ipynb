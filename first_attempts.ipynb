{
 "metadata": {
  "language_info": {
   "codemirror_mode": {
    "name": "ipython",
    "version": 3
   },
   "file_extension": ".py",
   "mimetype": "text/x-python",
   "name": "python",
   "nbconvert_exporter": "python",
   "pygments_lexer": "ipython3",
   "version": "3.7.4-final"
  },
  "orig_nbformat": 2,
  "kernelspec": {
   "name": "python3",
   "display_name": "Python 3",
   "language": "python"
  }
 },
 "nbformat": 4,
 "nbformat_minor": 2,
 "cells": [
  {
   "cell_type": "code",
   "execution_count": 1,
   "metadata": {},
   "outputs": [],
   "source": [
    "import os\n",
    "import string\n",
    "from sklearn.feature_extraction.text import TfidfVectorizer\n",
    "import pandas as pd\n",
    "import numpy as np\n",
    "import re"
   ]
  },
  {
   "cell_type": "code",
   "execution_count": 4,
   "metadata": {},
   "outputs": [],
   "source": [
    "def check_if_character(line, punct_set):\n",
    "    if \"(\" in line:\n",
    "        line=line[:line.index(\"(\")].strip()\n",
    "    if \"{\" in line:\n",
    "        line=line[:line.index(\"{\")].strip()\n",
    "    if '[' in line:\n",
    "        line=line[:line.index('[')].strip()\n",
    "    if \"/\" in line:\n",
    "            line=line[:line.index('/')-1].strip()\n",
    "    if line.upper()==line and line.isupper() and line[-1] not in punct_set and line.count(' ')<4:\n",
    "        \n",
    "        return True, line\n",
    "    else:\n",
    "        return False, \"\"\n"
   ]
  },
  {
   "cell_type": "code",
   "execution_count": 61,
   "metadata": {
    "tags": []
   },
   "outputs": [],
   "source": [
    "##for when dictionary is available\n",
    "##for movie in total_dictionary\n",
    "##if new_character not in unacceptable starters and new_character in movie['characters]\n",
    "##if movie['is_villain']==new_character:\n",
    "##   current_character_dict['is_villain']=True\n",
    "\n",
    "\n",
    "unacceptable_starters=[\"VOICE (cont'd)\", \"VOICE (CONT'D)\", \"VOICE OVER (CONT'D)\", \"VOICE OVER (cont'd)\", \"DISSOLVE\", \"CUT\", \"CUT TO\", 'FADE', 'FADE OUT', 'FADE IN', 'PAN', 'CONTINUED', \"CONT'D\", '', ' ', \"VOICE\", \"VOICE OVER\", 'CUT TO', 'DISSOLVE TO', 'THE END', 'FADE TO BLACK', \"DISSOLVE TO:\", \"CUT TO:\", \"FADE TO:\"]\n",
    "\n",
    "test_set=[\"blackdahliathe_dialog.txt\", \"basicinstinct_dialog.txt\", \"basic_dialog.txt\",\"girlwiththedragontattoothe_dialog.txt\", \"manhattanmurdermystery_dialog.txt\", 'afewgoodmen_dialog.txt', \"8mm_dialog.txt\", \"backdraft_dialog.txt\"]\n",
    "\n",
    "movie_character_dicts=[]\n",
    "\n",
    "\n",
    "punct_remover=str.maketrans('','', '\"#$%&()*+-/:;<=>?@[\\\\]^_`{|}~')\n",
    "\n",
    "for movie in test_set:\n",
    "    path=os.path.join(\"scripts\", \"samples\", movie)\n",
    "\n",
    "    with open(path, \"r\", encoding=\"utf-8\") as f:\n",
    "        movie_script=f.readlines()\n",
    "        start_of_content=False\n",
    "\n",
    "        this_movie_dicts=[]\n",
    "        current_character_dict={}\n",
    "        movie_title=\"\"\n",
    "        current_character_name=\"\" \n",
    "        # current_character_dialogue=[]\n",
    "        year=0      \n",
    "        \n",
    "        for line in movie_script:\n",
    "            line=line.strip()\n",
    "\n",
    "            #checks for the title and the first character, otherwise skips the header stuff\n",
    "            if not start_of_content:\n",
    "                line=line.strip('\"')\n",
    "\n",
    "                if movie_title==\"\" and line.translate(punct_remover)==line and line not in unacceptable_starters:\n",
    "                    movie_title=line\n",
    "\n",
    "                if year==0 and len(re.findall('\\d{4,}', line))>0:\n",
    "                    year=re.findall('\\d{4,}',line)[0]\n",
    "\n",
    "                is_character, new_character_name = check_if_character(line, string.punctuation)\n",
    "\n",
    "                if is_character and (new_character_name not in unacceptable_starters):\n",
    "                    start_of_content=True\n",
    "                    current_character_name=new_character_name\n",
    "                    current_character_dict={\"character\": current_character_name, \"movie_title\": movie_title, \"year\":year, \"is_villain\": False, \"raw_dialogue\":\"\"}\n",
    "                    this_movie_dicts.append(current_character_dict)\n",
    "            \n",
    "            #if in the middle of the script and you have a current character, check if this line is a new character otherwise add the dialogue to this character's list\n",
    "            else:\n",
    "                is_new_character, new_character_name = check_if_character(line, string.punctuation)\n",
    "                if is_new_character:\n",
    "                    current_character_name=new_character_name\n",
    "                    if current_character_name not in unacceptable_starters:\n",
    "                        if current_character_name not in [entry['character'] for entry in this_movie_dicts]:\n",
    "                            current_character_dict={\"character\": current_character_name, \"movie_title\": movie_title, \"year\":year, \"is_villain\": False, \"raw_dialogue\":\"\"}\n",
    "                            this_movie_dicts.append(current_character_dict)\n",
    "                        else:\n",
    "                            current_character_dict=[entry for entry in this_movie_dicts if entry['character']==current_character_name][0]\n",
    "                        \n",
    "                else:\n",
    "                    if current_character_name in unacceptable_starters:\n",
    "                        pass\n",
    "                    else:\n",
    "                        if len(line)>0 and line[0]!='(' and line not in unacceptable_starters:\n",
    "                            current_character_dict['raw_dialogue']=current_character_dict['raw_dialogue']+' ' + line.translate(punct_remover).strip()\n",
    "\n",
    "        movie_character_dicts+=this_movie_dicts\n",
    "movie_character_dicts=[entry for entry in movie_character_dicts if len(entry['raw_dialogue'])!=0]\n",
    "for entry in movie_character_dicts:\n",
    "    entry['num_words']=entry['raw_dialogue'].count(' ')+1                            \n",
    "            \n",
    "\n",
    "\n",
    "\n",
    "\n"
   ]
  },
  {
   "cell_type": "code",
   "execution_count": 62,
   "metadata": {},
   "outputs": [
    {
     "output_type": "execute_result",
     "data": {
      "text/plain": [
       "{'8MM',\n",
       " 'A FEW GOOD MEN',\n",
       " 'BACKDRAFT',\n",
       " 'BASIC INSTINCT',\n",
       " 'Basic',\n",
       " 'MANHATTAN MURDER MYSTERY',\n",
       " 'THE GIRL WITH THE DRAGON TATTOO',\n",
       " 'The Black Dahlia'}"
      ]
     },
     "metadata": {},
     "execution_count": 62
    }
   ],
   "source": [
    "set([entry['movie_title'] for entry in movie_character_dicts])"
   ]
  },
  {
   "cell_type": "code",
   "execution_count": 63,
   "metadata": {},
   "outputs": [],
   "source": [
    "#fixes where characters are referred to by separate names\n",
    "def combine_characters(movie_character_dict, movie_title, character_name_to_keep, character_name_to_remove):\n",
    "    movie_subset=[entry for entry in movie_character_dict if entry['movie_title']==movie_title]\n",
    "    if character_name_to_remove not in [entry['character'] for entry in movie_subset] or character_name_to_keep not in [entry['character'] for entry in movie_subset]:\n",
    "        return\n",
    "    to_remove=[entry for entry in movie_character_dict if entry['character']==character_name_to_remove][0]\n",
    "    keeper=[entry for entry in movie_subset if entry['character']==character_name_to_keep][0]\n",
    "    keeper['raw_dialogue']+=to_remove['raw_dialogue']\n",
    "    keeper['num_words']+=to_remove['num_words']\n",
    "    movie_character_dict.remove(to_remove)"
   ]
  },
  {
   "cell_type": "code",
   "execution_count": 64,
   "metadata": {},
   "outputs": [],
   "source": [
    "#random fixes\n",
    "\n",
    "combine_characters(movie_character_dicts, \"8MM\", \"AMY\", \"AMY'S VOICE\")\n",
    "combine_characters(movie_character_dicts, \"8mm\", \"DINO VELVET\", \"DINO\")\n",
    "combine_characters(movie_character_dicts, \"8mm\", \"DINO VELVET\", \"DINO VELVET VOICE\")\n",
    "combine_characters(movie_character_dicts, \"8mm\", \"WELLES\", \"WELLES VOICE\")\n",
    "combine_characters(movie_character_dicts, \"8mm\", \"WELLES\", \"WELLES' VOICE\")\n",
    "\n",
    "combine_characters(movie_character_dicts, \"MANHATTAN MURDER MYSTERIES\", \"HELEN\", \"HELEN'S VOICE\")\n",
    "\n",
    "combine_characters(movie_character_dicts, 'The Black Dahlia', \"CAPTAIN VASQUEZ\", 'VASQUEZ')\n",
    "combine_characters(movie_character_dicts, 'The Black Dahlia', \"JOHNNY VOGEL\", 'JOHNNY')\n",
    "combine_characters(movie_character_dicts, 'The Black Dahlia', \"JOHNNY VOGEL\", 'VOGEL')\n",
    "combine_characters(movie_character_dicts, \"The Black Dahlia\", \"LEE BLANCHARD\", \"LEE\")\n",
    "\n",
    "combine_characters(movie_character_dicts, 'The Black Dahlia', \"ELLIS LOEW\", 'LOEW')\n",
    "combine_characters(movie_character_dicts, 'The Black Dahlia', \"RUSS MILLARD\", 'MILLARD')\n",
    "combine_characters(movie_character_dicts, 'BASIC INSTINCT', \"CAPTAIN TALCOTT\", 'TALCOTT')\n",
    "combine_characters(movie_character_dicts, 'BASIC INSTINCT', \"CAPTAIN TALCOTT\", 'CAPT. TALCOTT')\n",
    "\n",
    "combine_characters(movie_character_dicts, 'Basic', \"DUNBAR\", 'DUN BAR')\n",
    "combine_characters(movie_character_dicts, 'Basic', \"MUELLER\", 'MUE:LLER')\n",
    "combine_characters(movie_character_dicts, 'Basic', \"OSBORNE\", 'OSB0RNE')\n",
    "\n",
    "combine_characters(movie_character_dicts, 'THE GIRL WITH THE DRAGON TATTOO', \"GREGOR\", 'GREGER')\n",
    "combine_characters(movie_character_dicts, 'THE GIRL WITH THE DRAGON TATTOO', \"GREGOR\", 'GREGER')\n",
    "combine_characters(movie_character_dicts, 'THE GIRL WITH THE DRAGON TATTOO', \"BLOMKVIST\", 'BLOMVIST')\n",
    "combine_characters(movie_character_dicts, 'THE GIRL WITH THE DRAGON TATTOO', \"HARRIET\", 'HARRIE')\n",
    "combine_characters(movie_character_dicts, 'THE GIRL WITH THE DRAGON TATTOO', \"WENNERSTROM\", 'WENNERSTROM ON TV')\n",
    "combine_characters(movie_character_dicts, 'THE GIRL WITH THE DRAGON TATTOO', \"VANGER\", 'YOUNGER VANGER')"
   ]
  },
  {
   "cell_type": "code",
   "execution_count": 65,
   "metadata": {},
   "outputs": [],
   "source": [
    "sample_dataframe=pd.DataFrame.from_dict(movie_character_dicts)"
   ]
  },
  {
   "cell_type": "code",
   "execution_count": 66,
   "metadata": {},
   "outputs": [],
   "source": [
    "sample_dataframe.to_csv(\"sample.csv\")"
   ]
  }
 ]
}