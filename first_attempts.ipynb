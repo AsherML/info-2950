{
 "metadata": {
  "language_info": {
   "codemirror_mode": {
    "name": "ipython",
    "version": 3
   },
   "file_extension": ".py",
   "mimetype": "text/x-python",
   "name": "python",
   "nbconvert_exporter": "python",
   "pygments_lexer": "ipython3",
   "version": "3.8.3-final"
  },
  "orig_nbformat": 2,
  "kernelspec": {
   "name": "python3",
   "display_name": "Python 3",
   "language": "python"
  }
 },
 "nbformat": 4,
 "nbformat_minor": 2,
 "cells": [
  {
   "cell_type": "code",
   "execution_count": 9,
   "metadata": {},
   "outputs": [],
   "source": [
    "import os\n",
    "import string\n",
    "from sklearn.feature_extraction.text import TfidfVectorizer\n",
    "import pandas as pd\n",
    "import numpy as np\n",
    "import re\n",
    "import spacy\n",
    "from collections import defaultdict\n",
    "from drama_movies import drama_movies\n",
    "from crime_film_noir import mystery_movies"
   ]
  },
  {
   "cell_type": "code",
   "execution_count": 15,
   "metadata": {},
   "outputs": [],
   "source": [
    "amalgamated_movies={}\n",
    "amalgamated_movies.update(drama_movies)\n",
    "amalgamated_movies.update(mystery_movies)"
   ]
  },
  {
   "cell_type": "code",
   "execution_count": 10,
   "metadata": {},
   "outputs": [
    {
     "output_type": "stream",
     "name": "stdout",
     "text": [
      "Wall time: 12.2 s\n"
     ]
    }
   ],
   "source": [
    "%%time\n",
    "nlp=spacy.load(\"en_core_web_lg\")"
   ]
  },
  {
   "cell_type": "code",
   "execution_count": 11,
   "metadata": {},
   "outputs": [],
   "source": [
    "def check_if_character(line, punct_set):\n",
    "    if \"(\" in line:\n",
    "        line=line[:line.index(\"(\")].strip()\n",
    "    if \"{\" in line:\n",
    "        line=line[:line.index(\"{\")].strip()\n",
    "    if '[' in line:\n",
    "        line=line[:line.index('[')].strip()\n",
    "    if \"/\" in line:\n",
    "            line=line[:line.index('/')-1].strip()\n",
    "    if line.upper()==line and line.isupper() and line[-1] not in punct_set and line.count(' ')<4:\n",
    "        \n",
    "        return True, line\n",
    "    else:\n",
    "        return False, \"\"\n"
   ]
  },
  {
   "cell_type": "code",
   "execution_count": 12,
   "metadata": {},
   "outputs": [],
   "source": [
    "def check_if_acceptable_character(acceptable_characters, this_character):\n",
    "    if this_character in acceptable_characters:\n",
    "        return True\n",
    "    else:\n",
    "        cleaner=str.maketrans('','',string.punctuation)\n",
    "        this_character=this_character.translate(cleaner)\n",
    "        for character in acceptable_characters:\n",
    "            if character in this_character or this_character in character:\n",
    "                return True\n",
    "    return False\n",
    "\n",
    "        "
   ]
  },
  {
   "cell_type": "code",
   "execution_count": 21,
   "metadata": {
    "tags": []
   },
   "outputs": [],
   "source": [
    "def read_scripts(movie_metadata, unacceptable_starters, punct_remover):\n",
    "\n",
    "    returner=[]\n",
    "\n",
    "    for movie_filename in movie_metadata:\n",
    "        path=os.path.join(\"scripts\", movie_filename)\n",
    "        current_movie=movie_metadata[movie_filename]\n",
    "\n",
    "        with open(path, \"r\", encoding=\"utf-8\") as f:\n",
    "            movie_script=f.readlines()\n",
    "            start_of_content=False\n",
    "            this_movie_dicts=[]\n",
    "            current_character_dict={}\n",
    "            movie_title=movie_metadata['movie_filename']['movie_title']\n",
    "            current_character_name=\"\" \n",
    "            year=int(current_movie['year'])\n",
    "            acceptable_characters=current_movie[\"characters\"]+current_movie['villains']      \n",
    "            \n",
    "            for line in movie_script:\n",
    "                line=line.strip()\n",
    "\n",
    "                #checks for the title and the first character, otherwise skips the header stuff\n",
    "                if not start_of_content:\n",
    "                    line=line.strip('\"')\n",
    "\n",
    "                    is_character, new_character_name = check_if_character(line, string.punctuation)\n",
    "\n",
    "                    if is_character and new_character_name not in unacceptable_starters and check_if_acceptable_character(new_character_name, acceptable_characters):\n",
    "                        start_of_content=True\n",
    "                        current_character_name=new_character_name\n",
    "                        current_character_dict={\"character\": current_character_name, \"movie_title\": movie_title, \"year\":year, \"is_villain\": False, \"raw_dialogue\":\"\"}\n",
    "                        if current_character_name in current_movie['villain']:\n",
    "                            current_character_dict['is_villain']=True\n",
    "                        this_movie_dicts.append(current_character_dict)\n",
    "                \n",
    "                #if in the middle of the script and you have a current character, check if this line is a new character otherwise add the dialogue to this character's list\n",
    "                else:\n",
    "                    is_new_character, new_character_name = check_if_character(line, string.punctuation)\n",
    "                    if is_new_character:\n",
    "                        current_character_name=new_character_name\n",
    "                        if current_character_name not in unacceptable_starters and check_if_acceptable_character(current_character_name, acceptable_characters):\n",
    "                            if current_character_name not in [entry['character'] for entry in this_movie_dicts]:\n",
    "                                current_character_dict={\"character\": current_character_name, \"movie_title\": movie_title, \"year\":year, \"is_villain\": False, \"raw_dialogue\":\"\"}\n",
    "                                if current_character_name in current_movie['villains']:\n",
    "                                    current_character_dict['is_villain']=True\n",
    "                                this_movie_dicts.append(current_character_dict)\n",
    "                            else:\n",
    "                                current_character_dict=[entry for entry in this_movie_dicts if entry['character']==current_character_name][0]\n",
    "                            \n",
    "                    else:\n",
    "                        if current_character_name in unacceptable_starters or not check_if_acceptable_character(current_character_name, acceptable_characters):\n",
    "                            pass\n",
    "                        else:\n",
    "                            if len(line)>0 and line[0]!='(' and line not in unacceptable_starters:\n",
    "                                current_character_dict['raw_dialogue']=current_character_dict['raw_dialogue'].strip()+' ' + line.translate(punct_remover).strip()\n",
    "\n",
    "            returner+=this_movie_dicts\n",
    "            \n",
    "    for entry in returner:\n",
    "        entry['num_words']=entry['raw_dialogue'].count(' ')+1\n",
    "\n",
    "    return returner                            \n",
    "    "
   ]
  },
  {
   "cell_type": "code",
   "execution_count": 22,
   "metadata": {},
   "outputs": [
    {
     "output_type": "error",
     "ename": "FileNotFoundError",
     "evalue": "[Errno 2] No such file or directory: 'scripts\\\\baddayatblackrock_dialog.txt'",
     "traceback": [
      "\u001b[1;31m---------------------------------------------------------------------------\u001b[0m",
      "\u001b[1;31mFileNotFoundError\u001b[0m                         Traceback (most recent call last)",
      "\u001b[1;32m<ipython-input-22-e836ea85399f>\u001b[0m in \u001b[0;36m<module>\u001b[1;34m\u001b[0m\n\u001b[0;32m      3\u001b[0m \u001b[0mpunct_remover\u001b[0m\u001b[1;33m=\u001b[0m\u001b[0mstr\u001b[0m\u001b[1;33m.\u001b[0m\u001b[0mmaketrans\u001b[0m\u001b[1;33m(\u001b[0m\u001b[1;34m''\u001b[0m\u001b[1;33m,\u001b[0m\u001b[1;34m''\u001b[0m\u001b[1;33m,\u001b[0m \u001b[1;34m'\"#$%&()*+-/:;<=>?@[\\\\]^_`{|}~'\u001b[0m\u001b[1;33m)\u001b[0m\u001b[1;33m\u001b[0m\u001b[1;33m\u001b[0m\u001b[0m\n\u001b[0;32m      4\u001b[0m \u001b[1;33m\u001b[0m\u001b[0m\n\u001b[1;32m----> 5\u001b[1;33m \u001b[0mmovie_character_dicts\u001b[0m\u001b[1;33m=\u001b[0m\u001b[0mread_scripts\u001b[0m\u001b[1;33m(\u001b[0m\u001b[0mamalgamated_movies\u001b[0m\u001b[1;33m,\u001b[0m \u001b[0munacceptable_starters\u001b[0m\u001b[1;33m,\u001b[0m \u001b[0mpunct_remover\u001b[0m\u001b[1;33m)\u001b[0m\u001b[1;33m\u001b[0m\u001b[1;33m\u001b[0m\u001b[0m\n\u001b[0m",
      "\u001b[1;32m<ipython-input-21-6dce3631e972>\u001b[0m in \u001b[0;36mread_scripts\u001b[1;34m(movie_metadata, unacceptable_starters, punct_remover)\u001b[0m\n\u001b[0;32m      7\u001b[0m         \u001b[0mcurrent_movie\u001b[0m\u001b[1;33m=\u001b[0m\u001b[0mmovie_metadata\u001b[0m\u001b[1;33m[\u001b[0m\u001b[0mmovie_filename\u001b[0m\u001b[1;33m]\u001b[0m\u001b[1;33m\u001b[0m\u001b[1;33m\u001b[0m\u001b[0m\n\u001b[0;32m      8\u001b[0m \u001b[1;33m\u001b[0m\u001b[0m\n\u001b[1;32m----> 9\u001b[1;33m         \u001b[1;32mwith\u001b[0m \u001b[0mopen\u001b[0m\u001b[1;33m(\u001b[0m\u001b[0mpath\u001b[0m\u001b[1;33m,\u001b[0m \u001b[1;34m\"r\"\u001b[0m\u001b[1;33m,\u001b[0m \u001b[0mencoding\u001b[0m\u001b[1;33m=\u001b[0m\u001b[1;34m\"utf-8\"\u001b[0m\u001b[1;33m)\u001b[0m \u001b[1;32mas\u001b[0m \u001b[0mf\u001b[0m\u001b[1;33m:\u001b[0m\u001b[1;33m\u001b[0m\u001b[1;33m\u001b[0m\u001b[0m\n\u001b[0m\u001b[0;32m     10\u001b[0m             \u001b[0mmovie_script\u001b[0m\u001b[1;33m=\u001b[0m\u001b[0mf\u001b[0m\u001b[1;33m.\u001b[0m\u001b[0mreadlines\u001b[0m\u001b[1;33m(\u001b[0m\u001b[1;33m)\u001b[0m\u001b[1;33m\u001b[0m\u001b[1;33m\u001b[0m\u001b[0m\n\u001b[0;32m     11\u001b[0m             \u001b[0mstart_of_content\u001b[0m\u001b[1;33m=\u001b[0m\u001b[1;32mFalse\u001b[0m\u001b[1;33m\u001b[0m\u001b[1;33m\u001b[0m\u001b[0m\n",
      "\u001b[1;31mFileNotFoundError\u001b[0m: [Errno 2] No such file or directory: 'scripts\\\\baddayatblackrock_dialog.txt'"
     ]
    }
   ],
   "source": [
    "\n",
    "unacceptable_starters=[\"VOICE (cont'd)\", \"VOICE (CONT'D)\", \"VOICE OVER (CONT'D)\", \"VOICE OVER (cont'd)\", \"DISSOLVE\", \"CUT\", \"CUT TO\", 'FADE', 'FADE OUT', 'FADE IN', 'PAN', 'CONTINUED', \"CONT'D\", '', ' ', \"VOICE\", \"VOICE OVER\", 'CUT TO', 'DISSOLVE TO', 'THE END', 'FADE TO BLACK', \"DISSOLVE TO:\", \"CUT TO:\", \"FADE TO:\"]\n",
    "\n",
    "punct_remover=str.maketrans('','', '\"#$%&()*+-/:;<=>?@[\\\\]^_`{|}~')\n",
    "\n",
    "movie_character_dicts=read_scripts(amalgamated_movies, unacceptable_starters, punct_remover)"
   ]
  },
  {
   "cell_type": "code",
   "execution_count": 59,
   "metadata": {},
   "outputs": [],
   "source": [
    "#fixes where characters are referred to by separate names\n",
    "def combine_characters(movie_character_dict, movie_title, character_name_to_keep, character_name_to_remove):\n",
    "    movie_subset=[entry for entry in movie_character_dict if entry['movie_title']==movie_title]\n",
    "    if character_name_to_remove not in [entry['character'] for entry in movie_subset] or character_name_to_keep not in [entry['character'] for entry in movie_subset]:\n",
    "        return\n",
    "    to_remove=[entry for entry in movie_character_dict if entry['character']==character_name_to_remove][0]\n",
    "    keeper=[entry for entry in movie_subset if entry['character']==character_name_to_keep][0]\n",
    "    keeper['raw_dialogue']+=to_remove['raw_dialogue']\n",
    "    keeper['num_words']+=to_remove['num_words']\n",
    "    movie_character_dict.remove(to_remove)"
   ]
  },
  {
   "cell_type": "code",
   "execution_count": 60,
   "metadata": {},
   "outputs": [],
   "source": [
    "#random fixes\n",
    "\n",
    "combine_characters(movie_character_dicts, \"8MM\", \"AMY\", \"AMY'S VOICE\")\n",
    "combine_characters(movie_character_dicts, \"8mm\", \"DINO VELVET\", \"DINO\")\n",
    "combine_characters(movie_character_dicts, \"8mm\", \"DINO VELVET\", \"DINO VELVET VOICE\")\n",
    "combine_characters(movie_character_dicts, \"8mm\", \"WELLES\", \"WELLES VOICE\")\n",
    "combine_characters(movie_character_dicts, \"8mm\", \"WELLES\", \"WELLES' VOICE\")\n",
    "\n",
    "combine_characters(movie_character_dicts, \"MANHATTAN MURDER MYSTERIES\", \"HELEN\", \"HELEN'S VOICE\")\n",
    "\n",
    "combine_characters(movie_character_dicts, 'The Black Dahlia', \"CAPTAIN VASQUEZ\", 'VASQUEZ')\n",
    "combine_characters(movie_character_dicts, 'The Black Dahlia', \"JOHNNY VOGEL\", 'JOHNNY')\n",
    "combine_characters(movie_character_dicts, 'The Black Dahlia', \"JOHNNY VOGEL\", 'VOGEL')\n",
    "combine_characters(movie_character_dicts, \"The Black Dahlia\", \"LEE BLANCHARD\", \"LEE\")\n",
    "\n",
    "combine_characters(movie_character_dicts, 'The Black Dahlia', \"ELLIS LOEW\", 'LOEW')\n",
    "combine_characters(movie_character_dicts, 'The Black Dahlia', \"RUSS MILLARD\", 'MILLARD')\n",
    "combine_characters(movie_character_dicts, 'BASIC INSTINCT', \"CAPTAIN TALCOTT\", 'TALCOTT')\n",
    "combine_characters(movie_character_dicts, 'BASIC INSTINCT', \"CAPTAIN TALCOTT\", 'CAPT. TALCOTT')\n",
    "\n",
    "combine_characters(movie_character_dicts, 'Basic', \"DUNBAR\", 'DUN BAR')\n",
    "combine_characters(movie_character_dicts, 'Basic', \"MUELLER\", 'MUE:LLER')\n",
    "combine_characters(movie_character_dicts, 'Basic', \"OSBORNE\", 'OSB0RNE')\n",
    "\n",
    "combine_characters(movie_character_dicts, 'THE GIRL WITH THE DRAGON TATTOO', \"GREGOR\", 'GREGER')\n",
    "combine_characters(movie_character_dicts, 'THE GIRL WITH THE DRAGON TATTOO', \"GREGOR\", 'GREGER')\n",
    "combine_characters(movie_character_dicts, 'THE GIRL WITH THE DRAGON TATTOO', \"BLOMKVIST\", 'BLOMVIST')\n",
    "combine_characters(movie_character_dicts, 'THE GIRL WITH THE DRAGON TATTOO', \"HARRIET\", 'HARRIE')\n",
    "combine_characters(movie_character_dicts, 'THE GIRL WITH THE DRAGON TATTOO', \"WENNERSTROM\", 'WENNERSTROM ON TV')\n",
    "combine_characters(movie_character_dicts, 'THE GIRL WITH THE DRAGON TATTOO', \"VANGER\", 'YOUNGER VANGER')"
   ]
  },
  {
   "cell_type": "code",
   "execution_count": 61,
   "metadata": {},
   "outputs": [],
   "source": [
    "sample_dataframe=pd.DataFrame.from_dict(movie_character_dicts)"
   ]
  },
  {
   "cell_type": "code",
   "execution_count": 62,
   "metadata": {},
   "outputs": [],
   "source": [
    "# Source: Professor Wilkens, INFO 3350\n",
    "#convenience function to read the emotion lexicon into the variable emolex\n",
    "def read_emolex(filepath=None):\n",
    "    '''\n",
    "    Takes a file path to the emolex lexicon file.\n",
    "    Returns a dictionary of emolex sentiment values.\n",
    "    '''\n",
    "    if filepath==None: # Try to find the emolex file\n",
    "        filepath = os.path.join('data','emolex.txt')\n",
    "        if os.path.isfile(filepath):\n",
    "            pass\n",
    "        elif os.path.isfile('emolex.txt'):\n",
    "            filepath = 'emolex.txt'\n",
    "        else:\n",
    "            raise FileNotFoundError('No EmoLex file found')\n",
    "    emolex = defaultdict(dict) # Like Counter(), defaultdict eases dictionary creation\n",
    "    with open(filepath, 'r') as f:\n",
    "    # emolex file format is: word emotion value\n",
    "        for line in f:\n",
    "            word, emotion, value = line.strip().split()\n",
    "            emolex[word][emotion] = int(value)\n",
    "    return emolex\n",
    "\n",
    "# Get EmoLex data. Make sure you set the right file path above.\n",
    "emolex = read_emolex()\n"
   ]
  },
  {
   "cell_type": "code",
   "execution_count": 63,
   "metadata": {},
   "outputs": [
    {
     "output_type": "stream",
     "name": "stdout",
     "text": [
      "Wall time: 30.2 s\n"
     ]
    }
   ],
   "source": [
    "%%time\n",
    "sample_dataframe['token_list']=[[token for token in nlp(doc) if not (token.is_punct or token.is_space or token.is_stop)] for doc in sample_dataframe['raw_dialogue']]"
   ]
  },
  {
   "cell_type": "code",
   "execution_count": 64,
   "metadata": {},
   "outputs": [
    {
     "output_type": "execute_result",
     "data": {
      "text/plain": [
       "       character       movie_title year  is_villain  \\\n",
       "0  LEE BLANCHARD  The Black Dahlia    0       False   \n",
       "1          BUCKY  The Black Dahlia    0       False   \n",
       "2         ROOKIE  The Black Dahlia    0       False   \n",
       "3            TOM  The Black Dahlia    0       False   \n",
       "4      SECRETARY  The Black Dahlia    0       False   \n",
       "\n",
       "                                        raw_dialogue  num_words  \\\n",
       "0   Code three, Bleichert!To the halls of Tripoli...        989   \n",
       "1  You come all the way down here to roust Impres...       3125   \n",
       "2  Yep, three years in the Canal Zone. Nothin' bu...         23   \n",
       "3  You, that's what. You know Lee Blanchard over ...         62   \n",
       "4                                 Officer Bleichert.          3   \n",
       "\n",
       "                                          token_list  \n",
       "0  [Code, Bleichert!To, halls, Tripoli, shitbirds...  \n",
       "1  [come, way, roust, Impressive, Whatta, Mex, pa...  \n",
       "2  [Yep, years, Canal, Zone, Nothin', skeeter, bi...  \n",
       "3  [know, Lee, Blanchard, Central, Warrants, part...  \n",
       "4                               [Officer, Bleichert]  "
      ],
      "text/html": "<div>\n<style scoped>\n    .dataframe tbody tr th:only-of-type {\n        vertical-align: middle;\n    }\n\n    .dataframe tbody tr th {\n        vertical-align: top;\n    }\n\n    .dataframe thead th {\n        text-align: right;\n    }\n</style>\n<table border=\"1\" class=\"dataframe\">\n  <thead>\n    <tr style=\"text-align: right;\">\n      <th></th>\n      <th>character</th>\n      <th>movie_title</th>\n      <th>year</th>\n      <th>is_villain</th>\n      <th>raw_dialogue</th>\n      <th>num_words</th>\n      <th>token_list</th>\n    </tr>\n  </thead>\n  <tbody>\n    <tr>\n      <th>0</th>\n      <td>LEE BLANCHARD</td>\n      <td>The Black Dahlia</td>\n      <td>0</td>\n      <td>False</td>\n      <td>Code three, Bleichert!To the halls of Tripoli...</td>\n      <td>989</td>\n      <td>[Code, Bleichert!To, halls, Tripoli, shitbirds...</td>\n    </tr>\n    <tr>\n      <th>1</th>\n      <td>BUCKY</td>\n      <td>The Black Dahlia</td>\n      <td>0</td>\n      <td>False</td>\n      <td>You come all the way down here to roust Impres...</td>\n      <td>3125</td>\n      <td>[come, way, roust, Impressive, Whatta, Mex, pa...</td>\n    </tr>\n    <tr>\n      <th>2</th>\n      <td>ROOKIE</td>\n      <td>The Black Dahlia</td>\n      <td>0</td>\n      <td>False</td>\n      <td>Yep, three years in the Canal Zone. Nothin' bu...</td>\n      <td>23</td>\n      <td>[Yep, years, Canal, Zone, Nothin', skeeter, bi...</td>\n    </tr>\n    <tr>\n      <th>3</th>\n      <td>TOM</td>\n      <td>The Black Dahlia</td>\n      <td>0</td>\n      <td>False</td>\n      <td>You, that's what. You know Lee Blanchard over ...</td>\n      <td>62</td>\n      <td>[know, Lee, Blanchard, Central, Warrants, part...</td>\n    </tr>\n    <tr>\n      <th>4</th>\n      <td>SECRETARY</td>\n      <td>The Black Dahlia</td>\n      <td>0</td>\n      <td>False</td>\n      <td>Officer Bleichert.</td>\n      <td>3</td>\n      <td>[Officer, Bleichert]</td>\n    </tr>\n  </tbody>\n</table>\n</div>"
     },
     "metadata": {},
     "execution_count": 64
    }
   ],
   "source": [
    "sample_dataframe.head()"
   ]
  },
  {
   "cell_type": "code",
   "execution_count": 72,
   "metadata": {},
   "outputs": [],
   "source": [
    "def add_emotion_scores(token_list, lexicon=None):\n",
    "    string_list=[token.text.lower().strip() for token in token_list]\n",
    "    re=[[],[],[],[],[],[],[],[],[],[]]\n",
    "    if lexicon==None:\n",
    "        lexicon=read_emolex()\n",
    "    for token in string_list:\n",
    "        if token in lexicon:\n",
    "            score_list=list(lexicon[token].values())\n",
    "            for score_index in range(len(score_list)):\n",
    "                re[score_index].append(score_list[score_index])\n",
    "    re=[score if len(score)>0 else [0] for score in re]\n",
    "    to_return = [np.mean(emotion) for emotion in re]\n",
    "    return to_return\n",
    "    \n",
    "\n",
    "    "
   ]
  },
  {
   "cell_type": "code",
   "execution_count": 73,
   "metadata": {},
   "outputs": [
    {
     "output_type": "stream",
     "name": "stdout",
     "text": [
      "Wall time: 42.4 s\n"
     ]
    }
   ],
   "source": [
    "%%time\n",
    "all_emotions = [add_emotion_scores(entry) for entry in sample_dataframe['token_list']]\n",
    "sample_dataframe['mean_anger'], sample_dataframe['mean_anticipation'], sample_dataframe['mean_disgust'], sample_dataframe['mean_fear'], sample_dataframe['mean_joy'], sample_dataframe['mean_negative'], sample_dataframe['mean_positive'], sample_dataframe['mean_sadness'], sample_dataframe['mean_surprise'], sample_dataframe['mean_trust'] = np.flipud(np.rot90(all_emotions))"
   ]
  },
  {
   "cell_type": "code",
   "execution_count": 74,
   "metadata": {},
   "outputs": [],
   "source": [
    "def add_embeddings(token_list, vector_length):\n",
    "    token_list=[token for token in token_list if token.has_vector]\n",
    "    doc_matrix=np.zeros([len(token_list), vector_length])\n",
    "    for i in range(len(doc_matrix)):\n",
    "        doc_matrix[i]=token_list[i].vector\n",
    "    return np.average(doc_matrix, axis=0)"
   ]
  },
  {
   "cell_type": "code",
   "execution_count": 75,
   "metadata": {},
   "outputs": [
    {
     "output_type": "stream",
     "name": "stderr",
     "text": [
      "C:\\ProgramData\\Anaconda3\\envs\\info3350\\lib\\site-packages\\numpy\\lib\\function_base.py:393: RuntimeWarning: Mean of empty slice.\n",
      "  avg = a.mean(axis)\n",
      "C:\\ProgramData\\Anaconda3\\envs\\info3350\\lib\\site-packages\\numpy\\core\\_methods.py:153: RuntimeWarning: invalid value encountered in true_divide\n",
      "  ret = um.true_divide(\n",
      "Wall time: 477 ms\n"
     ]
    }
   ],
   "source": [
    "%%time\n",
    "vector_length=nlp.vocab.vectors_length\n",
    "sample_dataframe['embeddings']=[add_embeddings(entry, vector_length) for entry in sample_dataframe['token_list']]"
   ]
  },
  {
   "cell_type": "code",
   "execution_count": 76,
   "metadata": {},
   "outputs": [
    {
     "output_type": "execute_result",
     "data": {
      "text/plain": [
       "       character       movie_title year  is_villain  \\\n",
       "0  LEE BLANCHARD  The Black Dahlia    0       False   \n",
       "1          BUCKY  The Black Dahlia    0       False   \n",
       "2         ROOKIE  The Black Dahlia    0       False   \n",
       "3            TOM  The Black Dahlia    0       False   \n",
       "4      SECRETARY  The Black Dahlia    0       False   \n",
       "\n",
       "                                        raw_dialogue  num_words  \\\n",
       "0   Code three, Bleichert!To the halls of Tripoli...        989   \n",
       "1  You come all the way down here to roust Impres...       3125   \n",
       "2  Yep, three years in the Canal Zone. Nothin' bu...         23   \n",
       "3  You, that's what. You know Lee Blanchard over ...         62   \n",
       "4                                 Officer Bleichert.          3   \n",
       "\n",
       "                                          token_list  mean_anger  \\\n",
       "0  [Code, Bleichert!To, halls, Tripoli, shitbirds...    0.096774   \n",
       "1  [come, way, roust, Impressive, Whatta, Mex, pa...    0.086572   \n",
       "2  [Yep, years, Canal, Zone, Nothin', skeeter, bi...    0.000000   \n",
       "3  [know, Lee, Blanchard, Central, Warrants, part...    0.066667   \n",
       "4                               [Officer, Bleichert]    0.000000   \n",
       "\n",
       "   mean_anticipation  mean_disgust  mean_fear  mean_joy  mean_negative  \\\n",
       "0           0.059908      0.055300   0.147465  0.064516       0.165899   \n",
       "1           0.111307      0.063604   0.106007  0.077739       0.171378   \n",
       "2           0.000000      0.000000   0.000000  0.000000       0.000000   \n",
       "3           0.066667      0.066667   0.066667  0.066667       0.200000   \n",
       "4           0.000000      0.000000   0.000000  0.000000       0.000000   \n",
       "\n",
       "   mean_positive  mean_sadness  mean_surprise  mean_trust  \\\n",
       "0       0.202765      0.096774       0.069124    0.110599   \n",
       "1       0.183746      0.095406       0.060071    0.118375   \n",
       "2       0.000000      0.000000       0.000000    0.000000   \n",
       "3       0.200000      0.066667       0.000000    0.266667   \n",
       "4       1.000000      0.000000       0.000000    1.000000   \n",
       "\n",
       "                                          embeddings  \n",
       "0  [-0.06939335917577519, 0.06660951127792883, -0...  \n",
       "1  [-0.06832003521418073, 0.10440315664141776, -0...  \n",
       "2  [-0.1939576046111492, -0.14697723950331026, -0...  \n",
       "3  [-0.06670887317058855, 0.11280478690429752, -0...  \n",
       "4  [-0.29197999835014343, 0.14518000185489655, -0...  "
      ],
      "text/html": "<div>\n<style scoped>\n    .dataframe tbody tr th:only-of-type {\n        vertical-align: middle;\n    }\n\n    .dataframe tbody tr th {\n        vertical-align: top;\n    }\n\n    .dataframe thead th {\n        text-align: right;\n    }\n</style>\n<table border=\"1\" class=\"dataframe\">\n  <thead>\n    <tr style=\"text-align: right;\">\n      <th></th>\n      <th>character</th>\n      <th>movie_title</th>\n      <th>year</th>\n      <th>is_villain</th>\n      <th>raw_dialogue</th>\n      <th>num_words</th>\n      <th>token_list</th>\n      <th>mean_anger</th>\n      <th>mean_anticipation</th>\n      <th>mean_disgust</th>\n      <th>mean_fear</th>\n      <th>mean_joy</th>\n      <th>mean_negative</th>\n      <th>mean_positive</th>\n      <th>mean_sadness</th>\n      <th>mean_surprise</th>\n      <th>mean_trust</th>\n      <th>embeddings</th>\n    </tr>\n  </thead>\n  <tbody>\n    <tr>\n      <th>0</th>\n      <td>LEE BLANCHARD</td>\n      <td>The Black Dahlia</td>\n      <td>0</td>\n      <td>False</td>\n      <td>Code three, Bleichert!To the halls of Tripoli...</td>\n      <td>989</td>\n      <td>[Code, Bleichert!To, halls, Tripoli, shitbirds...</td>\n      <td>0.096774</td>\n      <td>0.059908</td>\n      <td>0.055300</td>\n      <td>0.147465</td>\n      <td>0.064516</td>\n      <td>0.165899</td>\n      <td>0.202765</td>\n      <td>0.096774</td>\n      <td>0.069124</td>\n      <td>0.110599</td>\n      <td>[-0.06939335917577519, 0.06660951127792883, -0...</td>\n    </tr>\n    <tr>\n      <th>1</th>\n      <td>BUCKY</td>\n      <td>The Black Dahlia</td>\n      <td>0</td>\n      <td>False</td>\n      <td>You come all the way down here to roust Impres...</td>\n      <td>3125</td>\n      <td>[come, way, roust, Impressive, Whatta, Mex, pa...</td>\n      <td>0.086572</td>\n      <td>0.111307</td>\n      <td>0.063604</td>\n      <td>0.106007</td>\n      <td>0.077739</td>\n      <td>0.171378</td>\n      <td>0.183746</td>\n      <td>0.095406</td>\n      <td>0.060071</td>\n      <td>0.118375</td>\n      <td>[-0.06832003521418073, 0.10440315664141776, -0...</td>\n    </tr>\n    <tr>\n      <th>2</th>\n      <td>ROOKIE</td>\n      <td>The Black Dahlia</td>\n      <td>0</td>\n      <td>False</td>\n      <td>Yep, three years in the Canal Zone. Nothin' bu...</td>\n      <td>23</td>\n      <td>[Yep, years, Canal, Zone, Nothin', skeeter, bi...</td>\n      <td>0.000000</td>\n      <td>0.000000</td>\n      <td>0.000000</td>\n      <td>0.000000</td>\n      <td>0.000000</td>\n      <td>0.000000</td>\n      <td>0.000000</td>\n      <td>0.000000</td>\n      <td>0.000000</td>\n      <td>0.000000</td>\n      <td>[-0.1939576046111492, -0.14697723950331026, -0...</td>\n    </tr>\n    <tr>\n      <th>3</th>\n      <td>TOM</td>\n      <td>The Black Dahlia</td>\n      <td>0</td>\n      <td>False</td>\n      <td>You, that's what. You know Lee Blanchard over ...</td>\n      <td>62</td>\n      <td>[know, Lee, Blanchard, Central, Warrants, part...</td>\n      <td>0.066667</td>\n      <td>0.066667</td>\n      <td>0.066667</td>\n      <td>0.066667</td>\n      <td>0.066667</td>\n      <td>0.200000</td>\n      <td>0.200000</td>\n      <td>0.066667</td>\n      <td>0.000000</td>\n      <td>0.266667</td>\n      <td>[-0.06670887317058855, 0.11280478690429752, -0...</td>\n    </tr>\n    <tr>\n      <th>4</th>\n      <td>SECRETARY</td>\n      <td>The Black Dahlia</td>\n      <td>0</td>\n      <td>False</td>\n      <td>Officer Bleichert.</td>\n      <td>3</td>\n      <td>[Officer, Bleichert]</td>\n      <td>0.000000</td>\n      <td>0.000000</td>\n      <td>0.000000</td>\n      <td>0.000000</td>\n      <td>0.000000</td>\n      <td>0.000000</td>\n      <td>1.000000</td>\n      <td>0.000000</td>\n      <td>0.000000</td>\n      <td>1.000000</td>\n      <td>[-0.29197999835014343, 0.14518000185489655, -0...</td>\n    </tr>\n  </tbody>\n</table>\n</div>"
     },
     "metadata": {},
     "execution_count": 76
    }
   ],
   "source": [
    "sample_dataframe.head()"
   ]
  },
  {
   "cell_type": "code",
   "execution_count": 78,
   "metadata": {},
   "outputs": [
    {
     "output_type": "execute_result",
     "data": {
      "text/plain": [
       "character                                                    BLOMKVIST\n",
       "movie_title                            THE GIRL WITH THE DRAGON TATTOO\n",
       "year                                                                 0\n",
       "is_villain                                                       False\n",
       "raw_dialogue         What is this, the media event of the year Don'...\n",
       "num_words                                                         8155\n",
       "token_list           [media, event, year, try, play, wo, 4A, EXT, C...\n",
       "mean_anger                                                   0.0536797\n",
       "mean_anticipation                                            0.0805195\n",
       "mean_disgust                                                 0.0380952\n",
       "mean_fear                                                    0.0909091\n",
       "mean_joy                                                     0.0588745\n",
       "mean_negative                                                 0.141126\n",
       "mean_positive                                                 0.134199\n",
       "mean_sadness                                                 0.0848485\n",
       "mean_surprise                                                0.0528139\n",
       "mean_trust                                                     0.10303\n",
       "embeddings           [0.011595881384384655, 0.09132380230370245, -0...\n",
       "Name: 122, dtype: object"
      ]
     },
     "metadata": {},
     "execution_count": 78
    }
   ],
   "source": [
    "sample_dataframe.iloc[122]"
   ]
  },
  {
   "cell_type": "code",
   "execution_count": 77,
   "metadata": {},
   "outputs": [],
   "source": [
    "sample_dataframe.to_csv(\"sample.csv\")"
   ]
  }
 ]
}