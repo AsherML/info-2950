{
 "metadata": {
  "language_info": {
   "codemirror_mode": {
    "name": "ipython",
    "version": 3
   },
   "file_extension": ".py",
   "mimetype": "text/x-python",
   "name": "python",
   "nbconvert_exporter": "python",
   "pygments_lexer": "ipython3",
   "version": "3.8.3-final"
  },
  "orig_nbformat": 2,
  "kernelspec": {
   "name": "python3",
   "display_name": "Python 3",
   "language": "python"
  }
 },
 "nbformat": 4,
 "nbformat_minor": 2,
 "cells": [
  {
   "cell_type": "code",
   "execution_count": 1,
   "metadata": {},
   "outputs": [],
   "source": [
    "import os\n",
    "import string\n",
    "from sklearn.feature_extraction.text import TfidfVectorizer\n",
    "import pandas as pd\n",
    "import numpy as np\n",
    "import re\n",
    "import spacy\n",
    "from collections import defaultdict\n",
    "from drama_movies import drama_movies\n",
    "#from crime_film_noir import mystery_movies"
   ]
  },
  {
   "cell_type": "code",
   "execution_count": 3,
   "metadata": {},
   "outputs": [
    {
     "output_type": "stream",
     "name": "stdout",
     "text": [
      "Wall time: 9.37 s\n"
     ]
    }
   ],
   "source": [
    "%%time\n",
    "nlp=spacy.load(\"en_core_web_lg\")"
   ]
  },
  {
   "cell_type": "code",
   "execution_count": 4,
   "metadata": {},
   "outputs": [],
   "source": [
    "def check_if_character(line, punct_set):\n",
    "    if \"(\" in line:\n",
    "        line=line[:line.index(\"(\")].strip()\n",
    "    if \"{\" in line:\n",
    "        line=line[:line.index(\"{\")].strip()\n",
    "    if '[' in line:\n",
    "        line=line[:line.index('[')].strip()\n",
    "    if \"/\" in line:\n",
    "            line=line[:line.index('/')-1].strip()\n",
    "    if line.upper()==line and line.isupper() and line[-1] not in punct_set and line.count(' ')<4:\n",
    "        \n",
    "        return True, line\n",
    "    else:\n",
    "        return False, \"\"\n"
   ]
  },
  {
   "cell_type": "code",
   "execution_count": 7,
   "metadata": {},
   "outputs": [],
   "source": [
    "def check_if_acceptable_character(this_character, acceptable_characters):\n",
    "    if this_character in acceptable_characters:\n",
    "        return True\n",
    "    else:\n",
    "        cleaner=str.maketrans('','',string.punctuation)\n",
    "        this_character=this_character.translate(cleaner)\n",
    "        for character in acceptable_characters:\n",
    "            if character in this_character or this_character in character:\n",
    "                return True\n",
    "    return False\n",
    "\n",
    "        "
   ]
  },
  {
   "cell_type": "code",
   "execution_count": 22,
   "metadata": {
    "tags": []
   },
   "outputs": [],
   "source": [
    "def read_scripts(movie_metadata, unacceptable_starters, punct_remover):\n",
    "\n",
    "    returner=[]\n",
    "\n",
    "    for movie_filename in movie_metadata:\n",
    "        path=os.path.join(\"scripts\",\"Using\", movie_filename)\n",
    "        current_movie=movie_metadata[movie_filename]\n",
    "\n",
    "        with open(path, \"r\", encoding=\"utf-8\") as f:\n",
    "            movie_script=f.readlines()\n",
    "            start_of_content=False\n",
    "            this_movie_dicts=[]\n",
    "            current_character_dict={}\n",
    "            movie_title=movie_metadata[movie_filename]['title']\n",
    "            current_character_name=\"\" \n",
    "            year=int(current_movie['year'])\n",
    "            acceptable_characters=current_movie[\"characters\"]+current_movie['villain']      \n",
    "            \n",
    "            for line in movie_script:\n",
    "                line=line.strip()\n",
    "\n",
    "                #checks for the title and the first character, otherwise skips the header stuff\n",
    "                if not start_of_content:\n",
    "                    line=line.strip('\"')\n",
    "\n",
    "                    is_character, new_character_name = check_if_character(line, string.punctuation)\n",
    "\n",
    "                    if is_character and new_character_name not in unacceptable_starters and check_if_acceptable_character(new_character_name, acceptable_characters):\n",
    "                        start_of_content=True\n",
    "                        current_character_name=new_character_name\n",
    "                        current_character_dict={\"character\": current_character_name, \"movie_title\": movie_title, \"year\":year, \"is_villain\": False, \"raw_dialogue\":\"\"}\n",
    "                        if current_character_name in current_movie['villain']:\n",
    "                            current_character_dict['is_villain']=True\n",
    "                        this_movie_dicts.append(current_character_dict)\n",
    "                \n",
    "                #if in the middle of the script and you have a current character, check if this line is a new character otherwise add the dialogue to this character's list\n",
    "                else:\n",
    "                    is_new_character, new_character_name = check_if_character(line, string.punctuation)\n",
    "                    if is_new_character:\n",
    "                        current_character_name=new_character_name\n",
    "                        if current_character_name not in unacceptable_starters and check_if_acceptable_character(current_character_name, acceptable_characters):\n",
    "                            if current_character_name not in [entry['character'] for entry in this_movie_dicts]:\n",
    "                                current_character_dict={\"character\": current_character_name, \"movie_title\": movie_title, \"year\":year, \"is_villain\": False, \"raw_dialogue\":\"\"}\n",
    "                                if current_character_name in current_movie['villain']:\n",
    "                                    current_character_dict['is_villain']=True\n",
    "                                this_movie_dicts.append(current_character_dict)\n",
    "                            else:\n",
    "                                current_character_dict=[entry for entry in this_movie_dicts if entry['character']==current_character_name][0]\n",
    "                            \n",
    "                    else:\n",
    "                        if current_character_name in unacceptable_starters or not check_if_acceptable_character(current_character_name, acceptable_characters):\n",
    "                            pass\n",
    "                        else:\n",
    "                            if len(line)>0 and line[0]!='(' and line not in unacceptable_starters:\n",
    "                                current_character_dict['raw_dialogue']=current_character_dict['raw_dialogue'].strip()+' ' + line.translate(punct_remover).strip()\n",
    "\n",
    "            returner+=this_movie_dicts\n",
    "\n",
    "        \n",
    "    for entry in returner:\n",
    "        entry['num_words']=entry['raw_dialogue'].count(' ')+1\n",
    "    returner=[entry for entry in returner if entry['num_words']>50]    \n",
    "\n",
    "    return returner                            \n",
    "    "
   ]
  },
  {
   "cell_type": "code",
   "execution_count": 23,
   "metadata": {},
   "outputs": [],
   "source": [
    "\n",
    "unacceptable_starters=[\"VOICE (cont'd)\", \"VOICE (CONT'D)\", \"VOICE OVER (CONT'D)\", \"VOICE OVER (cont'd)\", \"DISSOLVE\", \"CUT\", \"CUT TO\", 'FADE', 'FADE OUT', 'FADE IN', 'PAN', 'CONTINUED', \"CONT'D\", '', ' ', \"VOICE\", \"VOICE OVER\", 'CUT TO', 'DISSOLVE TO', 'THE END', 'FADE TO BLACK', \"DISSOLVE TO:\", \"CUT TO:\", \"FADE TO:\"]\n",
    "\n",
    "punct_remover=str.maketrans('','', '\"#$%&()*+-/:;<=>?@[\\\\]^_`{|}~')\n",
    "\n",
    "movie_character_dicts=read_scripts(drama_movies, unacceptable_starters, punct_remover)"
   ]
  },
  {
   "cell_type": "code",
   "execution_count": 24,
   "metadata": {},
   "outputs": [],
   "source": [
    "#fixes where characters are referred to by separate names\n",
    "def combine_characters(movie_character_dict, movie_title, character_name_to_keep, character_name_to_remove):\n",
    "    movie_subset=[entry for entry in movie_character_dict if entry['movie_title']==movie_title]\n",
    "    if character_name_to_remove not in [entry['character'] for entry in movie_subset] or character_name_to_keep not in [entry['character'] for entry in movie_subset]:\n",
    "        return\n",
    "    to_remove=[entry for entry in movie_character_dict if entry['character']==character_name_to_remove][0]\n",
    "    keeper=[entry for entry in movie_subset if entry['character']==character_name_to_keep][0]\n",
    "    keeper['raw_dialogue']+=to_remove['raw_dialogue']\n",
    "    keeper['num_words']+=to_remove['num_words']\n",
    "    movie_character_dict.remove(to_remove)"
   ]
  },
  {
   "cell_type": "code",
   "execution_count": 25,
   "metadata": {},
   "outputs": [],
   "source": [
    "#random fixes\n",
    "\n",
    "combine_characters(movie_character_dicts, \"8MM\", \"AMY\", \"AMY'S VOICE\")\n",
    "combine_characters(movie_character_dicts, \"8mm\", \"DINO VELVET\", \"DINO\")\n",
    "combine_characters(movie_character_dicts, \"8mm\", \"DINO VELVET\", \"DINO VELVET VOICE\")\n",
    "combine_characters(movie_character_dicts, \"8mm\", \"WELLES\", \"WELLES VOICE\")\n",
    "combine_characters(movie_character_dicts, \"8mm\", \"WELLES\", \"WELLES' VOICE\")\n",
    "\n",
    "combine_characters(movie_character_dicts, \"MANHATTAN MURDER MYSTERIES\", \"HELEN\", \"HELEN'S VOICE\")\n",
    "\n",
    "combine_characters(movie_character_dicts, 'The Black Dahlia', \"CAPTAIN VASQUEZ\", 'VASQUEZ')\n",
    "combine_characters(movie_character_dicts, 'The Black Dahlia', \"JOHNNY VOGEL\", 'JOHNNY')\n",
    "combine_characters(movie_character_dicts, 'The Black Dahlia', \"JOHNNY VOGEL\", 'VOGEL')\n",
    "combine_characters(movie_character_dicts, \"The Black Dahlia\", \"LEE BLANCHARD\", \"LEE\")\n",
    "\n",
    "combine_characters(movie_character_dicts, 'The Black Dahlia', \"ELLIS LOEW\", 'LOEW')\n",
    "combine_characters(movie_character_dicts, 'The Black Dahlia', \"RUSS MILLARD\", 'MILLARD')\n",
    "combine_characters(movie_character_dicts, 'BASIC INSTINCT', \"CAPTAIN TALCOTT\", 'TALCOTT')\n",
    "combine_characters(movie_character_dicts, 'BASIC INSTINCT', \"CAPTAIN TALCOTT\", 'CAPT. TALCOTT')\n",
    "\n",
    "combine_characters(movie_character_dicts, 'Basic', \"DUNBAR\", 'DUN BAR')\n",
    "combine_characters(movie_character_dicts, 'Basic', \"MUELLER\", 'MUE:LLER')\n",
    "combine_characters(movie_character_dicts, 'Basic', \"OSBORNE\", 'OSB0RNE')\n",
    "\n",
    "combine_characters(movie_character_dicts, 'THE GIRL WITH THE DRAGON TATTOO', \"GREGOR\", 'GREGER')\n",
    "combine_characters(movie_character_dicts, 'THE GIRL WITH THE DRAGON TATTOO', \"GREGOR\", 'GREGER')\n",
    "combine_characters(movie_character_dicts, 'THE GIRL WITH THE DRAGON TATTOO', \"BLOMKVIST\", 'BLOMVIST')\n",
    "combine_characters(movie_character_dicts, 'THE GIRL WITH THE DRAGON TATTOO', \"HARRIET\", 'HARRIE')\n",
    "combine_characters(movie_character_dicts, 'THE GIRL WITH THE DRAGON TATTOO', \"WENNERSTROM\", 'WENNERSTROM ON TV')\n",
    "combine_characters(movie_character_dicts, 'THE GIRL WITH THE DRAGON TATTOO', \"VANGER\", 'YOUNGER VANGER')"
   ]
  },
  {
   "cell_type": "code",
   "execution_count": 37,
   "metadata": {},
   "outputs": [],
   "source": [
    "# Source: Professor Wilkens, INFO 3350\n",
    "#convenience function to read the emotion lexicon into the variable emolex\n",
    "def read_emolex(filepath=None):\n",
    "    '''\n",
    "    Takes a file path to the emolex lexicon file.\n",
    "    Returns a dictionary of emolex sentiment values.\n",
    "    '''\n",
    "    if filepath==None: # Try to find the emolex file\n",
    "        filepath = os.path.join('data','emolex.txt')\n",
    "        if os.path.isfile(filepath):\n",
    "            pass\n",
    "        elif os.path.isfile('emolex.txt'):\n",
    "            filepath = 'emolex.txt'\n",
    "        else:\n",
    "            raise FileNotFoundError('No EmoLex file found')\n",
    "    emolex = defaultdict(dict) # Like Counter(), defaultdict eases dictionary creation\n",
    "    with open(filepath, 'r') as f:\n",
    "    # emolex file format is: word emotion value\n",
    "        for line in f:\n",
    "            word, emotion, value = line.strip().split()\n",
    "            emolex[word][emotion] = int(value)\n",
    "    return emolex\n",
    "\n",
    "# Get EmoLex data. Make sure you set the right file path above.\n",
    "emolex = read_emolex()\n"
   ]
  },
  {
   "cell_type": "code",
   "execution_count": 38,
   "metadata": {},
   "outputs": [
    {
     "output_type": "stream",
     "name": "stdout",
     "text": [
      "Wall time: 1min 14s\n"
     ]
    }
   ],
   "source": [
    "%%time\n",
    "sample_dataframe['token_list']=[[token for token in nlp(doc) if not (token.is_punct or token.is_space or token.is_stop)] for doc in sample_dataframe['raw_dialogue']]"
   ]
  },
  {
   "cell_type": "code",
   "execution_count": 39,
   "metadata": {},
   "outputs": [
    {
     "output_type": "execute_result",
     "data": {
      "text/plain": [
       "  character            movie_title  year  is_villain  \\\n",
       "0  MACREEDY  Bad Day at Black Rock  1995       False   \n",
       "1    HECTOR  Bad Day at Black Rock  1995        True   \n",
       "2       DOC  Bad Day at Black Rock  1995       False   \n",
       "3     SMITH  Bad Day at Black Rock  1995       False   \n",
       "4       LIZ  Bad Day at Black Rock  1995       False   \n",
       "\n",
       "                                        raw_dialogue  num_words  \\\n",
       "0  I'll only be here twentyfour hours. That's rig...       2305   \n",
       "1  Find Smith! GOD BLESS AMERICA glued to Macreed...        400   \n",
       "2  Who Why ask me He's no salesman, that's sure. ...       1110   \n",
       "3  Sit down. Sit down. Doesn't push easy What do ...       1421   \n",
       "4  I can manage. It'll be two dollars an hour, ga...        401   \n",
       "\n",
       "                                          token_list  \n",
       "0  [twentyfour, hours, right, grin, Probably, thi...  \n",
       "1  [Find, Smith, GOD, BLESS, AMERICA, glued, Macr...  \n",
       "2  [ask, salesman, sure, grin, peddling, dynamite...  \n",
       "3  [Sit, Sit, push, easy, want, Doc, wonder, talk...  \n",
       "4  [manage, dollars, hour, gas, extra, dollars, t...  "
      ],
      "text/html": "<div>\n<style scoped>\n    .dataframe tbody tr th:only-of-type {\n        vertical-align: middle;\n    }\n\n    .dataframe tbody tr th {\n        vertical-align: top;\n    }\n\n    .dataframe thead th {\n        text-align: right;\n    }\n</style>\n<table border=\"1\" class=\"dataframe\">\n  <thead>\n    <tr style=\"text-align: right;\">\n      <th></th>\n      <th>character</th>\n      <th>movie_title</th>\n      <th>year</th>\n      <th>is_villain</th>\n      <th>raw_dialogue</th>\n      <th>num_words</th>\n      <th>token_list</th>\n    </tr>\n  </thead>\n  <tbody>\n    <tr>\n      <th>0</th>\n      <td>MACREEDY</td>\n      <td>Bad Day at Black Rock</td>\n      <td>1995</td>\n      <td>False</td>\n      <td>I'll only be here twentyfour hours. That's rig...</td>\n      <td>2305</td>\n      <td>[twentyfour, hours, right, grin, Probably, thi...</td>\n    </tr>\n    <tr>\n      <th>1</th>\n      <td>HECTOR</td>\n      <td>Bad Day at Black Rock</td>\n      <td>1995</td>\n      <td>True</td>\n      <td>Find Smith! GOD BLESS AMERICA glued to Macreed...</td>\n      <td>400</td>\n      <td>[Find, Smith, GOD, BLESS, AMERICA, glued, Macr...</td>\n    </tr>\n    <tr>\n      <th>2</th>\n      <td>DOC</td>\n      <td>Bad Day at Black Rock</td>\n      <td>1995</td>\n      <td>False</td>\n      <td>Who Why ask me He's no salesman, that's sure. ...</td>\n      <td>1110</td>\n      <td>[ask, salesman, sure, grin, peddling, dynamite...</td>\n    </tr>\n    <tr>\n      <th>3</th>\n      <td>SMITH</td>\n      <td>Bad Day at Black Rock</td>\n      <td>1995</td>\n      <td>False</td>\n      <td>Sit down. Sit down. Doesn't push easy What do ...</td>\n      <td>1421</td>\n      <td>[Sit, Sit, push, easy, want, Doc, wonder, talk...</td>\n    </tr>\n    <tr>\n      <th>4</th>\n      <td>LIZ</td>\n      <td>Bad Day at Black Rock</td>\n      <td>1995</td>\n      <td>False</td>\n      <td>I can manage. It'll be two dollars an hour, ga...</td>\n      <td>401</td>\n      <td>[manage, dollars, hour, gas, extra, dollars, t...</td>\n    </tr>\n  </tbody>\n</table>\n</div>"
     },
     "metadata": {},
     "execution_count": 39
    }
   ],
   "source": [
    "sample_dataframe.head()"
   ]
  },
  {
   "cell_type": "code",
   "execution_count": 40,
   "metadata": {},
   "outputs": [],
   "source": [
    "def add_emotion_scores(token_list, lexicon=None):\n",
    "    string_list=[token.text.lower().strip() for token in token_list]\n",
    "    re=[[],[],[],[],[],[],[],[],[],[]]\n",
    "    if lexicon==None:\n",
    "        lexicon=read_emolex()\n",
    "    for token in string_list:\n",
    "        if token in lexicon:\n",
    "            score_list=list(lexicon[token].values())\n",
    "            for score_index in range(len(score_list)):\n",
    "                re[score_index].append(score_list[score_index])\n",
    "    re=[score if len(score)>0 else [0] for score in re]\n",
    "    to_return = [np.mean(emotion) for emotion in re]\n",
    "    return to_return\n",
    "    \n",
    "\n",
    "    "
   ]
  },
  {
   "cell_type": "code",
   "execution_count": 41,
   "metadata": {},
   "outputs": [
    {
     "output_type": "stream",
     "name": "stdout",
     "text": [
      "Wall time: 40.3 s\n"
     ]
    }
   ],
   "source": [
    "%%time\n",
    "all_emotions = [add_emotion_scores(entry) for entry in sample_dataframe['token_list']]\n",
    "sample_dataframe['mean_anger'], sample_dataframe['mean_anticipation'], sample_dataframe['mean_disgust'], sample_dataframe['mean_fear'], sample_dataframe['mean_joy'], sample_dataframe['mean_negative'], sample_dataframe['mean_positive'], sample_dataframe['mean_sadness'], sample_dataframe['mean_surprise'], sample_dataframe['mean_trust'] = np.flipud(np.rot90(all_emotions))"
   ]
  },
  {
   "cell_type": "code",
   "execution_count": 42,
   "metadata": {},
   "outputs": [],
   "source": [
    "def add_embeddings(token_list, vector_length):\n",
    "    token_list=[token for token in token_list if token.has_vector]\n",
    "    doc_matrix=np.zeros([len(token_list), vector_length])\n",
    "    for i in range(len(doc_matrix)):\n",
    "        doc_matrix[i]=token_list[i].vector\n",
    "    return np.average(doc_matrix, axis=0)"
   ]
  },
  {
   "cell_type": "code",
   "execution_count": 43,
   "metadata": {},
   "outputs": [
    {
     "output_type": "stream",
     "name": "stdout",
     "text": [
      "Wall time: 1.44 s\n"
     ]
    }
   ],
   "source": [
    "%%time\n",
    "vector_length=nlp.vocab.vectors_length\n",
    "sample_dataframe['embeddings']=[add_embeddings(entry, vector_length) for entry in sample_dataframe['token_list']]"
   ]
  },
  {
   "cell_type": "code",
   "execution_count": 44,
   "metadata": {},
   "outputs": [
    {
     "output_type": "execute_result",
     "data": {
      "text/plain": [
       "  character            movie_title  year  is_villain  \\\n",
       "0  MACREEDY  Bad Day at Black Rock  1995       False   \n",
       "1    HECTOR  Bad Day at Black Rock  1995        True   \n",
       "2       DOC  Bad Day at Black Rock  1995       False   \n",
       "3     SMITH  Bad Day at Black Rock  1995       False   \n",
       "4       LIZ  Bad Day at Black Rock  1995       False   \n",
       "\n",
       "                                        raw_dialogue  num_words  \\\n",
       "0  I'll only be here twentyfour hours. That's rig...       2305   \n",
       "1  Find Smith! GOD BLESS AMERICA glued to Macreed...        400   \n",
       "2  Who Why ask me He's no salesman, that's sure. ...       1110   \n",
       "3  Sit down. Sit down. Doesn't push easy What do ...       1421   \n",
       "4  I can manage. It'll be two dollars an hour, ga...        401   \n",
       "\n",
       "                                          token_list  mean_anger  \\\n",
       "0  [twentyfour, hours, right, grin, Probably, thi...    0.050114   \n",
       "1  [Find, Smith, GOD, BLESS, AMERICA, glued, Macr...    0.090909   \n",
       "2  [ask, salesman, sure, grin, peddling, dynamite...    0.035088   \n",
       "3  [Sit, Sit, push, easy, want, Doc, wonder, talk...    0.072727   \n",
       "4  [manage, dollars, hour, gas, extra, dollars, t...    0.028169   \n",
       "\n",
       "   mean_anticipation  mean_disgust  mean_fear  mean_joy  mean_negative  \\\n",
       "0           0.100228      0.045558   0.129841  0.059226       0.207289   \n",
       "1           0.125000      0.136364   0.068182  0.090909       0.204545   \n",
       "2           0.118421      0.065789   0.092105  0.061404       0.206140   \n",
       "3           0.116364      0.069091   0.120000  0.032727       0.210909   \n",
       "4           0.154930      0.014085   0.070423  0.014085       0.112676   \n",
       "\n",
       "   mean_positive  mean_sadness  mean_surprise  mean_trust  \\\n",
       "0       0.168565      0.136674       0.059226    0.141230   \n",
       "1       0.170455      0.068182       0.068182    0.159091   \n",
       "2       0.157895      0.122807       0.057018    0.092105   \n",
       "3       0.101818      0.101818       0.065455    0.087273   \n",
       "4       0.154930      0.098592       0.042254    0.098592   \n",
       "\n",
       "                                          embeddings  \n",
       "0  [-0.05360775204635609, 0.13671957931861364, -0...  \n",
       "1  [-0.1295891623623902, 0.07702989907156735, -0....  \n",
       "2  [-0.052376541407746474, 0.09626584564088855, -...  \n",
       "3  [-0.09854166424143915, 0.09306020818229836, -0...  \n",
       "4  [-0.05106351753455345, 0.13368790789886756, -0...  "
      ],
      "text/html": "<div>\n<style scoped>\n    .dataframe tbody tr th:only-of-type {\n        vertical-align: middle;\n    }\n\n    .dataframe tbody tr th {\n        vertical-align: top;\n    }\n\n    .dataframe thead th {\n        text-align: right;\n    }\n</style>\n<table border=\"1\" class=\"dataframe\">\n  <thead>\n    <tr style=\"text-align: right;\">\n      <th></th>\n      <th>character</th>\n      <th>movie_title</th>\n      <th>year</th>\n      <th>is_villain</th>\n      <th>raw_dialogue</th>\n      <th>num_words</th>\n      <th>token_list</th>\n      <th>mean_anger</th>\n      <th>mean_anticipation</th>\n      <th>mean_disgust</th>\n      <th>mean_fear</th>\n      <th>mean_joy</th>\n      <th>mean_negative</th>\n      <th>mean_positive</th>\n      <th>mean_sadness</th>\n      <th>mean_surprise</th>\n      <th>mean_trust</th>\n      <th>embeddings</th>\n    </tr>\n  </thead>\n  <tbody>\n    <tr>\n      <th>0</th>\n      <td>MACREEDY</td>\n      <td>Bad Day at Black Rock</td>\n      <td>1995</td>\n      <td>False</td>\n      <td>I'll only be here twentyfour hours. That's rig...</td>\n      <td>2305</td>\n      <td>[twentyfour, hours, right, grin, Probably, thi...</td>\n      <td>0.050114</td>\n      <td>0.100228</td>\n      <td>0.045558</td>\n      <td>0.129841</td>\n      <td>0.059226</td>\n      <td>0.207289</td>\n      <td>0.168565</td>\n      <td>0.136674</td>\n      <td>0.059226</td>\n      <td>0.141230</td>\n      <td>[-0.05360775204635609, 0.13671957931861364, -0...</td>\n    </tr>\n    <tr>\n      <th>1</th>\n      <td>HECTOR</td>\n      <td>Bad Day at Black Rock</td>\n      <td>1995</td>\n      <td>True</td>\n      <td>Find Smith! GOD BLESS AMERICA glued to Macreed...</td>\n      <td>400</td>\n      <td>[Find, Smith, GOD, BLESS, AMERICA, glued, Macr...</td>\n      <td>0.090909</td>\n      <td>0.125000</td>\n      <td>0.136364</td>\n      <td>0.068182</td>\n      <td>0.090909</td>\n      <td>0.204545</td>\n      <td>0.170455</td>\n      <td>0.068182</td>\n      <td>0.068182</td>\n      <td>0.159091</td>\n      <td>[-0.1295891623623902, 0.07702989907156735, -0....</td>\n    </tr>\n    <tr>\n      <th>2</th>\n      <td>DOC</td>\n      <td>Bad Day at Black Rock</td>\n      <td>1995</td>\n      <td>False</td>\n      <td>Who Why ask me He's no salesman, that's sure. ...</td>\n      <td>1110</td>\n      <td>[ask, salesman, sure, grin, peddling, dynamite...</td>\n      <td>0.035088</td>\n      <td>0.118421</td>\n      <td>0.065789</td>\n      <td>0.092105</td>\n      <td>0.061404</td>\n      <td>0.206140</td>\n      <td>0.157895</td>\n      <td>0.122807</td>\n      <td>0.057018</td>\n      <td>0.092105</td>\n      <td>[-0.052376541407746474, 0.09626584564088855, -...</td>\n    </tr>\n    <tr>\n      <th>3</th>\n      <td>SMITH</td>\n      <td>Bad Day at Black Rock</td>\n      <td>1995</td>\n      <td>False</td>\n      <td>Sit down. Sit down. Doesn't push easy What do ...</td>\n      <td>1421</td>\n      <td>[Sit, Sit, push, easy, want, Doc, wonder, talk...</td>\n      <td>0.072727</td>\n      <td>0.116364</td>\n      <td>0.069091</td>\n      <td>0.120000</td>\n      <td>0.032727</td>\n      <td>0.210909</td>\n      <td>0.101818</td>\n      <td>0.101818</td>\n      <td>0.065455</td>\n      <td>0.087273</td>\n      <td>[-0.09854166424143915, 0.09306020818229836, -0...</td>\n    </tr>\n    <tr>\n      <th>4</th>\n      <td>LIZ</td>\n      <td>Bad Day at Black Rock</td>\n      <td>1995</td>\n      <td>False</td>\n      <td>I can manage. It'll be two dollars an hour, ga...</td>\n      <td>401</td>\n      <td>[manage, dollars, hour, gas, extra, dollars, t...</td>\n      <td>0.028169</td>\n      <td>0.154930</td>\n      <td>0.014085</td>\n      <td>0.070423</td>\n      <td>0.014085</td>\n      <td>0.112676</td>\n      <td>0.154930</td>\n      <td>0.098592</td>\n      <td>0.042254</td>\n      <td>0.098592</td>\n      <td>[-0.05106351753455345, 0.13368790789886756, -0...</td>\n    </tr>\n  </tbody>\n</table>\n</div>"
     },
     "metadata": {},
     "execution_count": 44
    }
   ],
   "source": [
    "sample_dataframe.head()"
   ]
  },
  {
   "cell_type": "code",
   "execution_count": 45,
   "metadata": {},
   "outputs": [],
   "source": [
    "sample_dataframe.to_csv(\"mystery_movie_data.csv\")"
   ]
  }
 ]
}