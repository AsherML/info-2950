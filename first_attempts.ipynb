{
 "metadata": {
  "language_info": {
   "codemirror_mode": {
    "name": "ipython",
    "version": 3
   },
   "file_extension": ".py",
   "mimetype": "text/x-python",
   "name": "python",
   "nbconvert_exporter": "python",
   "pygments_lexer": "ipython3",
   "version": "3.8.3-final"
  },
  "orig_nbformat": 2,
  "kernelspec": {
   "name": "python3",
   "display_name": "Python 3",
   "language": "python"
  }
 },
 "nbformat": 4,
 "nbformat_minor": 2,
 "cells": [
  {
   "cell_type": "code",
   "execution_count": 1,
   "metadata": {},
   "outputs": [],
   "source": [
    "import os\n",
    "import string\n",
    "from sklearn.feature_extraction.text import TfidfVectorizer\n",
    "import spacy"
   ]
  },
  {
   "cell_type": "code",
   "execution_count": 3,
   "metadata": {},
   "outputs": [],
   "source": [
    "def check_if_character(line, punct_set):\n",
    "    if \"(\" in line:\n",
    "        line=line[:line.index(\"(\")].strip()\n",
    "    elif \"{\" in line:\n",
    "        line=line[:line.index(\"{\")].strip()\n",
    "    elif '[' in line:\n",
    "        line=line[:line.index('[')].strip()\n",
    "    if line.upper()==line and line.isupper() and line[-1] not in punct_set and line.count(' ')<4:\n",
    "        if \"/\" in line:\n",
    "            line=line[:line.index('/')-1].strip()\n",
    "        return True, line\n",
    "    else:\n",
    "        return False, \"\"\n",
    "\n",
    "        \n"
   ]
  },
  {
   "cell_type": "code",
   "execution_count": 22,
   "metadata": {
    "tags": []
   },
   "outputs": [],
   "source": [
    "unacceptable_starters=[\"VOICE (cont'd)\", \"VOICE (CONT'D)\", \"VOICE OVER (CONT'D)\", \"VOICE OVER (cont'd)\", \"DISSOLVE\", \"CUT\", \"CUT TO\", 'FADE', 'FADE OUT', 'FADE IN', 'PAN', 'CONTINUED', \"CONT'D\", '', ' ', \"VOICE\", \"VOICE OVER\", 'CUT TO', 'DISSOLVE TO', 'THE END', 'FADE TO BLACK', \"DISSOLVE TO:\", \"CUT TO:\", \"FADE TO:\"]\n",
    "\n",
    "test_set=[\"blackdahliathe_dialog.txt\", \"basicinstinct_dialog.txt\", \"basic_dialog.txt\",\"girlwiththedragontattoothe_dialog.txt\", \"manhattanmurdermystery_dialog.txt\", 'afewgoodmen_dialog.txt', \"8mm_dialog.txt\", \"backdraft_dialog.txt\"]\n",
    "\n",
    "movie_character_dict={}\n",
    "punct_remover=str.maketrans('','', string.punctuation)\n",
    "\n",
    "for movie in test_set:\n",
    "    path=os.path.join(\"scripts\", \"samples\", movie)\n",
    "\n",
    "    with open(path, \"r\", encoding=\"ISO-8859-1\") as f:\n",
    "        movie_script=f.readlines()\n",
    "        title=\"\"\n",
    "        start_of_content=False\n",
    "        current_character=\"\"       \n",
    "      \n",
    "        for line in movie_script:\n",
    "            line=line.strip()\n",
    "\n",
    "            #checks for the title and the first character, otherwise skips the header stuff\n",
    "            if not start_of_content:\n",
    "                line=line.strip('\"')\n",
    "                if title==\"\" and line.translate(punct_remover)==line and line not in unacceptable_starters:\n",
    "                    title=line\n",
    "                    movie_character_dict[title]={}\n",
    "                is_character, current_character = check_if_character(line, string.punctuation)\n",
    "                if is_character and (current_character not in unacceptable_starters):\n",
    "                    start_of_content=True\n",
    "                    movie_character_dict[title][current_character]=[]\n",
    "            \n",
    "            #if in the middle of the script and you have a current character, check if this line is a new character otherwise add the dialogue to this character's list\n",
    "            else:\n",
    "                is_new_character, new_character_name=check_if_character(line, string.punctuation)\n",
    "                if is_new_character:\n",
    "                    current_character=new_character_name\n",
    "                    if new_character_name not in unacceptable_starters and new_character_name not in movie_character_dict[title]:\n",
    "                        movie_character_dict[title][new_character_name]=[]\n",
    "                else:\n",
    "                    if current_character in unacceptable_starters:\n",
    "                        pass\n",
    "                    else:\n",
    "                        if len(line)>0 and line[0]!='(' and line[-1]!=')':\n",
    "                            for word in line.split(' '):\n",
    "                                if len(word)>0:\n",
    "                                    movie_character_dict[title][current_character].append(word.strip(string.punctuation))\n",
    "                            \n",
    "            \n",
    "\n",
    "\n",
    "\n",
    "\n"
   ]
  },
  {
   "cell_type": "code",
   "execution_count": 12,
   "metadata": {},
   "outputs": [],
   "source": [
    "amalgamated_dialogues=[]\n",
    "for movie in movie_character_dict:\n",
    "    for character in movie_character_dict[movie]:\n",
    "        amalgamated_dialogues.append(movie_character_dict[movie][character])"
   ]
  },
  {
   "cell_type": "code",
   "execution_count": 36,
   "metadata": {},
   "outputs": [
    {
     "output_type": "execute_result",
     "data": {
      "text/plain": [
       "dict_keys(['MORELL', 'VANGER', 'BLOMKVIST', 'REPORTER 1', 'REPORTER 2', 'NEWSCASTER', 'TV NEWSCASTER', 'WENNERSTROM ON TV', 'ERIKA', 'ARMANSKY', 'FRODE', 'SECRETAR', 'SALANDER', 'GREGER', 'ANNIKA', 'GREGOR', 'PERNILLA', 'DOCTOR', 'PLAGUE', 'HUSSEIN', 'NILSSON', 'DET. MORELL', 'YOUNGER VANGER', 'BJURMAN', 'LIV', 'MARTIN', 'CECILIA', 'TECH', 'SECRETARY', 'ANITA', 'HARRIET', 'TATTOO ARTIST', 'ANNOUNCER', 'REPORTER 3', 'PHOTO EDITOR', 'DET. ISAKSSON', 'BLOMVIST', 'ISABELLA', 'BIRGER', 'NURSE', 'HARRIE', 'UDDEVALLY DETECTIVE', 'UDDEVALLA DETECTIVE', 'TECH CLERK', 'CLERK 1', 'CLERK 2', 'FORSMAN', 'MILDRED', 'LINDGREN', 'HARALD', 'TRINITY', 'WENNERSTROM', 'REPORTER', 'FSA OFFICIAL', 'LAWYER', 'IMMIGRATION OFFICIAL', 'WAGNER', 'HASSELMAN', 'ZURICH REPORTER', 'ZURICH REPORTER ON TV', 'REPORTER ON TV', 'BARISTA', 'TAILOR'])"
      ]
     },
     "metadata": {},
     "execution_count": 36
    }
   ],
   "source": [
    "movie_character_dict[''].keys()"
   ]
  },
  {
   "cell_type": "code",
   "execution_count": 25,
   "metadata": {},
   "outputs": [],
   "source": [
    "# movie_character_dict['The Black Dahlia']['LEE BLANCHARD']+=movie_character_dict['The Black Dahlia'].pop('LEE')\n",
    "# movie_character_dict['The Black Dahlia']['ELLIS LOEW']+=movie_character_dict['The Black Dahlia'].pop('LOEW')\n",
    "# movie_character_dict['BASIC INSTINCT']['THE I.A. MAN']+=movie_character_dict['BASIC INSTINCT'].pop('AN I.A. MAN')\n",
    "# movie_character_dict['Basic']['DUNBAR']+=movie_character_dict['Basic'].pop('DUN BAR')\n",
    "# movie_character_dict['Basic']['MUELLER']+=movie_character_dict['Basic'].pop('MUE:LLER')\n",
    "# movie_character_dict['Basic']['MUELLER']+=['I', 'got', 'a','friend','with','an','in','at','the','PX','can','hook','you','up']\n",
    "# movie_character_dict['Basic']['DUNBAR']+=['I', 'got', 'a','friend','with','an','in','at','the','PX','can','hook','you','up']\n",
    "# movie_character_dict['Basic'].pop('MUELLER AND DUNBAR')"
   ]
  }
 ]
}